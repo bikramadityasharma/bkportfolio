{
 "cells": [
  {
   "cell_type": "markdown",
   "metadata": {
    "colab_type": "text",
    "id": "zUZjPnVXGz0Z"
   },
   "source": [
    "# The Iris Dataset\n",
    "The data set consists of 50 samples from each of three species of Iris (Iris setosa, Iris virginica and Iris versicolor). Four features were measured from each sample: the length and the width of the sepals and petals, in centimeters.\n",
    "\n",
    "The dataset contains a set of 150 records under five attributes - petal length, petal width, sepal length, sepal width and species."
   ]
  },
  {
   "cell_type": "markdown",
   "metadata": {
    "colab_type": "text",
    "id": "RMbmpriavLE9"
   },
   "source": [
    "### Specifying the TensorFlow version\n",
    "Running `import tensorflow` will import the default version (currently 1.x). You can use 2.x by running a cell with the `tensorflow_version` magic **before** you run `import tensorflow`."
   ]
  },
  {
   "cell_type": "code",
   "execution_count": 45,
   "metadata": {
    "colab": {},
    "colab_type": "code",
    "id": "fu8bUU__oa7h"
   },
   "outputs": [],
   "source": [
    "#%tensorflow_version 2.x"
   ]
  },
  {
   "cell_type": "markdown",
   "metadata": {
    "colab_type": "text",
    "id": "bLz1Ckvfvn6D"
   },
   "source": [
    "### Import TensorFlow\n",
    "Once you have specified a version via this magic, you can run `import tensorflow` as normal and verify which version was imported as follows:"
   ]
  },
  {
   "cell_type": "code",
   "execution_count": 46,
   "metadata": {
    "colab": {},
    "colab_type": "code",
    "id": "CWrzVTLOvn6M"
   },
   "outputs": [
    {
     "name": "stdout",
     "output_type": "stream",
     "text": [
      "2.0.0\n"
     ]
    }
   ],
   "source": [
    "import tensorflow as tf\n",
    "print(tf.__version__)"
   ]
  },
  {
   "cell_type": "markdown",
   "metadata": {
    "colab_type": "text",
    "id": "_uYeJgkNuXNC"
   },
   "source": [
    "### Set random seed"
   ]
  },
  {
   "cell_type": "code",
   "execution_count": 47,
   "metadata": {
    "colab": {},
    "colab_type": "code",
    "id": "lcASNsewsfQX"
   },
   "outputs": [],
   "source": [
    "tf.random.set_seed(42)"
   ]
  },
  {
   "cell_type": "markdown",
   "metadata": {
    "colab_type": "text",
    "id": "5-vVQBBqg7DI"
   },
   "source": [
    "## Question 1"
   ]
  },
  {
   "cell_type": "markdown",
   "metadata": {
    "colab_type": "text",
    "id": "kE0EDKvQhEIe"
   },
   "source": [
    "### Import dataset\n",
    "- Import iris dataset\n",
    "- Import the dataset using sklearn library"
   ]
  },
  {
   "cell_type": "code",
   "execution_count": 48,
   "metadata": {
    "colab": {},
    "colab_type": "code",
    "id": "IOOWpD26Haq3"
   },
   "outputs": [],
   "source": [
    "from sklearn import datasets\n",
    "iris = datasets.load_iris()"
   ]
  },
  {
   "cell_type": "markdown",
   "metadata": {
    "colab_type": "text",
    "id": "ta8YqInTh5v5"
   },
   "source": [
    "## Question 2"
   ]
  },
  {
   "cell_type": "markdown",
   "metadata": {
    "colab_type": "text",
    "id": "HERt3drbhX0i"
   },
   "source": [
    "### Get features and label from the dataset in separate variable\n",
    "- you can get the features using .data method\n",
    "- you can get the features using .target method"
   ]
  },
  {
   "cell_type": "code",
   "execution_count": 49,
   "metadata": {
    "colab": {},
    "colab_type": "code",
    "id": "0cV-_qHAHyvE"
   },
   "outputs": [
    {
     "name": "stdout",
     "output_type": "stream",
     "text": [
      "(150, 4)\n",
      "(150,)\n"
     ]
    },
    {
     "data": {
      "text/plain": [
       "array([0, 0, 0, 0, 0, 0, 0, 0, 0, 0, 0, 0, 0, 0, 0, 0, 0, 0, 0, 0, 0, 0,\n",
       "       0, 0, 0, 0, 0, 0, 0, 0, 0, 0, 0, 0, 0, 0, 0, 0, 0, 0, 0, 0, 0, 0,\n",
       "       0, 0, 0, 0, 0, 0, 1, 1, 1, 1, 1, 1, 1, 1, 1, 1, 1, 1, 1, 1, 1, 1,\n",
       "       1, 1, 1, 1, 1, 1, 1, 1, 1, 1, 1, 1, 1, 1, 1, 1, 1, 1, 1, 1, 1, 1,\n",
       "       1, 1, 1, 1, 1, 1, 1, 1, 1, 1, 1, 1, 2, 2, 2, 2, 2, 2, 2, 2, 2, 2,\n",
       "       2, 2, 2, 2, 2, 2, 2, 2, 2, 2, 2, 2, 2, 2, 2, 2, 2, 2, 2, 2, 2, 2,\n",
       "       2, 2, 2, 2, 2, 2, 2, 2, 2, 2, 2, 2, 2, 2, 2, 2, 2, 2])"
      ]
     },
     "execution_count": 49,
     "metadata": {},
     "output_type": "execute_result"
    }
   ],
   "source": [
    "X = iris.data\n",
    "y = iris.target\n",
    "print(X.shape)\n",
    "print(y.shape)\n",
    "X\n",
    "y"
   ]
  },
  {
   "cell_type": "markdown",
   "metadata": {
    "colab_type": "text",
    "id": "Qg1A2lkUjFak"
   },
   "source": [
    "## Question 3"
   ]
  },
  {
   "cell_type": "markdown",
   "metadata": {
    "colab_type": "text",
    "id": "3YErwYLCH0N_"
   },
   "source": [
    "### Create train and test data\n",
    "- use train_test_split to get train and test set\n",
    "- set a random_state\n",
    "- test_size: 0.25"
   ]
  },
  {
   "cell_type": "code",
   "execution_count": 50,
   "metadata": {
    "colab": {},
    "colab_type": "code",
    "id": "TYKNJL85h7pQ"
   },
   "outputs": [
    {
     "data": {
      "text/plain": [
       "(112, 4)"
      ]
     },
     "execution_count": 50,
     "metadata": {},
     "output_type": "execute_result"
    }
   ],
   "source": [
    "from sklearn.model_selection import train_test_split\n",
    "from scipy.stats import zscore\n",
    "from scipy import stats\n",
    "X_train, X_test, y_train, y_test = train_test_split(X, y, test_size=0.25, random_state=1)\n",
    "X_train_z = stats.zscore(X_train) \n",
    "X_test_z = stats.zscore(X_test)\n",
    "X_train.shape"
   ]
  },
  {
   "cell_type": "markdown",
   "metadata": {
    "colab_type": "text",
    "id": "g0KVP17Ozaix"
   },
   "source": [
    "## Question 4"
   ]
  },
  {
   "cell_type": "markdown",
   "metadata": {
    "colab_type": "text",
    "id": "SIjqxbhWv1zv"
   },
   "source": [
    "### One-hot encode the labels\n",
    "- convert class vectors (integers) to binary class matrix\n",
    "- convert labels\n",
    "- number of classes: 3\n",
    "- we are doing this to use categorical_crossentropy as loss"
   ]
  },
  {
   "cell_type": "code",
   "execution_count": 51,
   "metadata": {
    "colab": {},
    "colab_type": "code",
    "id": "R9vv-_gpyLY9"
   },
   "outputs": [],
   "source": [
    "trainY = tf.keras.utils.to_categorical(y_train, num_classes=3)\n",
    "testY = tf.keras.utils.to_categorical(y_test, num_classes=3)\n"
   ]
  },
  {
   "cell_type": "markdown",
   "metadata": {
    "colab_type": "text",
    "id": "ovjLyYzWkO9s"
   },
   "source": [
    "## Question 5"
   ]
  },
  {
   "cell_type": "markdown",
   "metadata": {
    "colab_type": "text",
    "id": "hbIFzoPNSyYo"
   },
   "source": [
    "### Initialize a sequential model\n",
    "- Define a sequential model"
   ]
  },
  {
   "cell_type": "code",
   "execution_count": 52,
   "metadata": {
    "colab": {},
    "colab_type": "code",
    "id": "4FvSbf1UjHtl"
   },
   "outputs": [],
   "source": [
    "#Initialize Sequential model\n",
    "model = tf.keras.models.Sequential()\n",
    "\n",
    "#Normalize the data\n",
    "#model.add(tf.keras.layers.BatchNormalization())"
   ]
  },
  {
   "cell_type": "markdown",
   "metadata": {
    "colab_type": "text",
    "id": "dGMy999vlacX"
   },
   "source": [
    "## Question 6"
   ]
  },
  {
   "cell_type": "markdown",
   "metadata": {
    "colab_type": "text",
    "id": "72ibK5Jxm8iL"
   },
   "source": [
    "### Add a layer\n",
    "- Use Dense Layer  with input shape of 4 (according to the feature set) and number of outputs set to 3\n",
    "- Apply Softmax on Dense Layer outputs"
   ]
  },
  {
   "cell_type": "code",
   "execution_count": 53,
   "metadata": {
    "colab": {},
    "colab_type": "code",
    "id": "uZKrBNSRm_o9"
   },
   "outputs": [],
   "source": [
    "\n",
    "#Add OUTPUT layer\n",
    "model.add(tf.keras.layers.Dense(3,input_shape=(4,), activation='softmax'))"
   ]
  },
  {
   "cell_type": "markdown",
   "metadata": {
    "colab_type": "text",
    "id": "i4uiTH8plmNX"
   },
   "source": [
    "## Question 7"
   ]
  },
  {
   "cell_type": "markdown",
   "metadata": {
    "colab_type": "text",
    "id": "yJL8n8vcSyYz"
   },
   "source": [
    "### Compile the model\n",
    "- Use SGD as Optimizer\n",
    "- Use categorical_crossentropy as loss function\n",
    "- Use accuracy as metrics"
   ]
  },
  {
   "cell_type": "code",
   "execution_count": 54,
   "metadata": {
    "colab": {},
    "colab_type": "code",
    "id": "Tc_-fjIEk1ve"
   },
   "outputs": [],
   "source": [
    "#Compile the model\n",
    "model.compile(optimizer='sgd', loss='categorical_crossentropy', \n",
    "              metrics=['accuracy'])"
   ]
  },
  {
   "cell_type": "markdown",
   "metadata": {
    "colab_type": "text",
    "id": "sihIGbRll_jT"
   },
   "source": [
    "## Question 8"
   ]
  },
  {
   "cell_type": "markdown",
   "metadata": {
    "colab_type": "text",
    "id": "54ZZCfNGlu0i"
   },
   "source": [
    "### Summarize the model\n",
    "- Check model layers\n",
    "- Understand number of trainable parameters"
   ]
  },
  {
   "cell_type": "code",
   "execution_count": 56,
   "metadata": {
    "colab": {},
    "colab_type": "code",
    "id": "elER3F_4ln8n"
   },
   "outputs": [
    {
     "name": "stdout",
     "output_type": "stream",
     "text": [
      "Model: \"sequential_3\"\n",
      "_________________________________________________________________\n",
      "Layer (type)                 Output Shape              Param #   \n",
      "=================================================================\n",
      "dense_6 (Dense)              (None, 3)                 15        \n",
      "=================================================================\n",
      "Total params: 15\n",
      "Trainable params: 15\n",
      "Non-trainable params: 0\n",
      "_________________________________________________________________\n"
     ]
    }
   ],
   "source": [
    "model.summary()"
   ]
  },
  {
   "cell_type": "code",
   "execution_count": null,
   "metadata": {},
   "outputs": [],
   "source": [
    "'''\n",
    "Since there 4 features and 3 labels, thus traininable parameters become 3x4 + 3 = 15 parameters\n",
    "'''"
   ]
  },
  {
   "cell_type": "markdown",
   "metadata": {
    "colab_type": "text",
    "id": "2PiP7j3Vmj4p"
   },
   "source": [
    "## Question 9"
   ]
  },
  {
   "cell_type": "markdown",
   "metadata": {
    "colab_type": "text",
    "id": "rWdbfFCXmCHt"
   },
   "source": [
    "### Fit the model\n",
    "- Give train data as training features and labels\n",
    "- Epochs: 100\n",
    "- Give validation data as testing features and labels"
   ]
  },
  {
   "cell_type": "code",
   "execution_count": 59,
   "metadata": {
    "colab": {},
    "colab_type": "code",
    "id": "cO1c-5tjmBVZ"
   },
   "outputs": [
    {
     "name": "stdout",
     "output_type": "stream",
     "text": [
      "Train on 112 samples, validate on 38 samples\n",
      "Epoch 1/100\n",
      "112/112 [==============================] - 0s 558us/sample - loss: 0.3203 - accuracy: 0.9375 - val_loss: 0.4129 - val_accuracy: 0.7632\n",
      "Epoch 2/100\n",
      "112/112 [==============================] - 0s 279us/sample - loss: 0.3178 - accuracy: 0.9107 - val_loss: 0.3874 - val_accuracy: 0.8421\n",
      "Epoch 3/100\n",
      "112/112 [==============================] - 0s 279us/sample - loss: 0.3148 - accuracy: 0.9286 - val_loss: 0.3660 - val_accuracy: 0.8684\n",
      "Epoch 4/100\n",
      "112/112 [==============================] - 0s 723us/sample - loss: 0.3114 - accuracy: 0.9375 - val_loss: 0.3811 - val_accuracy: 0.8684\n",
      "Epoch 5/100\n",
      "112/112 [==============================] - 0s 599us/sample - loss: 0.3118 - accuracy: 0.9464 - val_loss: 0.3808 - val_accuracy: 0.8684\n",
      "Epoch 6/100\n",
      "112/112 [==============================] - 0s 605us/sample - loss: 0.3090 - accuracy: 0.9464 - val_loss: 0.3967 - val_accuracy: 0.7895\n",
      "Epoch 7/100\n",
      "112/112 [==============================] - 0s 514us/sample - loss: 0.3155 - accuracy: 0.9286 - val_loss: 0.3872 - val_accuracy: 0.8158\n",
      "Epoch 8/100\n",
      "112/112 [==============================] - 0s 667us/sample - loss: 0.3087 - accuracy: 0.9464 - val_loss: 0.3462 - val_accuracy: 0.9474\n",
      "Epoch 9/100\n",
      "112/112 [==============================] - 0s 677us/sample - loss: 0.3051 - accuracy: 0.9286 - val_loss: 0.3307 - val_accuracy: 0.8947\n",
      "Epoch 10/100\n",
      "112/112 [==============================] - 0s 615us/sample - loss: 0.3040 - accuracy: 0.9375 - val_loss: 0.3739 - val_accuracy: 0.8684\n",
      "Epoch 11/100\n",
      "112/112 [==============================] - 0s 607us/sample - loss: 0.3035 - accuracy: 0.9286 - val_loss: 0.3637 - val_accuracy: 0.8684\n",
      "Epoch 12/100\n",
      "112/112 [==============================] - 0s 393us/sample - loss: 0.2999 - accuracy: 0.9554 - val_loss: 0.3466 - val_accuracy: 0.9211\n",
      "Epoch 13/100\n",
      "112/112 [==============================] - 0s 538us/sample - loss: 0.3004 - accuracy: 0.9464 - val_loss: 0.3782 - val_accuracy: 0.8684\n",
      "Epoch 14/100\n",
      "112/112 [==============================] - 0s 574us/sample - loss: 0.3026 - accuracy: 0.9375 - val_loss: 0.3681 - val_accuracy: 0.8684\n",
      "Epoch 15/100\n",
      "112/112 [==============================] - 0s 571us/sample - loss: 0.3042 - accuracy: 0.9464 - val_loss: 0.4266 - val_accuracy: 0.7105\n",
      "Epoch 16/100\n",
      "112/112 [==============================] - 0s 566us/sample - loss: 0.3059 - accuracy: 0.9375 - val_loss: 0.3614 - val_accuracy: 0.8684\n",
      "Epoch 17/100\n",
      "112/112 [==============================] - 0s 536us/sample - loss: 0.3027 - accuracy: 0.9375 - val_loss: 0.3668 - val_accuracy: 0.8684\n",
      "Epoch 18/100\n",
      "112/112 [==============================] - 0s 464us/sample - loss: 0.2993 - accuracy: 0.9464 - val_loss: 0.3249 - val_accuracy: 0.9474\n",
      "Epoch 19/100\n",
      "112/112 [==============================] - 0s 428us/sample - loss: 0.3027 - accuracy: 0.9286 - val_loss: 0.3251 - val_accuracy: 0.9474\n",
      "Epoch 20/100\n",
      "112/112 [==============================] - 0s 428us/sample - loss: 0.2941 - accuracy: 0.9464 - val_loss: 0.3222 - val_accuracy: 0.9474\n",
      "Epoch 21/100\n",
      "112/112 [==============================] - 0s 500us/sample - loss: 0.2979 - accuracy: 0.9286 - val_loss: 0.3648 - val_accuracy: 0.8684\n",
      "Epoch 22/100\n",
      "112/112 [==============================] - 0s 821us/sample - loss: 0.2917 - accuracy: 0.9375 - val_loss: 0.3686 - val_accuracy: 0.8684\n",
      "Epoch 23/100\n",
      "112/112 [==============================] - 0s 632us/sample - loss: 0.2913 - accuracy: 0.9464 - val_loss: 0.3552 - val_accuracy: 0.8684\n",
      "Epoch 24/100\n",
      "112/112 [==============================] - 0s 1ms/sample - loss: 0.2902 - accuracy: 0.9464 - val_loss: 0.3213 - val_accuracy: 0.9474\n",
      "Epoch 25/100\n",
      "112/112 [==============================] - 0s 740us/sample - loss: 0.2903 - accuracy: 0.9375 - val_loss: 0.3296 - val_accuracy: 0.9474\n",
      "Epoch 26/100\n",
      "112/112 [==============================] - 0s 750us/sample - loss: 0.2900 - accuracy: 0.9464 - val_loss: 0.3263 - val_accuracy: 0.9474\n",
      "Epoch 27/100\n",
      "112/112 [==============================] - 0s 571us/sample - loss: 0.2890 - accuracy: 0.9554 - val_loss: 0.3099 - val_accuracy: 0.9211\n",
      "Epoch 28/100\n",
      "112/112 [==============================] - 0s 793us/sample - loss: 0.2925 - accuracy: 0.9554 - val_loss: 0.3289 - val_accuracy: 0.9474\n",
      "Epoch 29/100\n",
      "112/112 [==============================] - 0s 733us/sample - loss: 0.2877 - accuracy: 0.9554 - val_loss: 0.3543 - val_accuracy: 0.8684\n",
      "Epoch 30/100\n",
      "112/112 [==============================] - 0s 571us/sample - loss: 0.2815 - accuracy: 0.9554 - val_loss: 0.3418 - val_accuracy: 0.8947\n",
      "Epoch 31/100\n",
      "112/112 [==============================] - 0s 750us/sample - loss: 0.2855 - accuracy: 0.9554 - val_loss: 0.3176 - val_accuracy: 0.9474\n",
      "Epoch 32/100\n",
      "112/112 [==============================] - 0s 678us/sample - loss: 0.2832 - accuracy: 0.9554 - val_loss: 0.3788 - val_accuracy: 0.7895\n",
      "Epoch 33/100\n",
      "112/112 [==============================] - 0s 714us/sample - loss: 0.2843 - accuracy: 0.9375 - val_loss: 0.3233 - val_accuracy: 0.9474\n",
      "Epoch 34/100\n",
      "112/112 [==============================] - 0s 714us/sample - loss: 0.2821 - accuracy: 0.9464 - val_loss: 0.3297 - val_accuracy: 0.9474\n",
      "Epoch 35/100\n",
      "112/112 [==============================] - 0s 571us/sample - loss: 0.2804 - accuracy: 0.9554 - val_loss: 0.3279 - val_accuracy: 0.9474\n",
      "Epoch 36/100\n",
      "112/112 [==============================] - 0s 464us/sample - loss: 0.2785 - accuracy: 0.9464 - val_loss: 0.3243 - val_accuracy: 0.9474\n",
      "Epoch 37/100\n",
      "112/112 [==============================] - 0s 393us/sample - loss: 0.2795 - accuracy: 0.9554 - val_loss: 0.3312 - val_accuracy: 0.9211\n",
      "Epoch 38/100\n",
      "112/112 [==============================] - 0s 714us/sample - loss: 0.2771 - accuracy: 0.9464 - val_loss: 0.3625 - val_accuracy: 0.8421\n",
      "Epoch 39/100\n",
      "112/112 [==============================] - 0s 500us/sample - loss: 0.2791 - accuracy: 0.9375 - val_loss: 0.3002 - val_accuracy: 0.9211\n",
      "Epoch 40/100\n",
      "112/112 [==============================] - 0s 928us/sample - loss: 0.2817 - accuracy: 0.9286 - val_loss: 0.3500 - val_accuracy: 0.8684\n",
      "Epoch 41/100\n",
      "112/112 [==============================] - 0s 607us/sample - loss: 0.2764 - accuracy: 0.9554 - val_loss: 0.3905 - val_accuracy: 0.7895\n",
      "Epoch 42/100\n",
      "112/112 [==============================] - 0s 464us/sample - loss: 0.2810 - accuracy: 0.9286 - val_loss: 0.3510 - val_accuracy: 0.8684\n",
      "Epoch 43/100\n",
      "112/112 [==============================] - 0s 321us/sample - loss: 0.2754 - accuracy: 0.9554 - val_loss: 0.3165 - val_accuracy: 0.9474\n",
      "Epoch 44/100\n",
      "112/112 [==============================] - 0s 500us/sample - loss: 0.2708 - accuracy: 0.9554 - val_loss: 0.3515 - val_accuracy: 0.8684\n",
      "Epoch 45/100\n",
      "112/112 [==============================] - 0s 536us/sample - loss: 0.2741 - accuracy: 0.9464 - val_loss: 0.3101 - val_accuracy: 0.9474\n",
      "Epoch 46/100\n",
      "112/112 [==============================] - 0s 643us/sample - loss: 0.2781 - accuracy: 0.9554 - val_loss: 0.3493 - val_accuracy: 0.8684\n",
      "Epoch 47/100\n",
      "112/112 [==============================] - 0s 753us/sample - loss: 0.2701 - accuracy: 0.9464 - val_loss: 0.3466 - val_accuracy: 0.8684\n",
      "Epoch 48/100\n",
      "112/112 [==============================] - 0s 532us/sample - loss: 0.2720 - accuracy: 0.9375 - val_loss: 0.3323 - val_accuracy: 0.8947\n",
      "Epoch 49/100\n",
      "112/112 [==============================] - 0s 393us/sample - loss: 0.2684 - accuracy: 0.9643 - val_loss: 0.4005 - val_accuracy: 0.7368\n",
      "Epoch 50/100\n",
      "112/112 [==============================] - 0s 357us/sample - loss: 0.2729 - accuracy: 0.9464 - val_loss: 0.3012 - val_accuracy: 0.9474\n",
      "Epoch 51/100\n",
      "112/112 [==============================] - 0s 464us/sample - loss: 0.2682 - accuracy: 0.9732 - val_loss: 0.3385 - val_accuracy: 0.8684\n",
      "Epoch 52/100\n",
      "112/112 [==============================] - 0s 500us/sample - loss: 0.2665 - accuracy: 0.9464 - val_loss: 0.3864 - val_accuracy: 0.7895\n",
      "Epoch 53/100\n",
      "112/112 [==============================] - 0s 610us/sample - loss: 0.2745 - accuracy: 0.9286 - val_loss: 0.3529 - val_accuracy: 0.8421\n",
      "Epoch 54/100\n",
      "112/112 [==============================] - 0s 491us/sample - loss: 0.2632 - accuracy: 0.9554 - val_loss: 0.2975 - val_accuracy: 0.9474\n",
      "Epoch 55/100\n",
      "112/112 [==============================] - 0s 393us/sample - loss: 0.2644 - accuracy: 0.9554 - val_loss: 0.3426 - val_accuracy: 0.8684\n",
      "Epoch 56/100\n"
     ]
    },
    {
     "name": "stdout",
     "output_type": "stream",
     "text": [
      "112/112 [==============================] - 0s 393us/sample - loss: 0.2666 - accuracy: 0.9375 - val_loss: 0.3170 - val_accuracy: 0.9474\n",
      "Epoch 57/100\n",
      "112/112 [==============================] - 0s 357us/sample - loss: 0.2683 - accuracy: 0.9464 - val_loss: 0.3313 - val_accuracy: 0.8684\n",
      "Epoch 58/100\n",
      "112/112 [==============================] - 0s 265us/sample - loss: 0.2639 - accuracy: 0.9554 - val_loss: 0.3558 - val_accuracy: 0.8421\n",
      "Epoch 59/100\n",
      "112/112 [==============================] - 0s 204us/sample - loss: 0.2649 - accuracy: 0.9643 - val_loss: 0.3498 - val_accuracy: 0.8421\n",
      "Epoch 60/100\n",
      "112/112 [==============================] - 0s 266us/sample - loss: 0.2622 - accuracy: 0.9375 - val_loss: 0.2925 - val_accuracy: 0.9474\n",
      "Epoch 61/100\n",
      "112/112 [==============================] - 0s 515us/sample - loss: 0.2640 - accuracy: 0.9554 - val_loss: 0.3266 - val_accuracy: 0.8947\n",
      "Epoch 62/100\n",
      "112/112 [==============================] - 0s 398us/sample - loss: 0.2610 - accuracy: 0.9554 - val_loss: 0.3544 - val_accuracy: 0.8421\n",
      "Epoch 63/100\n",
      "112/112 [==============================] - 0s 586us/sample - loss: 0.2601 - accuracy: 0.9464 - val_loss: 0.2910 - val_accuracy: 0.9474\n",
      "Epoch 64/100\n",
      "112/112 [==============================] - 0s 490us/sample - loss: 0.2601 - accuracy: 0.9643 - val_loss: 0.3117 - val_accuracy: 0.9474\n",
      "Epoch 65/100\n",
      "112/112 [==============================] - 0s 542us/sample - loss: 0.2573 - accuracy: 0.9554 - val_loss: 0.3323 - val_accuracy: 0.8684\n",
      "Epoch 66/100\n",
      "112/112 [==============================] - 0s 436us/sample - loss: 0.2625 - accuracy: 0.9464 - val_loss: 0.3391 - val_accuracy: 0.8684\n",
      "Epoch 67/100\n",
      "112/112 [==============================] - 0s 387us/sample - loss: 0.2626 - accuracy: 0.9643 - val_loss: 0.3282 - val_accuracy: 0.8684\n",
      "Epoch 68/100\n",
      "112/112 [==============================] - 0s 485us/sample - loss: 0.2563 - accuracy: 0.9464 - val_loss: 0.3357 - val_accuracy: 0.8684\n",
      "Epoch 69/100\n",
      "112/112 [==============================] - 0s 390us/sample - loss: 0.2542 - accuracy: 0.9554 - val_loss: 0.2936 - val_accuracy: 0.9474\n",
      "Epoch 70/100\n",
      "112/112 [==============================] - 0s 422us/sample - loss: 0.2569 - accuracy: 0.9643 - val_loss: 0.2995 - val_accuracy: 0.9474\n",
      "Epoch 71/100\n",
      "112/112 [==============================] - 0s 424us/sample - loss: 0.2527 - accuracy: 0.9732 - val_loss: 0.2794 - val_accuracy: 0.9211\n",
      "Epoch 72/100\n",
      "112/112 [==============================] - 0s 313us/sample - loss: 0.2567 - accuracy: 0.9643 - val_loss: 0.3150 - val_accuracy: 0.9211\n",
      "Epoch 73/100\n",
      "112/112 [==============================] - 0s 480us/sample - loss: 0.2527 - accuracy: 0.9554 - val_loss: 0.3603 - val_accuracy: 0.8158\n",
      "Epoch 74/100\n",
      "112/112 [==============================] - 0s 411us/sample - loss: 0.2578 - accuracy: 0.9464 - val_loss: 0.3113 - val_accuracy: 0.9474\n",
      "Epoch 75/100\n",
      "112/112 [==============================] - 0s 423us/sample - loss: 0.2554 - accuracy: 0.9554 - val_loss: 0.3476 - val_accuracy: 0.8421\n",
      "Epoch 76/100\n",
      "112/112 [==============================] - 0s 302us/sample - loss: 0.2565 - accuracy: 0.9464 - val_loss: 0.2958 - val_accuracy: 0.9474\n",
      "Epoch 77/100\n",
      "112/112 [==============================] - 0s 520us/sample - loss: 0.2505 - accuracy: 0.9643 - val_loss: 0.3240 - val_accuracy: 0.8684\n",
      "Epoch 78/100\n",
      "112/112 [==============================] - 0s 387us/sample - loss: 0.2535 - accuracy: 0.9375 - val_loss: 0.2858 - val_accuracy: 0.9474\n",
      "Epoch 79/100\n",
      "112/112 [==============================] - 0s 568us/sample - loss: 0.2485 - accuracy: 0.9643 - val_loss: 0.2785 - val_accuracy: 0.9474\n",
      "Epoch 80/100\n",
      "112/112 [==============================] - 0s 635us/sample - loss: 0.2508 - accuracy: 0.9643 - val_loss: 0.3087 - val_accuracy: 0.9474\n",
      "Epoch 81/100\n",
      "112/112 [==============================] - 0s 643us/sample - loss: 0.2487 - accuracy: 0.9643 - val_loss: 0.2912 - val_accuracy: 0.9474\n",
      "Epoch 82/100\n",
      "112/112 [==============================] - 0s 379us/sample - loss: 0.2475 - accuracy: 0.9554 - val_loss: 0.3065 - val_accuracy: 0.9474\n",
      "Epoch 83/100\n",
      "112/112 [==============================] - 0s 428us/sample - loss: 0.2463 - accuracy: 0.9643 - val_loss: 0.3187 - val_accuracy: 0.8684\n",
      "Epoch 84/100\n",
      "112/112 [==============================] - 0s 583us/sample - loss: 0.2451 - accuracy: 0.9643 - val_loss: 0.3030 - val_accuracy: 0.9474\n",
      "Epoch 85/100\n",
      "112/112 [==============================] - 0s 456us/sample - loss: 0.2454 - accuracy: 0.9732 - val_loss: 0.3398 - val_accuracy: 0.8421\n",
      "Epoch 86/100\n",
      "112/112 [==============================] - 0s 428us/sample - loss: 0.2491 - accuracy: 0.9554 - val_loss: 0.2849 - val_accuracy: 0.9474\n",
      "Epoch 87/100\n",
      "112/112 [==============================] - 0s 428us/sample - loss: 0.2467 - accuracy: 0.9554 - val_loss: 0.2899 - val_accuracy: 0.9474\n",
      "Epoch 88/100\n",
      "112/112 [==============================] - 0s 315us/sample - loss: 0.2462 - accuracy: 0.9464 - val_loss: 0.3077 - val_accuracy: 0.9211\n",
      "Epoch 89/100\n",
      "112/112 [==============================] - 0s 451us/sample - loss: 0.2445 - accuracy: 0.9554 - val_loss: 0.2924 - val_accuracy: 0.9474\n",
      "Epoch 90/100\n",
      "112/112 [==============================] - 0s 357us/sample - loss: 0.2415 - accuracy: 0.9643 - val_loss: 0.2784 - val_accuracy: 0.9474\n",
      "Epoch 91/100\n",
      "112/112 [==============================] - 0s 413us/sample - loss: 0.2439 - accuracy: 0.9554 - val_loss: 0.2730 - val_accuracy: 0.9474\n",
      "Epoch 92/100\n",
      "112/112 [==============================] - 0s 466us/sample - loss: 0.2452 - accuracy: 0.9554 - val_loss: 0.2738 - val_accuracy: 0.9474\n",
      "Epoch 93/100\n",
      "112/112 [==============================] - 0s 428us/sample - loss: 0.2395 - accuracy: 0.9643 - val_loss: 0.3002 - val_accuracy: 0.9474\n",
      "Epoch 94/100\n",
      "112/112 [==============================] - 0s 428us/sample - loss: 0.2431 - accuracy: 0.9554 - val_loss: 0.2800 - val_accuracy: 0.9474\n",
      "Epoch 95/100\n",
      "112/112 [==============================] - 0s 337us/sample - loss: 0.2410 - accuracy: 0.9732 - val_loss: 0.2795 - val_accuracy: 0.9474\n",
      "Epoch 96/100\n",
      "112/112 [==============================] - 0s 445us/sample - loss: 0.2381 - accuracy: 0.9643 - val_loss: 0.3249 - val_accuracy: 0.8684\n",
      "Epoch 97/100\n",
      "112/112 [==============================] - 0s 393us/sample - loss: 0.2404 - accuracy: 0.9554 - val_loss: 0.2860 - val_accuracy: 0.9474\n",
      "Epoch 98/100\n",
      "112/112 [==============================] - 0s 357us/sample - loss: 0.2358 - accuracy: 0.9732 - val_loss: 0.2878 - val_accuracy: 0.9474\n",
      "Epoch 99/100\n",
      "112/112 [==============================] - 0s 536us/sample - loss: 0.2388 - accuracy: 0.9732 - val_loss: 0.3013 - val_accuracy: 0.9474\n",
      "Epoch 100/100\n",
      "112/112 [==============================] - 0s 500us/sample - loss: 0.2379 - accuracy: 0.9464 - val_loss: 0.2961 - val_accuracy: 0.9474\n"
     ]
    },
    {
     "data": {
      "text/plain": [
       "<tensorflow.python.keras.callbacks.History at 0x247ed278f98>"
      ]
     },
     "execution_count": 59,
     "metadata": {},
     "output_type": "execute_result"
    }
   ],
   "source": [
    "model.fit(X_train,trainY,          \n",
    "          validation_data=(X_test,testY),\n",
    "          epochs=100,\n",
    "          batch_size=10)"
   ]
  },
  {
   "cell_type": "markdown",
   "metadata": {
    "colab_type": "text",
    "id": "re9ItAR3yS3J"
   },
   "source": [
    "## Question 10"
   ]
  },
  {
   "cell_type": "markdown",
   "metadata": {
    "colab_type": "text",
    "id": "liw0IFf9yVqH"
   },
   "source": [
    "### Make predictions\n",
    " Predict labels on one row"
   ]
  },
  {
   "cell_type": "code",
   "execution_count": 85,
   "metadata": {
    "colab": {},
    "colab_type": "code",
    "id": "H5sBybi6mlLl"
   },
   "outputs": [
    {
     "name": "stdout",
     "output_type": "stream",
     "text": [
      "Predicted value [0.00211538 0.33162868 0.666256  ]\n",
      "Predicted Label:  2\n"
     ]
    }
   ],
   "source": [
    "pred = model.predict(X_test)\n",
    "print (\"Predicted value\", pred[4,:])\n",
    "\n",
    "import numpy as np\n",
    "predicted_num = np.argmax(pred[4])\n",
    "\n",
    "#Print the number\n",
    "print(\"Predicted Label: \",predicted_num)"
   ]
  },
  {
   "cell_type": "markdown",
   "metadata": {
    "colab_type": "text",
    "id": "hSUgMq3m0bG7"
   },
   "source": [
    "### Compare the prediction with actual label\n",
    "- Print the same row as done in the previous step but of actual labels"
   ]
  },
  {
   "cell_type": "code",
   "execution_count": 69,
   "metadata": {
    "colab": {},
    "colab_type": "code",
    "id": "K5WbwVPyz-qQ"
   },
   "outputs": [
    {
     "name": "stdout",
     "output_type": "stream",
     "text": [
      "Input feature set:  [7.9 3.8 6.4 2. ]\n",
      "Label:  2\n"
     ]
    }
   ],
   "source": [
    "print (\"Input feature set: \",X_test[4])\n",
    "print (\"Actual Label: \",y_test[4])\n"
   ]
  },
  {
   "cell_type": "code",
   "execution_count": null,
   "metadata": {
    "colab_type": "text",
    "id": "FrTKwbgE7NFT"
   },
   "outputs": [],
   "source": []
  },
  {
   "cell_type": "markdown",
   "metadata": {
    "colab_type": "text",
    "id": "a1UBYPNp5Tn1"
   },
   "source": [
    "# Stock prices dataset\n",
    "The data is of tock exchange's stock listings for each trading day of 2010 to 2016.\n",
    "\n",
    "## Description\n",
    "A brief description of columns.\n",
    "- open: The opening market price of the equity symbol on the date\n",
    "- high: The highest market price of the equity symbol on the date\n",
    "- low: The lowest recorded market price of the equity symbol on the date\n",
    "- close: The closing recorded price of the equity symbol on the date\n",
    "- symbol: Symbol of the listed company\n",
    "- volume: Total traded volume of the equity symbol on the date\n",
    "- date: Date of record"
   ]
  },
  {
   "cell_type": "markdown",
   "metadata": {
    "colab_type": "text",
    "id": "ctH_ZW5g-M3g"
   },
   "source": [
    "### Specifying the TensorFlow version\n",
    "Running `import tensorflow` will import the default version (currently 1.x). You can use 2.x by running a cell with the `tensorflow_version` magic **before** you run `import tensorflow`."
   ]
  },
  {
   "cell_type": "code",
   "execution_count": 87,
   "metadata": {
    "colab": {},
    "colab_type": "code",
    "id": "vQbdODpH-M3r"
   },
   "outputs": [],
   "source": [
    "#%tensorflow_version 2.x"
   ]
  },
  {
   "cell_type": "markdown",
   "metadata": {
    "colab_type": "text",
    "id": "nFQWH1tj-M38"
   },
   "source": [
    "### Import TensorFlow\n",
    "Once you have specified a version via this magic, you can run `import tensorflow` as normal and verify which version was imported as follows:"
   ]
  },
  {
   "cell_type": "code",
   "execution_count": 88,
   "metadata": {
    "colab": {},
    "colab_type": "code",
    "id": "Ho5n-xhd-M3_"
   },
   "outputs": [
    {
     "name": "stdout",
     "output_type": "stream",
     "text": [
      "2.0.0\n"
     ]
    }
   ],
   "source": [
    "import tensorflow as tf\n",
    "print(tf.__version__)"
   ]
  },
  {
   "cell_type": "markdown",
   "metadata": {
    "colab_type": "text",
    "id": "tgkl0qu6-M4F"
   },
   "source": [
    "### Set random seed"
   ]
  },
  {
   "cell_type": "code",
   "execution_count": 89,
   "metadata": {
    "colab": {},
    "colab_type": "code",
    "id": "TKgTyuA3-M4G"
   },
   "outputs": [],
   "source": [
    "tf.random.set_seed(42)"
   ]
  },
  {
   "cell_type": "markdown",
   "metadata": {
    "colab_type": "text",
    "id": "_88voqAH-O6J"
   },
   "source": [
    "## Question 1"
   ]
  },
  {
   "cell_type": "markdown",
   "metadata": {
    "colab_type": "text",
    "id": "dRHCeJqP-evf"
   },
   "source": [
    "### Load the data\n",
    "- load the csv file and read it using pandas\n",
    "- file name is prices.csv"
   ]
  },
  {
   "cell_type": "code",
   "execution_count": 0,
   "metadata": {
    "colab": {},
    "colab_type": "code",
    "id": "cKVH5v7r-RmC"
   },
   "outputs": [],
   "source": [
    "# run this cell to upload file if you are using google colab\n",
    "#from google.colab import files\n",
    "#files.upload()"
   ]
  },
  {
   "cell_type": "code",
   "execution_count": 133,
   "metadata": {
    "colab": {},
    "colab_type": "code",
    "id": "-gDC6cSW_FSK"
   },
   "outputs": [
    {
     "name": "stdout",
     "output_type": "stream",
     "text": [
      "(851264, 7)\n"
     ]
    },
    {
     "data": {
      "text/html": [
       "<div>\n",
       "<style scoped>\n",
       "    .dataframe tbody tr th:only-of-type {\n",
       "        vertical-align: middle;\n",
       "    }\n",
       "\n",
       "    .dataframe tbody tr th {\n",
       "        vertical-align: top;\n",
       "    }\n",
       "\n",
       "    .dataframe thead th {\n",
       "        text-align: right;\n",
       "    }\n",
       "</style>\n",
       "<table border=\"1\" class=\"dataframe\">\n",
       "  <thead>\n",
       "    <tr style=\"text-align: right;\">\n",
       "      <th></th>\n",
       "      <th>date</th>\n",
       "      <th>symbol</th>\n",
       "      <th>open</th>\n",
       "      <th>close</th>\n",
       "      <th>low</th>\n",
       "      <th>high</th>\n",
       "      <th>volume</th>\n",
       "    </tr>\n",
       "  </thead>\n",
       "  <tbody>\n",
       "    <tr>\n",
       "      <th>0</th>\n",
       "      <td>2016-01-05 00:00:00</td>\n",
       "      <td>WLTW</td>\n",
       "      <td>123.430000</td>\n",
       "      <td>125.839996</td>\n",
       "      <td>122.309998</td>\n",
       "      <td>126.250000</td>\n",
       "      <td>2163600.0</td>\n",
       "    </tr>\n",
       "    <tr>\n",
       "      <th>1</th>\n",
       "      <td>2016-01-06 00:00:00</td>\n",
       "      <td>WLTW</td>\n",
       "      <td>125.239998</td>\n",
       "      <td>119.980003</td>\n",
       "      <td>119.940002</td>\n",
       "      <td>125.540001</td>\n",
       "      <td>2386400.0</td>\n",
       "    </tr>\n",
       "    <tr>\n",
       "      <th>2</th>\n",
       "      <td>2016-01-07 00:00:00</td>\n",
       "      <td>WLTW</td>\n",
       "      <td>116.379997</td>\n",
       "      <td>114.949997</td>\n",
       "      <td>114.930000</td>\n",
       "      <td>119.739998</td>\n",
       "      <td>2489500.0</td>\n",
       "    </tr>\n",
       "    <tr>\n",
       "      <th>3</th>\n",
       "      <td>2016-01-08 00:00:00</td>\n",
       "      <td>WLTW</td>\n",
       "      <td>115.480003</td>\n",
       "      <td>116.620003</td>\n",
       "      <td>113.500000</td>\n",
       "      <td>117.440002</td>\n",
       "      <td>2006300.0</td>\n",
       "    </tr>\n",
       "    <tr>\n",
       "      <th>4</th>\n",
       "      <td>2016-01-11 00:00:00</td>\n",
       "      <td>WLTW</td>\n",
       "      <td>117.010002</td>\n",
       "      <td>114.970001</td>\n",
       "      <td>114.089996</td>\n",
       "      <td>117.330002</td>\n",
       "      <td>1408600.0</td>\n",
       "    </tr>\n",
       "  </tbody>\n",
       "</table>\n",
       "</div>"
      ],
      "text/plain": [
       "                  date symbol        open       close         low        high  \\\n",
       "0  2016-01-05 00:00:00   WLTW  123.430000  125.839996  122.309998  126.250000   \n",
       "1  2016-01-06 00:00:00   WLTW  125.239998  119.980003  119.940002  125.540001   \n",
       "2  2016-01-07 00:00:00   WLTW  116.379997  114.949997  114.930000  119.739998   \n",
       "3  2016-01-08 00:00:00   WLTW  115.480003  116.620003  113.500000  117.440002   \n",
       "4  2016-01-11 00:00:00   WLTW  117.010002  114.970001  114.089996  117.330002   \n",
       "\n",
       "      volume  \n",
       "0  2163600.0  \n",
       "1  2386400.0  \n",
       "2  2489500.0  \n",
       "3  2006300.0  \n",
       "4  1408600.0  "
      ]
     },
     "execution_count": 133,
     "metadata": {},
     "output_type": "execute_result"
    }
   ],
   "source": [
    "import numpy as np\n",
    "import pandas as pd\n",
    "\n",
    "df = pd.read_csv(\"prices.csv\")\n",
    "print(df.shape)\n",
    "df.head()"
   ]
  },
  {
   "cell_type": "markdown",
   "metadata": {
    "colab_type": "text",
    "id": "HlLKVPVH_BCT"
   },
   "source": [
    "## Question 2"
   ]
  },
  {
   "cell_type": "markdown",
   "metadata": {
    "colab_type": "text",
    "id": "9J4BlzVA_gZd"
   },
   "source": [
    "### Drop columnns\n",
    "- drop \"date\" and \"symbol\" column from the data"
   ]
  },
  {
   "cell_type": "code",
   "execution_count": 134,
   "metadata": {
    "colab": {},
    "colab_type": "code",
    "id": "IKEK8aEE_Csx"
   },
   "outputs": [
    {
     "data": {
      "text/html": [
       "<div>\n",
       "<style scoped>\n",
       "    .dataframe tbody tr th:only-of-type {\n",
       "        vertical-align: middle;\n",
       "    }\n",
       "\n",
       "    .dataframe tbody tr th {\n",
       "        vertical-align: top;\n",
       "    }\n",
       "\n",
       "    .dataframe thead th {\n",
       "        text-align: right;\n",
       "    }\n",
       "</style>\n",
       "<table border=\"1\" class=\"dataframe\">\n",
       "  <thead>\n",
       "    <tr style=\"text-align: right;\">\n",
       "      <th></th>\n",
       "      <th>open</th>\n",
       "      <th>close</th>\n",
       "      <th>low</th>\n",
       "      <th>high</th>\n",
       "      <th>volume</th>\n",
       "    </tr>\n",
       "  </thead>\n",
       "  <tbody>\n",
       "    <tr>\n",
       "      <th>0</th>\n",
       "      <td>123.430000</td>\n",
       "      <td>125.839996</td>\n",
       "      <td>122.309998</td>\n",
       "      <td>126.250000</td>\n",
       "      <td>2163600.0</td>\n",
       "    </tr>\n",
       "    <tr>\n",
       "      <th>1</th>\n",
       "      <td>125.239998</td>\n",
       "      <td>119.980003</td>\n",
       "      <td>119.940002</td>\n",
       "      <td>125.540001</td>\n",
       "      <td>2386400.0</td>\n",
       "    </tr>\n",
       "    <tr>\n",
       "      <th>2</th>\n",
       "      <td>116.379997</td>\n",
       "      <td>114.949997</td>\n",
       "      <td>114.930000</td>\n",
       "      <td>119.739998</td>\n",
       "      <td>2489500.0</td>\n",
       "    </tr>\n",
       "    <tr>\n",
       "      <th>3</th>\n",
       "      <td>115.480003</td>\n",
       "      <td>116.620003</td>\n",
       "      <td>113.500000</td>\n",
       "      <td>117.440002</td>\n",
       "      <td>2006300.0</td>\n",
       "    </tr>\n",
       "    <tr>\n",
       "      <th>4</th>\n",
       "      <td>117.010002</td>\n",
       "      <td>114.970001</td>\n",
       "      <td>114.089996</td>\n",
       "      <td>117.330002</td>\n",
       "      <td>1408600.0</td>\n",
       "    </tr>\n",
       "  </tbody>\n",
       "</table>\n",
       "</div>"
      ],
      "text/plain": [
       "         open       close         low        high     volume\n",
       "0  123.430000  125.839996  122.309998  126.250000  2163600.0\n",
       "1  125.239998  119.980003  119.940002  125.540001  2386400.0\n",
       "2  116.379997  114.949997  114.930000  119.739998  2489500.0\n",
       "3  115.480003  116.620003  113.500000  117.440002  2006300.0\n",
       "4  117.010002  114.970001  114.089996  117.330002  1408600.0"
      ]
     },
     "execution_count": 134,
     "metadata": {},
     "output_type": "execute_result"
    }
   ],
   "source": [
    "df2 = df.drop(columns = ['date','symbol'])\n",
    "df2.head()"
   ]
  },
  {
   "cell_type": "markdown",
   "metadata": {
    "colab_type": "text",
    "id": "cTPhO6v-AiZt"
   },
   "source": [
    "## Question 3"
   ]
  },
  {
   "cell_type": "markdown",
   "metadata": {
    "colab_type": "text",
    "id": "SsZXmF3NAkna"
   },
   "source": [
    "### Take initial rows\n",
    "- Take first 1000 rows from the data\n",
    "- This step is done to make the execution faster"
   ]
  },
  {
   "cell_type": "code",
   "execution_count": 135,
   "metadata": {
    "colab": {},
    "colab_type": "code",
    "id": "aKs04iIHAjxN"
   },
   "outputs": [
    {
     "data": {
      "text/plain": [
       "(1000, 5)"
      ]
     },
     "execution_count": 135,
     "metadata": {},
     "output_type": "execute_result"
    }
   ],
   "source": [
    "df1000 = df2.iloc[0:1000,:]\n",
    "df1000.shape"
   ]
  },
  {
   "cell_type": "markdown",
   "metadata": {
    "colab_type": "text",
    "id": "6vGtnapgBIJm"
   },
   "source": [
    "## Question 4"
   ]
  },
  {
   "cell_type": "markdown",
   "metadata": {
    "colab_type": "text",
    "id": "C8u_jlbABTip"
   },
   "source": [
    "### Get features and label from the dataset in separate variable\n",
    "- Take \"open\", \"close\", \"low\", \"high\" columns as features\n",
    "- Take \"volume\" column as label\n",
    "- Normalize label column by dividing it with 1000000"
   ]
  },
  {
   "cell_type": "code",
   "execution_count": 139,
   "metadata": {
    "colab": {},
    "colab_type": "code",
    "id": "xQjCMzUXBJbg"
   },
   "outputs": [
    {
     "data": {
      "text/plain": [
       "0       2.1636\n",
       "1       2.3864\n",
       "2       2.4895\n",
       "3       2.0063\n",
       "4       1.4086\n",
       "5       1.0980\n",
       "6       0.9496\n",
       "7       0.7853\n",
       "8       1.0937\n",
       "9       1.5235\n",
       "10      1.6539\n",
       "11      0.9443\n",
       "12      0.7449\n",
       "13      0.7038\n",
       "14      0.5631\n",
       "15      0.8961\n",
       "16      0.6804\n",
       "17      0.7499\n",
       "18      0.5742\n",
       "19      0.6948\n",
       "20      0.8963\n",
       "21      0.9563\n",
       "22      0.9971\n",
       "23      1.2005\n",
       "24      1.7252\n",
       "25      1.9460\n",
       "26      1.3195\n",
       "27      0.9224\n",
       "28      1.1851\n",
       "29      0.9215\n",
       "        ...   \n",
       "970     9.0975\n",
       "971     2.2421\n",
       "972     6.2051\n",
       "973     0.8646\n",
       "974     0.7092\n",
       "975     1.1296\n",
       "976     3.4493\n",
       "977     7.5171\n",
       "978     2.3565\n",
       "979     4.8392\n",
       "980     3.6846\n",
       "981    14.4284\n",
       "982     1.4633\n",
       "983     0.7496\n",
       "984    13.3551\n",
       "985    11.5383\n",
       "986     9.9313\n",
       "987    12.9060\n",
       "988     0.3699\n",
       "989     2.7010\n",
       "990     2.6278\n",
       "991     3.2587\n",
       "992     5.2061\n",
       "993     7.0990\n",
       "994     7.7955\n",
       "995     2.1332\n",
       "996     1.9824\n",
       "997    37.1528\n",
       "998     6.5686\n",
       "999     5.6043\n",
       "Name: volume, Length: 1000, dtype: float64"
      ]
     },
     "execution_count": 139,
     "metadata": {},
     "output_type": "execute_result"
    }
   ],
   "source": [
    "y= df1000['volume']\n",
    "X= df1000.drop(columns='volume')\n",
    "y_norm = y/1000000\n",
    "y_norm"
   ]
  },
  {
   "cell_type": "markdown",
   "metadata": {
    "colab_type": "text",
    "id": "aTAKzlxZBz0z"
   },
   "source": [
    "## Question 5"
   ]
  },
  {
   "cell_type": "markdown",
   "metadata": {
    "colab_type": "text",
    "id": "IfY8Km1Zzyt2"
   },
   "source": [
    "### Convert data\n",
    "- Convert features and labels to numpy array\n",
    "- Convert their data type to \"float32\""
   ]
  },
  {
   "cell_type": "code",
   "execution_count": 140,
   "metadata": {
    "colab": {},
    "colab_type": "code",
    "id": "Ko7nnQVbYENh"
   },
   "outputs": [
    {
     "data": {
      "text/plain": [
       "array([2.163600e+00, 2.386400e+00, 2.489500e+00, 2.006300e+00,\n",
       "       1.408600e+00, 1.098000e+00, 9.496000e-01, 7.853000e-01,\n",
       "       1.093700e+00, 1.523500e+00, 1.653900e+00, 9.443000e-01,\n",
       "       7.449000e-01, 7.038000e-01, 5.631000e-01, 8.961000e-01,\n",
       "       6.804000e-01, 7.499000e-01, 5.742000e-01, 6.948000e-01,\n",
       "       8.963000e-01, 9.563000e-01, 9.971000e-01, 1.200500e+00,\n",
       "       1.725200e+00, 1.946000e+00, 1.319500e+00, 9.224000e-01,\n",
       "       1.185100e+00, 9.215000e-01, 4.409000e-01, 1.244300e+00,\n",
       "       6.813000e-01, 4.112000e-01, 4.473000e-01, 5.592000e-01,\n",
       "       4.599000e-01, 9.716000e-01, 6.941000e-01, 1.159600e+00,\n",
       "       8.847000e-01, 6.920000e-01, 8.980000e-01, 8.445000e-01,\n",
       "       7.965000e-01, 4.168000e-01, 5.902000e-01, 4.951000e-01,\n",
       "       5.158000e-01, 5.621000e-01, 8.093000e-01, 1.607300e+00,\n",
       "       1.001300e+00, 7.114000e-01, 4.442000e-01, 5.341000e-01,\n",
       "       7.982000e-01, 5.910000e-01, 4.432000e-01, 5.780000e-01,\n",
       "       7.651000e-01, 5.143000e-01, 1.150000e+00, 2.035300e+00,\n",
       "       7.022000e-01, 6.891000e-01, 5.532000e-01, 7.759000e-01,\n",
       "       6.217000e-01, 3.581000e-01, 9.393000e-01, 7.355000e-01,\n",
       "       9.246000e-01, 6.588000e-01, 1.055400e+00, 6.953000e-01,\n",
       "       4.600000e-01, 5.329000e-01, 4.626000e-01, 9.107000e-01,\n",
       "       8.896000e-01, 7.347000e-01, 1.304800e+00, 1.597300e+00,\n",
       "       1.917500e+00, 3.221500e+00, 9.198000e-01, 1.991600e+00,\n",
       "       5.948000e-01, 4.758000e-01, 7.151000e-01, 5.285000e-01,\n",
       "       5.800000e-01, 6.297000e-01, 5.982000e-01, 8.167000e-01,\n",
       "       6.408000e-01, 7.611000e-01, 4.621000e-01, 6.270000e-01,\n",
       "       7.225000e-01, 1.384200e+00, 4.415000e-01, 4.236000e-01,\n",
       "       4.967000e-01, 5.367000e-01, 4.294000e-01, 7.191000e-01,\n",
       "       3.945000e-01, 5.480000e-01, 2.633000e-01, 3.293000e-01,\n",
       "       3.787000e-01, 4.048000e-01, 6.593000e-01, 5.503000e-01,\n",
       "       4.856000e-01, 5.619000e-01, 5.123000e-01, 1.638000e+00,\n",
       "       8.844000e-01, 7.952000e-01, 1.049700e+00, 1.162100e+00,\n",
       "       8.584000e-01, 7.614000e-01, 7.499000e-01, 5.911000e-01,\n",
       "       6.928000e-01, 4.826000e-01, 8.440000e-01, 6.300000e-01,\n",
       "       5.671000e-01, 5.122000e-01, 4.622000e-01, 7.061000e-01,\n",
       "       5.339000e-01, 3.747000e-01, 3.738000e-01, 3.657000e-01,\n",
       "       3.139000e-01, 4.010000e-01, 2.755000e-01, 4.267000e-01,\n",
       "       5.746000e-01, 7.932000e-01, 4.469000e-01, 7.667000e-01,\n",
       "       1.865200e+00, 9.308000e-01, 5.027000e-01, 7.097000e-01,\n",
       "       5.639000e-01, 3.429000e-01, 4.788000e-01, 5.018000e-01,\n",
       "       4.103000e-01, 4.438000e-01, 1.414800e+00, 5.707000e-01,\n",
       "       3.913000e-01, 4.252000e-01, 5.263000e-01, 5.147000e-01,\n",
       "       4.565000e-01, 4.141000e-01, 4.645000e-01, 5.262000e-01,\n",
       "       4.873000e-01, 7.523000e-01, 6.325000e-01, 7.283000e-01,\n",
       "       6.411000e-01, 6.555000e-01, 4.889000e-01, 7.419000e-01,\n",
       "       7.134000e-01, 1.847200e+00, 3.107000e-01, 3.110000e-01,\n",
       "       9.277000e-01, 7.165000e-01, 7.970000e-01, 4.103000e-01,\n",
       "       5.036000e-01, 5.672000e-01, 1.504500e+00, 1.461900e+00,\n",
       "       1.142100e+00, 1.068500e+00, 7.002000e-01, 7.672000e-01,\n",
       "       8.551000e-01, 4.238000e-01, 5.757000e-01, 6.819000e-01,\n",
       "       5.403000e-01, 5.480000e-01, 5.645000e-01, 5.056000e-01,\n",
       "       4.356000e-01, 5.548000e-01, 4.966000e-01, 3.120000e-01,\n",
       "       4.147000e-01, 4.783000e-01, 4.170000e-01, 4.457000e-01,\n",
       "       4.592000e-01, 4.758000e-01, 6.932000e-01, 7.367000e-01,\n",
       "       3.531200e+00, 1.345600e+00, 9.676000e-01, 1.291600e+00,\n",
       "       1.524500e+00, 7.543000e-01, 1.089100e+00, 6.397000e-01,\n",
       "       8.184000e-01, 5.245000e-01, 8.190000e-01, 4.759000e-01,\n",
       "       1.011700e+00, 3.802000e-01, 2.840000e-01, 4.399000e-01,\n",
       "       3.529000e-01, 6.767000e-01, 8.987000e-01, 8.558000e-01,\n",
       "       6.047000e-01, 1.301200e+00, 9.283000e-01, 9.885000e-01,\n",
       "       9.434000e-01, 8.225000e-01, 1.168200e+00, 8.464000e-01,\n",
       "       8.266000e-01, 1.232700e+00, 9.376000e-01, 6.515000e-01,\n",
       "       6.146000e-01, 5.572000e-01, 3.619000e-01, 3.829000e-01,\n",
       "       4.299000e-01, 2.166000e-01, 4.664000e-01, 3.815500e+00,\n",
       "       9.837300e+00, 1.701700e+00, 1.234324e+02, 2.455900e+00,\n",
       "       1.082900e+01, 3.650100e+00, 4.710200e+00, 2.102700e+00,\n",
       "       3.472500e+00, 3.930100e+00, 7.943000e-01, 2.228600e+00,\n",
       "       1.299300e+00, 4.076600e+00, 4.597600e+00, 5.671300e+00,\n",
       "       2.362000e+00, 8.564000e-01, 7.750900e+00, 1.228200e+00,\n",
       "       3.793000e-01, 3.015600e+00, 7.129000e-01, 1.802400e+00,\n",
       "       2.631000e+00, 1.128200e+00, 1.861510e+01, 8.767000e-01,\n",
       "       3.061000e-01, 5.277400e+00, 2.238700e+00, 2.750500e+00,\n",
       "       7.599900e+00, 1.650400e+00, 4.641800e+00, 3.407100e+00,\n",
       "       2.364900e+00, 3.324500e+00, 1.131400e+00, 2.457200e+00,\n",
       "       1.151210e+01, 9.306600e+00, 1.483400e+00, 5.387000e-01,\n",
       "       1.301200e+00, 2.176100e+00, 6.894300e+00, 8.292000e-01,\n",
       "       4.083000e-01, 6.186700e+00, 1.808452e+02, 1.146750e+01,\n",
       "       2.971500e+00, 4.550800e+00, 6.433800e+00, 1.371800e+00,\n",
       "       1.793200e+00, 3.746700e+00, 5.888000e+00, 2.469700e+00,\n",
       "       6.127700e+00, 2.387000e-01, 1.234200e+00, 1.437610e+01,\n",
       "       1.433230e+01, 1.286000e+00, 1.511500e+00, 4.067930e+01,\n",
       "       3.385100e+00, 4.009700e+00, 3.824400e+00, 7.325600e+00,\n",
       "       2.670300e+00, 4.553000e+00, 6.710900e+00, 1.964100e+00,\n",
       "       5.372700e+00, 4.832000e+00, 3.055200e+00, 6.172000e+00,\n",
       "       2.232400e+00, 3.114680e+01, 8.229000e-01, 3.227300e+00,\n",
       "       1.261400e+00, 4.874200e+00, 1.014300e+00, 1.438400e+00,\n",
       "       1.357340e+01, 2.660500e+00, 3.139000e-01, 1.148600e+00,\n",
       "       5.875500e+00, 6.600000e-01, 2.239700e+00, 4.447400e+00,\n",
       "       4.514800e+00, 3.350600e+00, 8.281000e-01, 4.812000e-01,\n",
       "       1.388080e+01, 3.280200e+00, 1.574200e+00, 7.906000e+00,\n",
       "       5.985370e+01, 8.391000e+00, 1.051100e+00, 2.068100e+00,\n",
       "       5.765200e+00, 1.680700e+00, 1.467680e+01, 1.017380e+01,\n",
       "       3.025000e-01, 2.175500e+00, 1.448250e+01, 6.017600e+00,\n",
       "       3.974600e+00, 7.552600e+00, 4.372000e-01, 1.046000e+00,\n",
       "       5.799100e+00, 5.202600e+00, 1.370040e+01, 2.844100e+00,\n",
       "       5.354000e-01, 1.306900e+00, 3.059400e+00, 4.995000e-01,\n",
       "       1.502200e+00, 1.693300e+01, 1.199700e+00, 2.228100e+00,\n",
       "       1.421600e+00, 4.152100e+00, 1.910400e+00, 4.225500e+00,\n",
       "       3.850500e+00, 2.251160e+01, 1.009500e+00, 2.142300e+00,\n",
       "       7.507000e-01, 1.931500e+00, 3.508400e+00, 1.446400e+00,\n",
       "       3.781000e+00, 2.401200e+00, 4.110000e+00, 5.763000e-01,\n",
       "       3.299500e+00, 7.742000e-01, 1.206800e+00, 3.687800e+00,\n",
       "       4.480000e-01, 5.231900e+00, 2.347600e+00, 1.049400e+00,\n",
       "       1.030800e+00, 4.367600e+00, 1.062400e+00, 2.186500e+00,\n",
       "       7.744000e-01, 6.085580e+01, 3.432000e+00, 1.808240e+01,\n",
       "       3.215100e+00, 1.840900e+00, 6.749000e-01, 4.623700e+00,\n",
       "       2.536000e+00, 1.542910e+01, 1.873800e+00, 2.269800e+00,\n",
       "       3.553300e+00, 2.161800e+00, 1.789400e+00, 2.849400e+00,\n",
       "       1.651270e+01, 6.624000e-01, 1.636000e+00, 1.908400e+00,\n",
       "       4.030400e+00, 1.198500e+00, 6.707990e+01, 2.997000e+00,\n",
       "       1.680900e+01, 5.156400e+00, 1.653910e+01, 3.927000e+00,\n",
       "       3.908400e+00, 8.369000e-01, 2.533400e+00, 9.185600e+00,\n",
       "       2.098800e+00, 9.135000e+00, 3.905600e+00, 5.352000e-01,\n",
       "       1.157160e+01, 6.076000e-01, 1.652600e+00, 1.046280e+01,\n",
       "       3.658400e+00, 1.426600e+00, 4.278700e+00, 1.312090e+01,\n",
       "       3.729300e+00, 6.944100e+00, 2.904000e+00, 4.011600e+00,\n",
       "       7.389200e+00, 9.200000e-01, 2.795740e+01, 3.018000e+00,\n",
       "       2.705200e+00, 6.546000e-01, 7.948000e-01, 6.997800e+00,\n",
       "       1.048000e+00, 2.008500e+00, 6.155300e+00, 3.637000e+00,\n",
       "       3.252000e-01, 2.860000e-01, 1.793700e+00, 4.780090e+01,\n",
       "       2.353000e+00, 4.034900e+00, 4.444300e+00, 2.965200e+00,\n",
       "       9.955000e-01, 3.371000e-01, 2.728100e+00, 4.254200e+00,\n",
       "       1.876000e+00, 8.727000e+00, 1.728500e+00, 9.506200e+00,\n",
       "       3.332500e+00, 3.546050e+01, 2.816600e+00, 2.749000e+00,\n",
       "       1.490160e+01, 6.263800e+00, 2.827000e+00, 1.634900e+00,\n",
       "       2.122800e+00, 1.387040e+01, 1.271880e+01, 3.239900e+00,\n",
       "       6.135000e-01, 2.210900e+00, 3.959400e+00, 1.241400e+00,\n",
       "       4.493800e+00, 8.834000e-01, 1.656200e+00, 8.989000e-01,\n",
       "       2.887600e+00, 6.067100e+00, 2.408300e+00, 3.811400e+00,\n",
       "       1.332800e+00, 9.616700e+00, 1.856900e+00, 9.378000e-01,\n",
       "       9.625000e+00, 1.141850e+01, 8.823100e+00, 9.321000e+00,\n",
       "       3.858000e-01, 2.642400e+00, 2.860300e+00, 3.380500e+00,\n",
       "       2.975900e+00, 5.839300e+00, 1.518700e+00, 2.035200e+00,\n",
       "       1.859700e+00, 7.953300e+00, 6.109400e+00, 4.767000e+00,\n",
       "       4.970000e-01, 6.010500e+00, 4.900000e-01, 4.562000e-01,\n",
       "       3.680300e+00, 3.043700e+00, 3.880200e+00, 1.104860e+01,\n",
       "       3.424300e+00, 4.072100e+00, 1.389650e+01, 9.214200e+00,\n",
       "       3.840910e+01, 7.511700e+00, 7.210000e-01, 9.510000e-02,\n",
       "       3.441270e+01, 1.642300e+00, 3.611900e+00, 2.227600e+00,\n",
       "       2.171500e+00, 2.602200e+00, 5.625400e+00, 1.723960e+01,\n",
       "       1.164900e+00, 6.905600e+00, 1.197240e+01, 1.616100e+00,\n",
       "       5.385900e+00, 1.683700e+00, 1.884500e+00, 5.320100e+00,\n",
       "       1.967200e+00, 4.923600e+00, 2.000510e+01, 2.925800e+00,\n",
       "       8.769000e-01, 1.759600e+00, 1.670800e+00, 2.679500e+01,\n",
       "       1.278200e+00, 3.624100e+00, 3.731300e+00, 2.932200e+00,\n",
       "       2.040000e+00, 2.631700e+00, 2.041800e+00, 8.632000e-01,\n",
       "       1.519900e+00, 5.130400e+00, 6.585900e+00, 5.208600e+01,\n",
       "       3.470900e+00, 9.190800e+00, 4.619400e+00, 9.610000e-01,\n",
       "       6.121300e+00, 1.880200e+00, 1.169700e+00, 7.844500e+00,\n",
       "       4.890300e+00, 7.125000e-01, 8.735000e-01, 2.413400e+00,\n",
       "       1.126800e+00, 5.465000e-01, 3.001500e+00, 1.579100e+00,\n",
       "       5.405000e-01, 2.460200e+00, 1.233000e+00, 1.524100e+00,\n",
       "       1.457020e+01, 6.407000e-01, 3.252000e+00, 2.792600e+00,\n",
       "       5.103000e-01, 1.175480e+01, 1.018900e+00, 2.060800e+00,\n",
       "       3.964700e+00, 8.997000e-01, 9.040000e-01, 9.279000e-01,\n",
       "       1.574360e+01, 2.244000e+00, 1.425500e+00, 1.897000e+00,\n",
       "       1.637000e+01, 8.668000e-01, 1.402360e+01, 3.100900e+00,\n",
       "       9.204000e-01, 1.338000e+00, 2.947000e-01, 7.737000e-01,\n",
       "       5.771300e+00, 2.415600e+00, 2.680000e-01, 1.323500e+00,\n",
       "       5.119300e+00, 3.450400e+00, 1.572200e+00, 4.008800e+00,\n",
       "       4.659000e-01, 2.081200e+00, 6.668600e+00, 3.440300e+00,\n",
       "       1.111690e+01, 1.418700e+00, 2.033000e+00, 4.911500e+00,\n",
       "       3.473200e+00, 3.982800e+00, 8.322300e+00, 2.459700e+00,\n",
       "       2.913660e+01, 1.302400e+00, 2.928700e+00, 1.793700e+00,\n",
       "       8.490500e+00, 4.589100e+00, 1.935200e+00, 1.257500e+01,\n",
       "       1.734900e+00, 7.182800e+00, 2.330200e+00, 3.716000e+00,\n",
       "       1.316400e+00, 3.355000e+00, 8.833800e+00, 1.795200e+00,\n",
       "       7.026100e+00, 1.036930e+01, 3.630600e+00, 4.284000e+00,\n",
       "       8.785900e+00, 1.835200e+00, 1.553600e+00, 5.947000e-01,\n",
       "       1.219950e+01, 3.110300e+00, 5.894200e+00, 3.897200e+00,\n",
       "       3.433800e+00, 1.692500e+00, 1.289170e+01, 6.104100e+00,\n",
       "       2.018000e+01, 7.806000e-01, 2.042000e+00, 3.132800e+00,\n",
       "       1.545450e+01, 1.128000e+00, 1.863800e+00, 3.900000e-01,\n",
       "       2.652000e+00, 1.744900e+00, 1.196900e+00, 1.617660e+01,\n",
       "       9.544000e-01, 8.171000e+00, 3.118200e+00, 1.541800e+00,\n",
       "       3.933570e+01, 5.275000e+00, 1.010100e+00, 2.058800e+00,\n",
       "       7.020200e+00, 2.075310e+01, 4.277900e+00, 1.832400e+00,\n",
       "       2.071000e+00, 4.741400e+00, 6.275000e-01, 2.670400e+00,\n",
       "       2.555900e+00, 2.824700e+00, 2.780910e+01, 1.051400e+00,\n",
       "       1.347270e+01, 1.658740e+01, 2.962300e+00, 7.824000e-01,\n",
       "       3.974600e+00, 1.938700e+00, 4.186000e+00, 2.521200e+01,\n",
       "       1.932400e+00, 1.504762e+02, 2.476800e+00, 1.056210e+01,\n",
       "       2.613000e+00, 7.108800e+00, 2.040100e+00, 3.458700e+00,\n",
       "       3.252400e+00, 3.693000e-01, 3.008800e+00, 1.422200e+00,\n",
       "       5.112400e+00, 5.093200e+00, 4.573600e+00, 3.965300e+00,\n",
       "       5.834000e-01, 8.920500e+00, 1.377600e+00, 5.457000e-01,\n",
       "       5.421900e+00, 3.989000e-01, 3.052800e+00, 5.342100e+00,\n",
       "       9.276000e-01, 1.517320e+01, 7.141000e-01, 3.246000e-01,\n",
       "       7.882800e+00, 2.782200e+00, 2.575800e+00, 8.851900e+00,\n",
       "       2.532200e+00, 8.385500e+00, 4.986100e+00, 2.464500e+00,\n",
       "       4.087500e+00, 7.901000e-01, 2.705400e+00, 2.220100e+01,\n",
       "       1.136610e+01, 1.341000e+00, 3.011000e-01, 2.708800e+00,\n",
       "       1.843600e+00, 1.064120e+01, 7.000000e-01, 1.224700e+00,\n",
       "       8.867800e+00, 2.095213e+02, 5.993700e+00, 4.406600e+00,\n",
       "       7.023400e+00, 6.979200e+00, 1.093600e+00, 1.122200e+00,\n",
       "       3.276600e+00, 1.066340e+01, 4.899400e+00, 7.189300e+00,\n",
       "       1.988000e-01, 1.526800e+00, 1.697360e+01, 8.594200e+00,\n",
       "       2.654000e+00, 2.173700e+00, 6.686170e+01, 3.437400e+00,\n",
       "       5.517100e+00, 3.023700e+00, 5.697200e+00, 9.280400e+00,\n",
       "       4.510400e+00, 5.441000e+00, 2.116000e+00, 3.199900e+00,\n",
       "       6.705800e+00, 7.324400e+00, 6.662500e+00, 1.936000e+00,\n",
       "       2.869260e+01, 2.352700e+00, 1.000000e-02, 4.564300e+00,\n",
       "       1.412800e+00, 5.296800e+00, 3.386900e+00, 1.336700e+00,\n",
       "       1.774650e+01, 2.835000e+00, 5.110000e-01, 1.592300e+00,\n",
       "       4.288600e+00, 8.488000e-01, 4.227100e+00, 8.029400e+00,\n",
       "       6.313200e+00, 3.223400e+00, 5.152000e-01, 3.109000e-01,\n",
       "       1.008450e+01, 2.775800e+00, 2.497100e+00, 7.942400e+00,\n",
       "       4.512450e+01, 1.197120e+01, 1.455600e+00, 3.450100e+00,\n",
       "       8.993400e+00, 2.149700e+00, 7.512000e+00, 1.059370e+01,\n",
       "       1.200700e+00, 2.802200e+00, 2.506600e+01, 9.206100e+00,\n",
       "       3.007400e+00, 7.766400e+00, 2.836000e-01, 1.535200e+00,\n",
       "       1.025450e+01, 4.502200e+00, 1.030770e+01, 3.193000e+00,\n",
       "       8.574000e-01, 8.415000e-01, 3.456600e+00, 4.135000e-01,\n",
       "       1.027600e+00, 1.878380e+01, 9.571000e-01, 2.735200e+00,\n",
       "       2.127200e+00, 3.872300e+00, 1.541000e+00, 3.711400e+00,\n",
       "       6.632500e+00, 2.668310e+01, 1.098400e+00, 2.856000e+00,\n",
       "       9.488000e-01, 2.485100e+00, 3.246000e+00, 2.269800e+00,\n",
       "       2.707500e+00, 2.344800e+00, 4.450000e+00, 6.819000e-01,\n",
       "       4.545400e+00, 7.623000e-01, 2.014200e+00, 4.364200e+00,\n",
       "       5.423000e-01, 5.734800e+00, 2.946600e+00, 1.157100e+00,\n",
       "       9.292000e-01, 5.222400e+00, 1.393500e+00, 2.431800e+00,\n",
       "       6.426000e-01, 2.156202e+02, 2.898800e+00, 1.731300e+01,\n",
       "       2.493300e+00, 2.922100e+00, 2.143400e+00, 4.868800e+00,\n",
       "       2.674000e+00, 1.270070e+01, 2.914300e+00, 1.414100e+00,\n",
       "       2.981200e+00, 2.363100e+00, 1.064000e+00, 2.672000e+00,\n",
       "       2.219590e+01, 7.788000e-01, 2.520900e+00, 2.206600e+00,\n",
       "       3.272900e+00, 1.535400e+00, 6.455060e+01, 2.315000e+00,\n",
       "       2.078820e+01, 7.439200e+00, 1.806090e+01, 6.031900e+00,\n",
       "       6.003300e+00, 9.428000e-01, 1.288600e+00, 1.829710e+01,\n",
       "       1.719300e+00, 1.165940e+01, 6.883000e+00, 5.945000e-01,\n",
       "       1.898970e+01, 8.226000e-01, 1.646900e+00, 2.122660e+01,\n",
       "       2.300400e+00, 1.173300e+00, 4.180600e+00, 1.559430e+01,\n",
       "       3.195800e+00, 1.242400e+01, 2.805400e+00, 2.211800e+00,\n",
       "       6.479200e+00, 3.039400e+00, 2.883050e+01, 8.338900e+00,\n",
       "       1.854400e+00, 8.921000e-01, 5.095000e-01, 6.070600e+00,\n",
       "       3.828900e+00, 1.860700e+00, 6.841400e+00, 7.804000e+00,\n",
       "       2.236000e-01, 3.489000e-01, 3.039700e+00, 5.235770e+01,\n",
       "       3.142100e+00, 5.249500e+00, 6.134700e+00, 2.522700e+00,\n",
       "       1.120200e+00, 4.101000e-01, 2.247700e+00, 2.711400e+00,\n",
       "       2.186900e+00, 4.925700e+00, 1.510300e+00, 1.067310e+01,\n",
       "       9.555900e+00, 4.120830e+01, 5.012300e+00, 1.472000e+00,\n",
       "       1.666080e+01, 5.996200e+00, 2.136200e+00, 2.465900e+00,\n",
       "       1.689300e+00, 2.317240e+01, 1.990400e+01, 2.539600e+00,\n",
       "       1.129300e+00, 1.975600e+00, 9.097500e+00, 2.242100e+00,\n",
       "       6.205100e+00, 8.646000e-01, 7.092000e-01, 1.129600e+00,\n",
       "       3.449300e+00, 7.517100e+00, 2.356500e+00, 4.839200e+00,\n",
       "       3.684600e+00, 1.442840e+01, 1.463300e+00, 7.496000e-01,\n",
       "       1.335510e+01, 1.153830e+01, 9.931300e+00, 1.290600e+01,\n",
       "       3.699000e-01, 2.701000e+00, 2.627800e+00, 3.258700e+00,\n",
       "       5.206100e+00, 7.099000e+00, 7.795500e+00, 2.133200e+00,\n",
       "       1.982400e+00, 3.715280e+01, 6.568600e+00, 5.604300e+00],\n",
       "      dtype=float32)"
      ]
     },
     "execution_count": 140,
     "metadata": {},
     "output_type": "execute_result"
    }
   ],
   "source": [
    "labels = np.array(y_norm).astype('float32')\n",
    "features = np.array(X).astype('float32')\n",
    "labels\n"
   ]
  },
  {
   "cell_type": "markdown",
   "metadata": {
    "colab_type": "text",
    "id": "3TWpN0nVTpUx"
   },
   "source": [
    "## Question 6"
   ]
  },
  {
   "cell_type": "markdown",
   "metadata": {
    "colab_type": "text",
    "id": "WQ1FKEs-4btX"
   },
   "source": [
    "### Normalize data\n",
    "- Normalize features\n",
    "- Use tf.math.l2_normalize to normalize features\n",
    "- You can read more about it here https://www.tensorflow.org/api_docs/python/tf/math/l2_normalize"
   ]
  },
  {
   "cell_type": "code",
   "execution_count": 141,
   "metadata": {
    "colab": {},
    "colab_type": "code",
    "id": "V0Tfe00X78wB"
   },
   "outputs": [
    {
     "data": {
      "text/plain": [
       "<tf.Tensor: id=16765, shape=(1000, 4), dtype=float32, numpy=\n",
       "array([[0.02202894, 0.02245906, 0.02182905, 0.02253223],\n",
       "       [0.02235197, 0.02141321, 0.02140607, 0.02240551],\n",
       "       [0.0207707 , 0.02051548, 0.02051192, 0.02137037],\n",
       "       ...,\n",
       "       [0.00505436, 0.00513467, 0.00499903, 0.00514181],\n",
       "       [0.00785282, 0.0079956 , 0.0078082 , 0.00799738],\n",
       "       [0.00643931, 0.00662849, 0.00642682, 0.00664455]], dtype=float32)>"
      ]
     },
     "execution_count": 141,
     "metadata": {},
     "output_type": "execute_result"
    }
   ],
   "source": [
    "feat_norm = tf.math.l2_normalize(features)\n",
    "feat_norm\n",
    "\n",
    "\n"
   ]
  },
  {
   "cell_type": "markdown",
   "metadata": {
    "colab_type": "text",
    "id": "wmXUGc2oTspa"
   },
   "source": [
    "## Question 7"
   ]
  },
  {
   "cell_type": "markdown",
   "metadata": {
    "colab_type": "text",
    "id": "VJelDMpzxs0L"
   },
   "source": [
    "### Define weight and bias\n",
    "- Initialize weight and bias with tf.zeros\n",
    "- tf.zeros is an initializer that generates tensors initialized to 0\n",
    "- Specify the value for shape"
   ]
  },
  {
   "cell_type": "code",
   "execution_count": 142,
   "metadata": {
    "colab": {},
    "colab_type": "code",
    "id": "8o9RPWVTxs0O"
   },
   "outputs": [],
   "source": [
    "#We are initializing weights and Bias with Zero\n",
    "w = tf.zeros(shape=(4,1))\n",
    "b = tf.zeros(shape=(1))"
   ]
  },
  {
   "cell_type": "markdown",
   "metadata": {
    "colab_type": "text",
    "id": "8a0wr94aTyjg"
   },
   "source": [
    "## Question 8"
   ]
  },
  {
   "cell_type": "markdown",
   "metadata": {
    "colab_type": "text",
    "id": "zMXXYdOSxs0Q"
   },
   "source": [
    "### Get prediction\n",
    "- Define a function to get prediction\n",
    "- Approach: prediction = (X * W) + b; here is X is features"
   ]
  },
  {
   "cell_type": "code",
   "execution_count": 143,
   "metadata": {
    "colab": {},
    "colab_type": "code",
    "id": "U8Cty1y0xs0S"
   },
   "outputs": [],
   "source": [
    "def prediction(x, w, b):\n",
    "    \n",
    "    xw_matmul = tf.matmul(x, w)\n",
    "    y = tf.add(xw_matmul, b)\n",
    "    \n",
    "    return y"
   ]
  },
  {
   "cell_type": "markdown",
   "metadata": {
    "colab_type": "text",
    "id": "lQmS3Tauxs0V"
   },
   "source": [
    "### Calculate loss\n",
    "- Calculate loss using predictions\n",
    "- Define a function to calculate loss\n",
    "- We are calculating mean squared error"
   ]
  },
  {
   "cell_type": "code",
   "execution_count": 144,
   "metadata": {
    "colab": {},
    "colab_type": "code",
    "id": "-FRXmDd5xs0X"
   },
   "outputs": [],
   "source": [
    "def loss(y_actual, y_predicted):\n",
    "    \n",
    "    diff = y_actual - y_predicted\n",
    "    sqr = tf.square(diff)\n",
    "    avg = tf.reduce_mean(sqr)\n",
    "    \n",
    "    return avg"
   ]
  },
  {
   "cell_type": "markdown",
   "metadata": {
    "colab_type": "text",
    "id": "ZbBpnOtfT0wd"
   },
   "source": [
    "## Question 9"
   ]
  },
  {
   "cell_type": "markdown",
   "metadata": {
    "colab_type": "text",
    "id": "bkOzAUUsTmF_"
   },
   "source": [
    "### Define a function to train the model\n",
    "1.   Record all the mathematical steps to calculate Loss\n",
    "2.   Calculate Gradients of Loss w.r.t weights and bias\n",
    "3.   Update Weights and Bias based on gradients and learning rate to minimize loss"
   ]
  },
  {
   "cell_type": "code",
   "execution_count": 145,
   "metadata": {
    "colab": {},
    "colab_type": "code",
    "id": "2R4uieGYLYtM"
   },
   "outputs": [],
   "source": [
    "def train(x, y_actual, w, b, learning_rate=0.01):\n",
    "    \n",
    "    #Record mathematical operations on 'tape' to calculate loss\n",
    "    with tf.GradientTape() as t:\n",
    "        \n",
    "        t.watch([w,b])\n",
    "        \n",
    "        current_prediction = prediction(x, w, b)\n",
    "        current_loss = loss(y_actual, current_prediction)\n",
    "    \n",
    "    #Calculate Gradients for Loss with respect to Weights and Bias\n",
    "    dw, db = t.gradient(current_loss,[w, b])\n",
    "    \n",
    "    #Update Weights and Bias\n",
    "    w = w - learning_rate*dw\n",
    "    b = b - learning_rate*db\n",
    "    \n",
    "    return w, b"
   ]
  },
  {
   "cell_type": "markdown",
   "metadata": {
    "colab_type": "text",
    "id": "AW4SEP8kT2ls"
   },
   "source": [
    "## Question 10"
   ]
  },
  {
   "cell_type": "markdown",
   "metadata": {
    "colab_type": "text",
    "id": "yeN0deOvT81N"
   },
   "source": [
    "### Train the model for 100 epochs \n",
    "- Observe the training loss at every iteration"
   ]
  },
  {
   "cell_type": "code",
   "execution_count": 146,
   "metadata": {
    "colab": {},
    "colab_type": "code",
    "id": "Jjkn4gUgLevE"
   },
   "outputs": [
    {
     "name": "stdout",
     "output_type": "stream",
     "text": [
      "Current Loss on iteration 0 236.16759\n",
      "Current Loss on iteration 1 235.09299\n",
      "Current Loss on iteration 2 234.06102\n",
      "Current Loss on iteration 3 233.06998\n",
      "Current Loss on iteration 4 232.11783\n",
      "Current Loss on iteration 5 231.20381\n",
      "Current Loss on iteration 6 230.32585\n",
      "Current Loss on iteration 7 229.48265\n",
      "Current Loss on iteration 8 228.67299\n",
      "Current Loss on iteration 9 227.89539\n",
      "Current Loss on iteration 10 227.14832\n",
      "Current Loss on iteration 11 226.43114\n",
      "Current Loss on iteration 12 225.74234\n",
      "Current Loss on iteration 13 225.0808\n",
      "Current Loss on iteration 14 224.44554\n",
      "Current Loss on iteration 15 223.83499\n",
      "Current Loss on iteration 16 223.24931\n",
      "Current Loss on iteration 17 222.68657\n",
      "Current Loss on iteration 18 222.14594\n",
      "Current Loss on iteration 19 221.62688\n",
      "Current Loss on iteration 20 221.12842\n",
      "Current Loss on iteration 21 220.6498\n",
      "Current Loss on iteration 22 220.18993\n",
      "Current Loss on iteration 23 219.7484\n",
      "Current Loss on iteration 24 219.32425\n",
      "Current Loss on iteration 25 218.91705\n",
      "Current Loss on iteration 26 218.52579\n",
      "Current Loss on iteration 27 218.15027\n",
      "Current Loss on iteration 28 217.78957\n",
      "Current Loss on iteration 29 217.44313\n",
      "Current Loss on iteration 30 217.11034\n",
      "Current Loss on iteration 31 216.79077\n",
      "Current Loss on iteration 32 216.48412\n",
      "Current Loss on iteration 33 216.18932\n",
      "Current Loss on iteration 34 215.90611\n",
      "Current Loss on iteration 35 215.63437\n",
      "Current Loss on iteration 36 215.37334\n",
      "Current Loss on iteration 37 215.12263\n",
      "Current Loss on iteration 38 214.88185\n",
      "Current Loss on iteration 39 214.65053\n",
      "Current Loss on iteration 40 214.42859\n",
      "Current Loss on iteration 41 214.21524\n",
      "Current Loss on iteration 42 214.01044\n",
      "Current Loss on iteration 43 213.81369\n",
      "Current Loss on iteration 44 213.62482\n",
      "Current Loss on iteration 45 213.44333\n",
      "Current Loss on iteration 46 213.2691\n",
      "Current Loss on iteration 47 213.10179\n",
      "Current Loss on iteration 48 212.94106\n",
      "Current Loss on iteration 49 212.78687\n",
      "Current Loss on iteration 50 212.63858\n",
      "Current Loss on iteration 51 212.4961\n",
      "Current Loss on iteration 52 212.35948\n",
      "Current Loss on iteration 53 212.22816\n",
      "Current Loss on iteration 54 212.10205\n",
      "Current Loss on iteration 55 211.98093\n",
      "Current Loss on iteration 56 211.86462\n",
      "Current Loss on iteration 57 211.75293\n",
      "Current Loss on iteration 58 211.6456\n",
      "Current Loss on iteration 59 211.54266\n",
      "Current Loss on iteration 60 211.44374\n",
      "Current Loss on iteration 61 211.34875\n",
      "Current Loss on iteration 62 211.25752\n",
      "Current Loss on iteration 63 211.16978\n",
      "Current Loss on iteration 64 211.08572\n",
      "Current Loss on iteration 65 211.00484\n",
      "Current Loss on iteration 66 210.92729\n",
      "Current Loss on iteration 67 210.85278\n",
      "Current Loss on iteration 68 210.78102\n",
      "Current Loss on iteration 69 210.71225\n",
      "Current Loss on iteration 70 210.64633\n",
      "Current Loss on iteration 71 210.58287\n",
      "Current Loss on iteration 72 210.52199\n",
      "Current Loss on iteration 73 210.46349\n",
      "Current Loss on iteration 74 210.4073\n",
      "Current Loss on iteration 75 210.3533\n",
      "Current Loss on iteration 76 210.30153\n",
      "Current Loss on iteration 77 210.2518\n",
      "Current Loss on iteration 78 210.204\n",
      "Current Loss on iteration 79 210.15811\n",
      "Current Loss on iteration 80 210.1141\n",
      "Current Loss on iteration 81 210.0717\n",
      "Current Loss on iteration 82 210.03108\n",
      "Current Loss on iteration 83 209.99203\n",
      "Current Loss on iteration 84 209.95454\n",
      "Current Loss on iteration 85 209.9185\n",
      "Current Loss on iteration 86 209.88396\n",
      "Current Loss on iteration 87 209.85075\n",
      "Current Loss on iteration 88 209.8189\n",
      "Current Loss on iteration 89 209.7882\n",
      "Current Loss on iteration 90 209.75871\n",
      "Current Loss on iteration 91 209.73053\n",
      "Current Loss on iteration 92 209.70349\n",
      "Current Loss on iteration 93 209.67744\n",
      "Current Loss on iteration 94 209.65225\n",
      "Current Loss on iteration 95 209.62831\n",
      "Current Loss on iteration 96 209.60521\n",
      "Current Loss on iteration 97 209.58302\n",
      "Current Loss on iteration 98 209.56174\n",
      "Current Loss on iteration 99 209.5413\n"
     ]
    }
   ],
   "source": [
    "for i in range(100):\n",
    "    \n",
    "    w, b = train(feat_norm, labels, w, b)\n",
    "    print('Current Loss on iteration', i, loss(labels, prediction(feat_norm, w, b)).numpy())"
   ]
  },
  {
   "cell_type": "markdown",
   "metadata": {
    "colab_type": "text",
    "id": "vanvD93FV0_k"
   },
   "source": [
    "### Observe values of Weight\n",
    "- Print the updated values"
   ]
  },
  {
   "cell_type": "code",
   "execution_count": 147,
   "metadata": {
    "colab": {},
    "colab_type": "code",
    "id": "QSqpy4gtWaOD"
   },
   "outputs": [
    {
     "name": "stdout",
     "output_type": "stream",
     "text": [
      "Weights:\n",
      " [[0.05478281]\n",
      " [0.05488191]\n",
      " [0.05422735]\n",
      " [0.05533117]]\n"
     ]
    }
   ],
   "source": [
    "print('Weights:\\n', w.numpy())\n"
   ]
  },
  {
   "cell_type": "markdown",
   "metadata": {
    "colab_type": "text",
    "id": "y9KpRupYUEwy"
   },
   "source": [
    "### Observe values of Bias\n",
    "- Print the updated values"
   ]
  },
  {
   "cell_type": "code",
   "execution_count": 148,
   "metadata": {
    "colab": {},
    "colab_type": "code",
    "id": "bhEWkGqHWohg"
   },
   "outputs": [
    {
     "name": "stdout",
     "output_type": "stream",
     "text": [
      "Bias:\n",
      " [4.607657]\n"
     ]
    }
   ],
   "source": [
    "print('Bias:\\n',b.numpy())"
   ]
  }
 ],
 "metadata": {
  "colab": {
   "collapsed_sections": [],
   "name": "Questions - Internal - R6 - AIML Labs",
   "provenance": []
  },
  "kernelspec": {
   "display_name": "Python 3",
   "language": "python",
   "name": "python3"
  },
  "language_info": {
   "codemirror_mode": {
    "name": "ipython",
    "version": 3
   },
   "file_extension": ".py",
   "mimetype": "text/x-python",
   "name": "python",
   "nbconvert_exporter": "python",
   "pygments_lexer": "ipython3",
   "version": "3.7.3"
  }
 },
 "nbformat": 4,
 "nbformat_minor": 1
}
