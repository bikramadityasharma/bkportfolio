{
 "cells": [
  {
   "cell_type": "markdown",
   "metadata": {},
   "source": [
    "The Titan Insurance Company has just installed a new incentive payment scheme for its lift policy sales force. It wants to have an early view of the success or failure of the new scheme. Indications are that the sales force is selling more policies, but sales always vary in an unpredictable pattern from month to month and it is not clear that the scheme has made a significant difference.\n",
    "\n",
    "Life Insurance companies typically measure the monthly output of a salesperson as the total sum assured for the policies sold by that person during the month. For example, suppose salesperson X has, in the month, sold seven policies for which the sums assured are £1000, £2500, £3000, £5000, £10000, £35000. X's output for the month is the total of these sums assured, £61,500. Titan's new scheme is that the sales force receives low regular salaries but are paid large bonuses related to their output (i.e. to the total sum assured of policies sold by them). The scheme is expensive for the company, but they are looking for sales increases which more than compensate. The agreement with the sales force is that if the scheme does not at least break even for the company, it will be abandoned after six months.\n",
    "\n",
    "The scheme has now been in operation for four months. It has settled down after fluctuations in the first two months due to the changeover.\n",
    "\n",
    "To test the effectiveness of the scheme, Titan have taken a random sample of 30 salespeople measured their output in the penultimate month prior to changeover and then measured it in the fourth month after the changeover (they have deliberately chosen months not too close to the changeover). The outputs of the salespeople are shown in Table 1 (captured in titan_sample.csv file)\n"
   ]
  },
  {
   "cell_type": "code",
   "execution_count": 16,
   "metadata": {},
   "outputs": [
    {
     "name": "stdout",
     "output_type": "stream",
     "text": [
      "<class 'pandas.core.frame.DataFrame'>\n",
      "RangeIndex: 30 entries, 0 to 29\n",
      "Data columns (total 3 columns):\n",
      "SALESPERSON                  30 non-null int64\n",
      "Old Scheme (in thousands)    30 non-null int64\n",
      "New Scheme (in thousands)    30 non-null int64\n",
      "dtypes: int64(3)\n",
      "memory usage: 800.0 bytes\n"
     ]
    }
   ],
   "source": [
    "#Load all required library\n",
    "import pandas as pd\n",
    "import numpy as np\n",
    "from matplotlib import pyplot as plt\n",
    "%matplotlib inline\n",
    "import scipy.stats as stats\n",
    "import math\n",
    "\n",
    "#import data\n",
    "titan = pd.read_csv('titan_sample.csv')\n",
    "titan.info()\n"
   ]
  },
  {
   "cell_type": "code",
   "execution_count": 3,
   "metadata": {},
   "outputs": [
    {
     "data": {
      "text/html": [
       "<div>\n",
       "<style scoped>\n",
       "    .dataframe tbody tr th:only-of-type {\n",
       "        vertical-align: middle;\n",
       "    }\n",
       "\n",
       "    .dataframe tbody tr th {\n",
       "        vertical-align: top;\n",
       "    }\n",
       "\n",
       "    .dataframe thead th {\n",
       "        text-align: right;\n",
       "    }\n",
       "</style>\n",
       "<table border=\"1\" class=\"dataframe\">\n",
       "  <thead>\n",
       "    <tr style=\"text-align: right;\">\n",
       "      <th></th>\n",
       "      <th>SALESPERSON</th>\n",
       "      <th>Old Scheme (in thousands)</th>\n",
       "      <th>New Scheme (in thousands)</th>\n",
       "    </tr>\n",
       "  </thead>\n",
       "  <tbody>\n",
       "    <tr>\n",
       "      <th>count</th>\n",
       "      <td>30.000000</td>\n",
       "      <td>30.000000</td>\n",
       "      <td>30.000000</td>\n",
       "    </tr>\n",
       "    <tr>\n",
       "      <th>mean</th>\n",
       "      <td>15.500000</td>\n",
       "      <td>68.033333</td>\n",
       "      <td>72.033333</td>\n",
       "    </tr>\n",
       "    <tr>\n",
       "      <th>std</th>\n",
       "      <td>8.803408</td>\n",
       "      <td>20.455980</td>\n",
       "      <td>24.062395</td>\n",
       "    </tr>\n",
       "    <tr>\n",
       "      <th>min</th>\n",
       "      <td>1.000000</td>\n",
       "      <td>28.000000</td>\n",
       "      <td>32.000000</td>\n",
       "    </tr>\n",
       "    <tr>\n",
       "      <th>25%</th>\n",
       "      <td>8.250000</td>\n",
       "      <td>54.000000</td>\n",
       "      <td>55.000000</td>\n",
       "    </tr>\n",
       "    <tr>\n",
       "      <th>50%</th>\n",
       "      <td>15.500000</td>\n",
       "      <td>67.000000</td>\n",
       "      <td>74.000000</td>\n",
       "    </tr>\n",
       "    <tr>\n",
       "      <th>75%</th>\n",
       "      <td>22.750000</td>\n",
       "      <td>81.500000</td>\n",
       "      <td>85.750000</td>\n",
       "    </tr>\n",
       "    <tr>\n",
       "      <th>max</th>\n",
       "      <td>30.000000</td>\n",
       "      <td>110.000000</td>\n",
       "      <td>122.000000</td>\n",
       "    </tr>\n",
       "  </tbody>\n",
       "</table>\n",
       "</div>"
      ],
      "text/plain": [
       "       SALESPERSON  Old Scheme (in thousands)  New Scheme (in thousands)\n",
       "count    30.000000                  30.000000                  30.000000\n",
       "mean     15.500000                  68.033333                  72.033333\n",
       "std       8.803408                  20.455980                  24.062395\n",
       "min       1.000000                  28.000000                  32.000000\n",
       "25%       8.250000                  54.000000                  55.000000\n",
       "50%      15.500000                  67.000000                  74.000000\n",
       "75%      22.750000                  81.500000                  85.750000\n",
       "max      30.000000                 110.000000                 122.000000"
      ]
     },
     "execution_count": 3,
     "metadata": {},
     "output_type": "execute_result"
    }
   ],
   "source": [
    "titan.describe()"
   ]
  },
  {
   "cell_type": "markdown",
   "metadata": {},
   "source": [
    "Questions\n",
    "1. Find the mean of old scheme and new scheme column. (5 points)"
   ]
  },
  {
   "cell_type": "code",
   "execution_count": 11,
   "metadata": {},
   "outputs": [
    {
     "name": "stdout",
     "output_type": "stream",
     "text": [
      "Old scheme mean:  68.03333333333333\n",
      "New scheme mean:  72.03333333333333\n",
      "Scheme difference mean:  4.0\n",
      "Scheme difference standard deviation:  14.08104619937615\n"
     ]
    },
    {
     "data": {
      "image/png": "[encoded data removed]",
      "text/plain": [
       "<Figure size 432x288 with 1 Axes>"
      ]
     },
     "metadata": {
      "needs_background": "light"
     },
     "output_type": "display_data"
    }
   ],
   "source": [
    "old_mean = titan['Old Scheme (in thousands)'].mean()\n",
    "new_mean = titan['New Scheme (in thousands)'].mean()\n",
    "print (\"Old scheme mean: \",old_mean)\n",
    "plt.hist(titan['Old Scheme (in thousands)'])\n",
    "print (\"New scheme mean: \",new_mean)\n",
    "plt.hist(titan['New Scheme (in thousands)'])\n",
    "scheme_diff = titan['New Scheme (in thousands)'] - titan['Old Scheme (in thousands)']\n",
    "diff_mean = scheme_diff.mean()\n",
    "diff_std_dev = scheme_diff.std()\n",
    "print (\"Scheme difference mean: \", diff_mean)\n",
    "print (\"Scheme difference standard deviation: \", diff_std_dev)\n",
    "\n"
   ]
  },
  {
   "cell_type": "markdown",
   "metadata": {},
   "source": [
    "2. Use the five percent significance test over the data to determine the p value to check new scheme has significantly raised outputs? (10 points)"
   ]
  },
  {
   "cell_type": "code",
   "execution_count": 5,
   "metadata": {},
   "outputs": [
    {
     "name": "stdout",
     "output_type": "stream",
     "text": [
      "Alpha =  0.05 \n",
      "Sample Size (N)=  30 \n",
      "Degrees of Freedom df =  29\n"
     ]
    }
   ],
   "source": [
    "#level of significance \n",
    "alpha = 0.05\n",
    "# Sample size N\n",
    "N = titan['SALESPERSON'].count()\n",
    "#Degrees of Freedon df\n",
    "df = N-1\n",
    "'''\n",
    "Hypothesis formulation\n",
    "\n",
    "H0 = old_mean - new_mean = 0 (New Scheme did not raise output significantly)\n",
    "H1 = old_mean - new_mean <0 (New Scheme raised the output significantly)\n",
    "'''\n",
    "print(\"Alpha = \",alpha, \"\\nSample Size (N)= \", N, \"\\nDegrees of Freedom df = \", df)"
   ]
  },
  {
   "cell_type": "code",
   "execution_count": null,
   "metadata": {},
   "outputs": [],
   "source": []
  },
  {
   "cell_type": "code",
   "execution_count": 18,
   "metadata": {},
   "outputs": [
    {
     "name": "stdout",
     "output_type": "stream",
     "text": [
      "Statistics=1.556, p=0.131\n"
     ]
    }
   ],
   "source": [
    "from scipy.stats import ttest_rel\n",
    "\n",
    "stat, p = ttest_rel(titan['New Scheme (in thousands)'],titan['Old Scheme (in thousands)'])\n",
    "print('Statistics=%.3f, p=%.3f' % (stat, p))\n"
   ]
  },
  {
   "cell_type": "code",
   "execution_count": null,
   "metadata": {},
   "outputs": [],
   "source": []
  },
  {
   "cell_type": "markdown",
   "metadata": {},
   "source": [
    "3. What conclusion does the test (p-value) lead to? (2.5 points)"
   ]
  },
  {
   "cell_type": "code",
   "execution_count": null,
   "metadata": {},
   "outputs": [],
   "source": [
    "# interpret\n",
    "alpha = 0.05\n",
    "if p > alpha:\n",
    "\tprint(' New Scheme did not raise output significantly (fail to reject H0)')\n",
    "else:\n",
    "\tprint('New Scheme raised the output significantly (reject H0)')\n"
   ]
  },
  {
   "cell_type": "markdown",
   "metadata": {},
   "source": [
    "4. Suppose it has been calculated that in order for Titan to break even, the average output must increase by £5000 in the scheme compared to the old scheme. \n",
    "If this figure is alternative hypothesis, what is:\n",
    "        a) The probability of a type 1 error? (2.5 points)\n",
    "        b) What is the p- value of the hypothesis test if we test for a difference of $5000? (10 points)\n",
    "        c) Power of the test (5 points)"
   ]
  },
  {
   "cell_type": "code",
   "execution_count": null,
   "metadata": {},
   "outputs": [],
   "source": [
    "# H0: Delta (New Scheme Mean - Old Scheme Mean) = 0\n",
    "# H1: Delta (New Scheme Mean - Old Scheme Mean) = 5000 \n",
    "# a) The probability of a type 1 error?\n",
    "print (\"Assuming significance level alpha at 5% , probability of Type 1 Error is  0.05\")"
   ]
  },
  {
   "cell_type": "code",
   "execution_count": 22,
   "metadata": {},
   "outputs": [
    {
     "name": "stdout",
     "output_type": "stream",
     "text": [
      "T critical value is:  1.6972608943617378\n",
      "x_bar :  4.363378637308852\n",
      "T-stat : -0.24763208358130956\n",
      "t-statistic = -0.248 pvalue = 0.4031\n"
     ]
    }
   ],
   "source": [
    "# b) What is the p- value of the hypothesis test if we test for a difference of $5000?\n",
    "#old_mean - new_mean = 5000\n",
    "T_critical = stats.t.ppf(1-0.05, 30)\n",
    "print (\"T critical value is: \",T_critical)\n",
    "# We fail to reject null hypothesis if we get a T-statistic less than 1.697 for the sample size of 30\n",
    "# We need to find sample mean until we fail to reject the null hypothesis. Then we need to identify the probability of calculated sample mean x_bar appearing when population mean mu = 5000\n",
    "# t-stat = (x_bar - mu)/(std_dev/sqrt(n))\n",
    "# 1.697 = (x_bar -  0 )/(14.081/sqrt(30))\n",
    "x_bar = T_critical * (diff_std_dev/math.sqrt(N))\n",
    "print (\"x_bar : \",x_bar)\n",
    "\n",
    "# Given old_mean - new_mean = 5000\n",
    "# T-stat = (4.37 - 5)/ (14.081/sqrt(30))\n",
    "\n",
    "T_stat = (x_bar - 5)/(diff_std_dev/math.sqrt(N))\n",
    "print (\"T-stat :\",T_stat)\n",
    "pval = stats.t.sf(np.abs(T_stat), N-1)\n",
    "\n",
    "print ('t-statistic = %6.3f pvalue = %6.4f' % (T_stat, pval))"
   ]
  },
  {
   "cell_type": "code",
   "execution_count": 24,
   "metadata": {},
   "outputs": [
    {
     "name": "stdout",
     "output_type": "stream",
     "text": [
      "Power of hypothesis:  0.597\n"
     ]
    }
   ],
   "source": [
    "# c) Power of the test \n",
    "# Power of hypothesis =  1- P(Type 2 error)\n",
    "power = 1- pval\n",
    "print ('Power of hypothesis: %6.3f' % (power))\n"
   ]
  },
  {
   "cell_type": "code",
   "execution_count": null,
   "metadata": {},
   "outputs": [],
   "source": []
  }
 ],
 "metadata": {
  "kernelspec": {
   "display_name": "Python 3",
   "language": "python",
   "name": "python3"
  },
  "language_info": {
   "codemirror_mode": {
    "name": "ipython",
    "version": 3
   },
   "file_extension": ".py",
   "mimetype": "text/x-python",
   "name": "python",
   "nbconvert_exporter": "python",
   "pygments_lexer": "ipython3",
   "version": "3.7.3"
  }
 },
 "nbformat": 4,
 "nbformat_minor": 2
}
