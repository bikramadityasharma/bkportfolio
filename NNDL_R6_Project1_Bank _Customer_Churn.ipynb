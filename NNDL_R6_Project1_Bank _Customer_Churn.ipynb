{
 "cells": [
  {
   "cell_type": "markdown",
   "metadata": {},
   "source": [
    "# NNDL - Project 1: Bank Customer Churn Prediction\n",
    "\n"
   ]
  },
  {
   "cell_type": "markdown",
   "metadata": {},
   "source": [
    "The case study is from an open source dataset from Kaggle. \n",
    "\n",
    "Link to the Kaggle project site:\n",
    "https://www.kaggle.com/barelydedicated/bank-customer-churn-modeling\n",
    " \n",
    "Given a Bank customer, can we build a classifier which can determine whether they will leave or not using Neural networks?\n",
    " \n",
    "Case file: bank.csv\n",
    "\n",
    "The points distribution for this case is as follows:\n",
    "1. Read the dataset"
   ]
  },
  {
   "cell_type": "code",
   "execution_count": 161,
   "metadata": {},
   "outputs": [],
   "source": [
    "import numpy as np\n",
    "import pandas as pd\n",
    "import tensorflow as tf\n",
    "from sklearn.model_selection import train_test_split"
   ]
  },
  {
   "cell_type": "code",
   "execution_count": 162,
   "metadata": {},
   "outputs": [
    {
     "data": {
      "text/plain": [
       "(10000, 14)"
      ]
     },
     "execution_count": 162,
     "metadata": {},
     "output_type": "execute_result"
    }
   ],
   "source": [
    "bank_df = pd.read_csv(\"Churn_Modelling.csv\")\n",
    "bank_df.shape"
   ]
  },
  {
   "cell_type": "code",
   "execution_count": 163,
   "metadata": {},
   "outputs": [
    {
     "data": {
      "text/html": [
       "<div>\n",
       "<style scoped>\n",
       "    .dataframe tbody tr th:only-of-type {\n",
       "        vertical-align: middle;\n",
       "    }\n",
       "\n",
       "    .dataframe tbody tr th {\n",
       "        vertical-align: top;\n",
       "    }\n",
       "\n",
       "    .dataframe thead th {\n",
       "        text-align: right;\n",
       "    }\n",
       "</style>\n",
       "<table border=\"1\" class=\"dataframe\">\n",
       "  <thead>\n",
       "    <tr style=\"text-align: right;\">\n",
       "      <th></th>\n",
       "      <th>RowNumber</th>\n",
       "      <th>CustomerId</th>\n",
       "      <th>Surname</th>\n",
       "      <th>CreditScore</th>\n",
       "      <th>Geography</th>\n",
       "      <th>Gender</th>\n",
       "      <th>Age</th>\n",
       "      <th>Tenure</th>\n",
       "      <th>Balance</th>\n",
       "      <th>NumOfProducts</th>\n",
       "      <th>HasCrCard</th>\n",
       "      <th>IsActiveMember</th>\n",
       "      <th>EstimatedSalary</th>\n",
       "      <th>Exited</th>\n",
       "    </tr>\n",
       "  </thead>\n",
       "  <tbody>\n",
       "    <tr>\n",
       "      <th>0</th>\n",
       "      <td>1</td>\n",
       "      <td>15634602</td>\n",
       "      <td>Hargrave</td>\n",
       "      <td>619</td>\n",
       "      <td>France</td>\n",
       "      <td>Female</td>\n",
       "      <td>42</td>\n",
       "      <td>2</td>\n",
       "      <td>0.00</td>\n",
       "      <td>1</td>\n",
       "      <td>1</td>\n",
       "      <td>1</td>\n",
       "      <td>101348.88</td>\n",
       "      <td>1</td>\n",
       "    </tr>\n",
       "    <tr>\n",
       "      <th>1</th>\n",
       "      <td>2</td>\n",
       "      <td>15647311</td>\n",
       "      <td>Hill</td>\n",
       "      <td>608</td>\n",
       "      <td>Spain</td>\n",
       "      <td>Female</td>\n",
       "      <td>41</td>\n",
       "      <td>1</td>\n",
       "      <td>83807.86</td>\n",
       "      <td>1</td>\n",
       "      <td>0</td>\n",
       "      <td>1</td>\n",
       "      <td>112542.58</td>\n",
       "      <td>0</td>\n",
       "    </tr>\n",
       "    <tr>\n",
       "      <th>2</th>\n",
       "      <td>3</td>\n",
       "      <td>15619304</td>\n",
       "      <td>Onio</td>\n",
       "      <td>502</td>\n",
       "      <td>France</td>\n",
       "      <td>Female</td>\n",
       "      <td>42</td>\n",
       "      <td>8</td>\n",
       "      <td>159660.80</td>\n",
       "      <td>3</td>\n",
       "      <td>1</td>\n",
       "      <td>0</td>\n",
       "      <td>113931.57</td>\n",
       "      <td>1</td>\n",
       "    </tr>\n",
       "    <tr>\n",
       "      <th>3</th>\n",
       "      <td>4</td>\n",
       "      <td>15701354</td>\n",
       "      <td>Boni</td>\n",
       "      <td>699</td>\n",
       "      <td>France</td>\n",
       "      <td>Female</td>\n",
       "      <td>39</td>\n",
       "      <td>1</td>\n",
       "      <td>0.00</td>\n",
       "      <td>2</td>\n",
       "      <td>0</td>\n",
       "      <td>0</td>\n",
       "      <td>93826.63</td>\n",
       "      <td>0</td>\n",
       "    </tr>\n",
       "    <tr>\n",
       "      <th>4</th>\n",
       "      <td>5</td>\n",
       "      <td>15737888</td>\n",
       "      <td>Mitchell</td>\n",
       "      <td>850</td>\n",
       "      <td>Spain</td>\n",
       "      <td>Female</td>\n",
       "      <td>43</td>\n",
       "      <td>2</td>\n",
       "      <td>125510.82</td>\n",
       "      <td>1</td>\n",
       "      <td>1</td>\n",
       "      <td>1</td>\n",
       "      <td>79084.10</td>\n",
       "      <td>0</td>\n",
       "    </tr>\n",
       "  </tbody>\n",
       "</table>\n",
       "</div>"
      ],
      "text/plain": [
       "   RowNumber  CustomerId   Surname  CreditScore Geography  Gender  Age  \\\n",
       "0          1    15634602  Hargrave          619    France  Female   42   \n",
       "1          2    15647311      Hill          608     Spain  Female   41   \n",
       "2          3    15619304      Onio          502    France  Female   42   \n",
       "3          4    15701354      Boni          699    France  Female   39   \n",
       "4          5    15737888  Mitchell          850     Spain  Female   43   \n",
       "\n",
       "   Tenure    Balance  NumOfProducts  HasCrCard  IsActiveMember  \\\n",
       "0       2       0.00              1          1               1   \n",
       "1       1   83807.86              1          0               1   \n",
       "2       8  159660.80              3          1               0   \n",
       "3       1       0.00              2          0               0   \n",
       "4       2  125510.82              1          1               1   \n",
       "\n",
       "   EstimatedSalary  Exited  \n",
       "0        101348.88       1  \n",
       "1        112542.58       0  \n",
       "2        113931.57       1  \n",
       "3         93826.63       0  \n",
       "4         79084.10       0  "
      ]
     },
     "execution_count": 163,
     "metadata": {},
     "output_type": "execute_result"
    }
   ],
   "source": [
    "bank_df.head()"
   ]
  },
  {
   "cell_type": "code",
   "execution_count": null,
   "metadata": {},
   "outputs": [],
   "source": []
  },
  {
   "cell_type": "code",
   "execution_count": null,
   "metadata": {},
   "outputs": [],
   "source": []
  },
  {
   "cell_type": "markdown",
   "metadata": {},
   "source": [
    "2. Drop the columns which are unique for all users like IDs (2.5 points)"
   ]
  },
  {
   "cell_type": "code",
   "execution_count": 164,
   "metadata": {},
   "outputs": [
    {
     "data": {
      "text/html": [
       "<div>\n",
       "<style scoped>\n",
       "    .dataframe tbody tr th:only-of-type {\n",
       "        vertical-align: middle;\n",
       "    }\n",
       "\n",
       "    .dataframe tbody tr th {\n",
       "        vertical-align: top;\n",
       "    }\n",
       "\n",
       "    .dataframe thead th {\n",
       "        text-align: right;\n",
       "    }\n",
       "</style>\n",
       "<table border=\"1\" class=\"dataframe\">\n",
       "  <thead>\n",
       "    <tr style=\"text-align: right;\">\n",
       "      <th></th>\n",
       "      <th>CreditScore</th>\n",
       "      <th>Geography</th>\n",
       "      <th>Gender</th>\n",
       "      <th>Age</th>\n",
       "      <th>Tenure</th>\n",
       "      <th>Balance</th>\n",
       "      <th>NumOfProducts</th>\n",
       "      <th>HasCrCard</th>\n",
       "      <th>IsActiveMember</th>\n",
       "      <th>EstimatedSalary</th>\n",
       "      <th>Exited</th>\n",
       "    </tr>\n",
       "  </thead>\n",
       "  <tbody>\n",
       "    <tr>\n",
       "      <th>0</th>\n",
       "      <td>619</td>\n",
       "      <td>France</td>\n",
       "      <td>Female</td>\n",
       "      <td>42</td>\n",
       "      <td>2</td>\n",
       "      <td>0.00</td>\n",
       "      <td>1</td>\n",
       "      <td>1</td>\n",
       "      <td>1</td>\n",
       "      <td>101348.88</td>\n",
       "      <td>1</td>\n",
       "    </tr>\n",
       "    <tr>\n",
       "      <th>1</th>\n",
       "      <td>608</td>\n",
       "      <td>Spain</td>\n",
       "      <td>Female</td>\n",
       "      <td>41</td>\n",
       "      <td>1</td>\n",
       "      <td>83807.86</td>\n",
       "      <td>1</td>\n",
       "      <td>0</td>\n",
       "      <td>1</td>\n",
       "      <td>112542.58</td>\n",
       "      <td>0</td>\n",
       "    </tr>\n",
       "    <tr>\n",
       "      <th>2</th>\n",
       "      <td>502</td>\n",
       "      <td>France</td>\n",
       "      <td>Female</td>\n",
       "      <td>42</td>\n",
       "      <td>8</td>\n",
       "      <td>159660.80</td>\n",
       "      <td>3</td>\n",
       "      <td>1</td>\n",
       "      <td>0</td>\n",
       "      <td>113931.57</td>\n",
       "      <td>1</td>\n",
       "    </tr>\n",
       "    <tr>\n",
       "      <th>3</th>\n",
       "      <td>699</td>\n",
       "      <td>France</td>\n",
       "      <td>Female</td>\n",
       "      <td>39</td>\n",
       "      <td>1</td>\n",
       "      <td>0.00</td>\n",
       "      <td>2</td>\n",
       "      <td>0</td>\n",
       "      <td>0</td>\n",
       "      <td>93826.63</td>\n",
       "      <td>0</td>\n",
       "    </tr>\n",
       "    <tr>\n",
       "      <th>4</th>\n",
       "      <td>850</td>\n",
       "      <td>Spain</td>\n",
       "      <td>Female</td>\n",
       "      <td>43</td>\n",
       "      <td>2</td>\n",
       "      <td>125510.82</td>\n",
       "      <td>1</td>\n",
       "      <td>1</td>\n",
       "      <td>1</td>\n",
       "      <td>79084.10</td>\n",
       "      <td>0</td>\n",
       "    </tr>\n",
       "  </tbody>\n",
       "</table>\n",
       "</div>"
      ],
      "text/plain": [
       "   CreditScore Geography  Gender  Age  Tenure    Balance  NumOfProducts  \\\n",
       "0          619    France  Female   42       2       0.00              1   \n",
       "1          608     Spain  Female   41       1   83807.86              1   \n",
       "2          502    France  Female   42       8  159660.80              3   \n",
       "3          699    France  Female   39       1       0.00              2   \n",
       "4          850     Spain  Female   43       2  125510.82              1   \n",
       "\n",
       "   HasCrCard  IsActiveMember  EstimatedSalary  Exited  \n",
       "0          1               1        101348.88       1  \n",
       "1          0               1        112542.58       0  \n",
       "2          1               0        113931.57       1  \n",
       "3          0               0         93826.63       0  \n",
       "4          1               1         79084.10       0  "
      ]
     },
     "execution_count": 164,
     "metadata": {},
     "output_type": "execute_result"
    }
   ],
   "source": [
    "df = bank_df.drop(columns=['RowNumber','CustomerId','Surname'])\n",
    "df.head()"
   ]
  },
  {
   "cell_type": "code",
   "execution_count": 165,
   "metadata": {},
   "outputs": [
    {
     "data": {
      "text/plain": [
       "France     5014\n",
       "Germany    2509\n",
       "Spain      2477\n",
       "Name: Geography, dtype: int64"
      ]
     },
     "execution_count": 165,
     "metadata": {},
     "output_type": "execute_result"
    }
   ],
   "source": [
    "df['Geography'].value_counts()"
   ]
  },
  {
   "cell_type": "code",
   "execution_count": 166,
   "metadata": {},
   "outputs": [
    {
     "data": {
      "text/plain": [
       "Male      5457\n",
       "Female    4543\n",
       "Name: Gender, dtype: int64"
      ]
     },
     "execution_count": 166,
     "metadata": {},
     "output_type": "execute_result"
    }
   ],
   "source": [
    "df['Gender'].value_counts()"
   ]
  },
  {
   "cell_type": "code",
   "execution_count": 167,
   "metadata": {},
   "outputs": [
    {
     "data": {
      "text/plain": [
       "0    7963\n",
       "1    2037\n",
       "Name: Exited, dtype: int64"
      ]
     },
     "execution_count": 167,
     "metadata": {},
     "output_type": "execute_result"
    }
   ],
   "source": [
    "df['Exited'].value_counts()"
   ]
  },
  {
   "cell_type": "code",
   "execution_count": null,
   "metadata": {},
   "outputs": [],
   "source": []
  },
  {
   "cell_type": "code",
   "execution_count": 168,
   "metadata": {},
   "outputs": [
    {
     "data": {
      "text/plain": [
       "CreditScore          int64\n",
       "Geography           object\n",
       "Gender              object\n",
       "Age                  int64\n",
       "Tenure               int64\n",
       "Balance            float64\n",
       "NumOfProducts        int64\n",
       "HasCrCard            int64\n",
       "IsActiveMember       int64\n",
       "EstimatedSalary    float64\n",
       "Exited               int64\n",
       "dtype: object"
      ]
     },
     "execution_count": 168,
     "metadata": {},
     "output_type": "execute_result"
    }
   ],
   "source": [
    "df.dtypes"
   ]
  },
  {
   "cell_type": "code",
   "execution_count": 169,
   "metadata": {},
   "outputs": [],
   "source": [
    "# Categorical boolean mask\n",
    "categorical_feature_mask = df.dtypes==object\n",
    "# filter categorical columns using mask and turn it into a list\n",
    "categorical_cols = df.columns[categorical_feature_mask].tolist()"
   ]
  },
  {
   "cell_type": "code",
   "execution_count": 170,
   "metadata": {},
   "outputs": [],
   "source": [
    "# import labelencoder\n",
    "from sklearn.preprocessing import LabelEncoder\n",
    "# instantiate labelencoder object\n",
    "le = LabelEncoder()"
   ]
  },
  {
   "cell_type": "code",
   "execution_count": 171,
   "metadata": {},
   "outputs": [
    {
     "data": {
      "text/html": [
       "<div>\n",
       "<style scoped>\n",
       "    .dataframe tbody tr th:only-of-type {\n",
       "        vertical-align: middle;\n",
       "    }\n",
       "\n",
       "    .dataframe tbody tr th {\n",
       "        vertical-align: top;\n",
       "    }\n",
       "\n",
       "    .dataframe thead th {\n",
       "        text-align: right;\n",
       "    }\n",
       "</style>\n",
       "<table border=\"1\" class=\"dataframe\">\n",
       "  <thead>\n",
       "    <tr style=\"text-align: right;\">\n",
       "      <th></th>\n",
       "      <th>Geography</th>\n",
       "      <th>Gender</th>\n",
       "    </tr>\n",
       "  </thead>\n",
       "  <tbody>\n",
       "    <tr>\n",
       "      <th>0</th>\n",
       "      <td>0</td>\n",
       "      <td>0</td>\n",
       "    </tr>\n",
       "    <tr>\n",
       "      <th>1</th>\n",
       "      <td>2</td>\n",
       "      <td>0</td>\n",
       "    </tr>\n",
       "    <tr>\n",
       "      <th>2</th>\n",
       "      <td>0</td>\n",
       "      <td>0</td>\n",
       "    </tr>\n",
       "    <tr>\n",
       "      <th>3</th>\n",
       "      <td>0</td>\n",
       "      <td>0</td>\n",
       "    </tr>\n",
       "    <tr>\n",
       "      <th>4</th>\n",
       "      <td>2</td>\n",
       "      <td>0</td>\n",
       "    </tr>\n",
       "    <tr>\n",
       "      <th>5</th>\n",
       "      <td>2</td>\n",
       "      <td>1</td>\n",
       "    </tr>\n",
       "    <tr>\n",
       "      <th>6</th>\n",
       "      <td>0</td>\n",
       "      <td>1</td>\n",
       "    </tr>\n",
       "    <tr>\n",
       "      <th>7</th>\n",
       "      <td>1</td>\n",
       "      <td>0</td>\n",
       "    </tr>\n",
       "    <tr>\n",
       "      <th>8</th>\n",
       "      <td>0</td>\n",
       "      <td>1</td>\n",
       "    </tr>\n",
       "    <tr>\n",
       "      <th>9</th>\n",
       "      <td>0</td>\n",
       "      <td>1</td>\n",
       "    </tr>\n",
       "  </tbody>\n",
       "</table>\n",
       "</div>"
      ],
      "text/plain": [
       "   Geography  Gender\n",
       "0          0       0\n",
       "1          2       0\n",
       "2          0       0\n",
       "3          0       0\n",
       "4          2       0\n",
       "5          2       1\n",
       "6          0       1\n",
       "7          1       0\n",
       "8          0       1\n",
       "9          0       1"
      ]
     },
     "execution_count": 171,
     "metadata": {},
     "output_type": "execute_result"
    }
   ],
   "source": [
    "# apply le on categorical feature columns\n",
    "df[categorical_cols] = df[categorical_cols].apply(lambda col: le.fit_transform(col))\n",
    "df[categorical_cols].head(10)"
   ]
  },
  {
   "cell_type": "code",
   "execution_count": 172,
   "metadata": {},
   "outputs": [
    {
     "data": {
      "text/html": [
       "<div>\n",
       "<style scoped>\n",
       "    .dataframe tbody tr th:only-of-type {\n",
       "        vertical-align: middle;\n",
       "    }\n",
       "\n",
       "    .dataframe tbody tr th {\n",
       "        vertical-align: top;\n",
       "    }\n",
       "\n",
       "    .dataframe thead th {\n",
       "        text-align: right;\n",
       "    }\n",
       "</style>\n",
       "<table border=\"1\" class=\"dataframe\">\n",
       "  <thead>\n",
       "    <tr style=\"text-align: right;\">\n",
       "      <th></th>\n",
       "      <th>CreditScore</th>\n",
       "      <th>Geography</th>\n",
       "      <th>Gender</th>\n",
       "      <th>Age</th>\n",
       "      <th>Tenure</th>\n",
       "      <th>Balance</th>\n",
       "      <th>NumOfProducts</th>\n",
       "      <th>HasCrCard</th>\n",
       "      <th>IsActiveMember</th>\n",
       "      <th>EstimatedSalary</th>\n",
       "      <th>Exited</th>\n",
       "    </tr>\n",
       "  </thead>\n",
       "  <tbody>\n",
       "    <tr>\n",
       "      <th>0</th>\n",
       "      <td>619</td>\n",
       "      <td>0</td>\n",
       "      <td>0</td>\n",
       "      <td>42</td>\n",
       "      <td>2</td>\n",
       "      <td>0.00</td>\n",
       "      <td>1</td>\n",
       "      <td>1</td>\n",
       "      <td>1</td>\n",
       "      <td>101348.88</td>\n",
       "      <td>1</td>\n",
       "    </tr>\n",
       "    <tr>\n",
       "      <th>1</th>\n",
       "      <td>608</td>\n",
       "      <td>2</td>\n",
       "      <td>0</td>\n",
       "      <td>41</td>\n",
       "      <td>1</td>\n",
       "      <td>83807.86</td>\n",
       "      <td>1</td>\n",
       "      <td>0</td>\n",
       "      <td>1</td>\n",
       "      <td>112542.58</td>\n",
       "      <td>0</td>\n",
       "    </tr>\n",
       "    <tr>\n",
       "      <th>2</th>\n",
       "      <td>502</td>\n",
       "      <td>0</td>\n",
       "      <td>0</td>\n",
       "      <td>42</td>\n",
       "      <td>8</td>\n",
       "      <td>159660.80</td>\n",
       "      <td>3</td>\n",
       "      <td>1</td>\n",
       "      <td>0</td>\n",
       "      <td>113931.57</td>\n",
       "      <td>1</td>\n",
       "    </tr>\n",
       "    <tr>\n",
       "      <th>3</th>\n",
       "      <td>699</td>\n",
       "      <td>0</td>\n",
       "      <td>0</td>\n",
       "      <td>39</td>\n",
       "      <td>1</td>\n",
       "      <td>0.00</td>\n",
       "      <td>2</td>\n",
       "      <td>0</td>\n",
       "      <td>0</td>\n",
       "      <td>93826.63</td>\n",
       "      <td>0</td>\n",
       "    </tr>\n",
       "    <tr>\n",
       "      <th>4</th>\n",
       "      <td>850</td>\n",
       "      <td>2</td>\n",
       "      <td>0</td>\n",
       "      <td>43</td>\n",
       "      <td>2</td>\n",
       "      <td>125510.82</td>\n",
       "      <td>1</td>\n",
       "      <td>1</td>\n",
       "      <td>1</td>\n",
       "      <td>79084.10</td>\n",
       "      <td>0</td>\n",
       "    </tr>\n",
       "  </tbody>\n",
       "</table>\n",
       "</div>"
      ],
      "text/plain": [
       "   CreditScore  Geography  Gender  Age  Tenure    Balance  NumOfProducts  \\\n",
       "0          619          0       0   42       2       0.00              1   \n",
       "1          608          2       0   41       1   83807.86              1   \n",
       "2          502          0       0   42       8  159660.80              3   \n",
       "3          699          0       0   39       1       0.00              2   \n",
       "4          850          2       0   43       2  125510.82              1   \n",
       "\n",
       "   HasCrCard  IsActiveMember  EstimatedSalary  Exited  \n",
       "0          1               1        101348.88       1  \n",
       "1          0               1        112542.58       0  \n",
       "2          1               0        113931.57       1  \n",
       "3          0               0         93826.63       0  \n",
       "4          1               1         79084.10       0  "
      ]
     },
     "execution_count": 172,
     "metadata": {},
     "output_type": "execute_result"
    }
   ],
   "source": [
    "df.head()"
   ]
  },
  {
   "cell_type": "code",
   "execution_count": null,
   "metadata": {},
   "outputs": [],
   "source": []
  },
  {
   "cell_type": "code",
   "execution_count": null,
   "metadata": {},
   "outputs": [],
   "source": []
  },
  {
   "cell_type": "markdown",
   "metadata": {},
   "source": [
    "3. Distinguish the feature and target set (2.5 points)\n"
   ]
  },
  {
   "cell_type": "code",
   "execution_count": 173,
   "metadata": {},
   "outputs": [],
   "source": [
    "y = df['Exited']\n",
    "X = df.drop(columns ='Exited')"
   ]
  },
  {
   "cell_type": "code",
   "execution_count": 174,
   "metadata": {},
   "outputs": [
    {
     "data": {
      "text/plain": [
       "array([1., 0., 1., ..., 1., 1., 0.], dtype=float32)"
      ]
     },
     "execution_count": 174,
     "metadata": {},
     "output_type": "execute_result"
    }
   ],
   "source": [
    "labels = np.array(y).astype('float32')\n",
    "features = np.array(X).astype('float32')\n",
    "labels"
   ]
  },
  {
   "cell_type": "markdown",
   "metadata": {},
   "source": [
    "4. Divide the data set into Train and test sets"
   ]
  },
  {
   "cell_type": "code",
   "execution_count": 175,
   "metadata": {},
   "outputs": [],
   "source": [
    "from sklearn.model_selection import train_test_split, GridSearchCV\n",
    "from scipy.stats import zscore\n",
    "from scipy import stats"
   ]
  },
  {
   "cell_type": "code",
   "execution_count": 176,
   "metadata": {},
   "outputs": [],
   "source": [
    "X_train, X_test, y_train, y_test = train_test_split(features, labels, test_size=0.25, random_state=1)\n"
   ]
  },
  {
   "cell_type": "markdown",
   "metadata": {},
   "source": [
    "5. Normalize the train and test data (2.5 points)\n"
   ]
  },
  {
   "cell_type": "code",
   "execution_count": 177,
   "metadata": {},
   "outputs": [
    {
     "data": {
      "text/plain": [
       "TensorShape([7500, 10])"
      ]
     },
     "execution_count": 177,
     "metadata": {},
     "output_type": "execute_result"
    }
   ],
   "source": [
    "X_train_z = tf.math.l2_normalize(X_train) \n",
    "X_test_z  = tf.math.l2_normalize(X_test)\n",
    "X_train_z.shape\n"
   ]
  },
  {
   "cell_type": "code",
   "execution_count": 179,
   "metadata": {},
   "outputs": [
    {
     "data": {
      "text/plain": [
       "<tf.Tensor: id=2210908, shape=(2500,), dtype=float32, numpy=array([0., 0., 0., ..., 1., 0., 0.], dtype=float32)>"
      ]
     },
     "execution_count": 179,
     "metadata": {},
     "output_type": "execute_result"
    }
   ],
   "source": [
    "#trainY = tf.keras.utils.to_categorical(y_train, num_classes =1)\n",
    "#testY = tf.keras.utils.to_categorical(y_test, num_classes=1)\n",
    "trainY = tf.convert_to_tensor(y_train)\n",
    "testY = tf.convert_to_tensor(y_test)\n",
    "testY"
   ]
  },
  {
   "cell_type": "markdown",
   "metadata": {},
   "source": [
    "6. Initialize & build the model (7.5 points)"
   ]
  },
  {
   "cell_type": "code",
   "execution_count": 180,
   "metadata": {},
   "outputs": [],
   "source": [
    "tf.random.set_seed(1)\n",
    "#Initialize Sequential model\n",
    "model = tf.keras.models.Sequential()\n",
    "\n",
    "#Add OUTPUT layer\n",
    "model.add(tf.keras.layers.Dense(1, activation='sigmoid'))\n",
    "\n",
    "#Compile the model\n",
    "model.compile(optimizer='sgd', loss='binary_crossentropy',metrics=['accuracy'])"
   ]
  },
  {
   "cell_type": "code",
   "execution_count": 181,
   "metadata": {},
   "outputs": [
    {
     "name": "stdout",
     "output_type": "stream",
     "text": [
      "Train on 7500 samples, validate on 2500 samples\n",
      "Epoch 1/100\n",
      "7500/7500 [==============================] - 3s 338us/sample - loss: 0.5593 - accuracy: 0.7967 - val_loss: 0.5187 - val_accuracy: 0.7920\n",
      "Epoch 2/100\n",
      "7500/7500 [==============================] - 2s 256us/sample - loss: 0.5068 - accuracy: 0.7977 - val_loss: 0.5115 - val_accuracy: 0.7920\n",
      "Epoch 3/100\n",
      "7500/7500 [==============================] - 2s 261us/sample - loss: 0.5038 - accuracy: 0.7977 - val_loss: 0.5112 - val_accuracy: 0.7920\n",
      "Epoch 4/100\n",
      "7500/7500 [==============================] - 2s 270us/sample - loss: 0.5036 - accuracy: 0.7977 - val_loss: 0.5113 - val_accuracy: 0.7920\n",
      "Epoch 5/100\n",
      "7500/7500 [==============================] - 2s 271us/sample - loss: 0.5036 - accuracy: 0.7977 - val_loss: 0.5113 - val_accuracy: 0.7920\n",
      "Epoch 6/100\n",
      "7500/7500 [==============================] - 2s 284us/sample - loss: 0.5036 - accuracy: 0.7977 - val_loss: 0.5113 - val_accuracy: 0.7920\n",
      "Epoch 7/100\n",
      "7500/7500 [==============================] - 2s 294us/sample - loss: 0.5035 - accuracy: 0.7977 - val_loss: 0.5113 - val_accuracy: 0.7920\n",
      "Epoch 8/100\n",
      "7500/7500 [==============================] - 2s 303us/sample - loss: 0.5035 - accuracy: 0.7977 - val_loss: 0.5112 - val_accuracy: 0.7920\n",
      "Epoch 9/100\n",
      "7500/7500 [==============================] - 2s 302us/sample - loss: 0.5035 - accuracy: 0.7977 - val_loss: 0.5113 - val_accuracy: 0.7920\n",
      "Epoch 10/100\n",
      "7500/7500 [==============================] - 2s 303us/sample - loss: 0.5036 - accuracy: 0.7977 - val_loss: 0.5113 - val_accuracy: 0.7920\n",
      "Epoch 11/100\n",
      "7500/7500 [==============================] - 2s 302us/sample - loss: 0.5036 - accuracy: 0.7977 - val_loss: 0.5113 - val_accuracy: 0.7920\n",
      "Epoch 12/100\n",
      "7500/7500 [==============================] - 2s 288us/sample - loss: 0.5036 - accuracy: 0.7977 - val_loss: 0.5113 - val_accuracy: 0.7920\n",
      "Epoch 13/100\n",
      "7500/7500 [==============================] - 2s 294us/sample - loss: 0.5035 - accuracy: 0.7977 - val_loss: 0.5113 - val_accuracy: 0.7920\n",
      "Epoch 14/100\n",
      "7500/7500 [==============================] - 2s 285us/sample - loss: 0.5035 - accuracy: 0.7977 - val_loss: 0.5113 - val_accuracy: 0.7920\n",
      "Epoch 15/100\n",
      "7500/7500 [==============================] - 2s 286us/sample - loss: 0.5035 - accuracy: 0.7977 - val_loss: 0.5113 - val_accuracy: 0.7920\n",
      "Epoch 16/100\n",
      "7500/7500 [==============================] - 2s 290us/sample - loss: 0.5035 - accuracy: 0.7977 - val_loss: 0.5113 - val_accuracy: 0.7920\n",
      "Epoch 17/100\n",
      "7500/7500 [==============================] - 2s 290us/sample - loss: 0.5036 - accuracy: 0.7977 - val_loss: 0.5113 - val_accuracy: 0.7920\n",
      "Epoch 18/100\n",
      "7500/7500 [==============================] - 2s 292us/sample - loss: 0.5035 - accuracy: 0.7977 - val_loss: 0.5113 - val_accuracy: 0.7920\n",
      "Epoch 19/100\n",
      "7500/7500 [==============================] - 2s 290us/sample - loss: 0.5035 - accuracy: 0.7977 - val_loss: 0.5113 - val_accuracy: 0.7920\n",
      "Epoch 20/100\n",
      "7500/7500 [==============================] - 2s 291us/sample - loss: 0.5035 - accuracy: 0.7977 - val_loss: 0.5113 - val_accuracy: 0.7920\n",
      "Epoch 21/100\n",
      "7500/7500 [==============================] - 2s 285us/sample - loss: 0.5035 - accuracy: 0.7977 - val_loss: 0.5112 - val_accuracy: 0.7920\n",
      "Epoch 22/100\n",
      "7500/7500 [==============================] - 2s 284us/sample - loss: 0.5036 - accuracy: 0.7977 - val_loss: 0.5113 - val_accuracy: 0.7920\n",
      "Epoch 23/100\n",
      "7500/7500 [==============================] - 2s 289us/sample - loss: 0.5035 - accuracy: 0.7977 - val_loss: 0.5112 - val_accuracy: 0.7920\n",
      "Epoch 24/100\n",
      "7500/7500 [==============================] - 2s 292us/sample - loss: 0.5035 - accuracy: 0.7977 - val_loss: 0.5113 - val_accuracy: 0.7920\n",
      "Epoch 25/100\n",
      "7500/7500 [==============================] - 2s 292us/sample - loss: 0.5035 - accuracy: 0.7977 - val_loss: 0.5113 - val_accuracy: 0.7920\n",
      "Epoch 26/100\n",
      "7500/7500 [==============================] - 2s 294us/sample - loss: 0.5035 - accuracy: 0.7977 - val_loss: 0.5112 - val_accuracy: 0.7920\n",
      "Epoch 27/100\n",
      "7500/7500 [==============================] - 2s 285us/sample - loss: 0.5035 - accuracy: 0.7977 - val_loss: 0.5113 - val_accuracy: 0.7920\n",
      "Epoch 28/100\n",
      "7500/7500 [==============================] - 2s 293us/sample - loss: 0.5035 - accuracy: 0.7977 - val_loss: 0.5113 - val_accuracy: 0.7920\n",
      "Epoch 29/100\n",
      "7500/7500 [==============================] - 2s 291us/sample - loss: 0.5035 - accuracy: 0.7977 - val_loss: 0.5113 - val_accuracy: 0.7920\n",
      "Epoch 30/100\n",
      "7500/7500 [==============================] - 2s 277us/sample - loss: 0.5035 - accuracy: 0.7977 - val_loss: 0.5113 - val_accuracy: 0.7920\n",
      "Epoch 31/100\n",
      "7500/7500 [==============================] - 2s 290us/sample - loss: 0.5035 - accuracy: 0.7977 - val_loss: 0.5113 - val_accuracy: 0.7920\n",
      "Epoch 32/100\n",
      "7500/7500 [==============================] - 2s 287us/sample - loss: 0.5035 - accuracy: 0.7977 - val_loss: 0.5113 - val_accuracy: 0.7920\n",
      "Epoch 33/100\n",
      "7500/7500 [==============================] - 2s 287us/sample - loss: 0.5035 - accuracy: 0.7977 - val_loss: 0.5113 - val_accuracy: 0.7920\n",
      "Epoch 34/100\n",
      "7500/7500 [==============================] - 2s 289us/sample - loss: 0.5035 - accuracy: 0.7977 - val_loss: 0.5113 - val_accuracy: 0.7920\n",
      "Epoch 35/100\n",
      "7500/7500 [==============================] - 2s 290us/sample - loss: 0.5035 - accuracy: 0.7977 - val_loss: 0.5114 - val_accuracy: 0.7920\n",
      "Epoch 36/100\n",
      "7500/7500 [==============================] - 2s 255us/sample - loss: 0.5035 - accuracy: 0.7977 - val_loss: 0.5112 - val_accuracy: 0.7920\n",
      "Epoch 37/100\n",
      "7500/7500 [==============================] - 2s 246us/sample - loss: 0.5035 - accuracy: 0.7977 - val_loss: 0.5112 - val_accuracy: 0.7920\n",
      "Epoch 38/100\n",
      "7500/7500 [==============================] - 2s 257us/sample - loss: 0.5035 - accuracy: 0.7977 - val_loss: 0.5112 - val_accuracy: 0.7920\n",
      "Epoch 39/100\n",
      "7500/7500 [==============================] - 2s 257us/sample - loss: 0.5035 - accuracy: 0.7977 - val_loss: 0.5113 - val_accuracy: 0.7920\n",
      "Epoch 40/100\n",
      "7500/7500 [==============================] - 2s 259us/sample - loss: 0.5035 - accuracy: 0.7977 - val_loss: 0.5113 - val_accuracy: 0.7920\n",
      "Epoch 41/100\n",
      "7500/7500 [==============================] - 2s 263us/sample - loss: 0.5035 - accuracy: 0.7977 - val_loss: 0.5113 - val_accuracy: 0.7920\n",
      "Epoch 42/100\n",
      "7500/7500 [==============================] - 2s 264us/sample - loss: 0.5035 - accuracy: 0.7977 - val_loss: 0.5113 - val_accuracy: 0.7920\n",
      "Epoch 43/100\n",
      "7500/7500 [==============================] - 2s 253us/sample - loss: 0.5035 - accuracy: 0.7977 - val_loss: 0.5113 - val_accuracy: 0.7920\n",
      "Epoch 44/100\n",
      "7500/7500 [==============================] - 2s 266us/sample - loss: 0.5035 - accuracy: 0.7977 - val_loss: 0.5113 - val_accuracy: 0.7920\n",
      "Epoch 45/100\n",
      "7500/7500 [==============================] - 2s 247us/sample - loss: 0.5035 - accuracy: 0.7977 - val_loss: 0.5113 - val_accuracy: 0.7920\n",
      "Epoch 46/100\n",
      "7500/7500 [==============================] - 2s 279us/sample - loss: 0.5035 - accuracy: 0.7977 - val_loss: 0.5113 - val_accuracy: 0.7920\n",
      "Epoch 47/100\n",
      "7500/7500 [==============================] - 2s 281us/sample - loss: 0.5035 - accuracy: 0.7977 - val_loss: 0.5112 - val_accuracy: 0.7920\n",
      "Epoch 48/100\n",
      "7500/7500 [==============================] - 2s 264us/sample - loss: 0.5035 - accuracy: 0.7977 - val_loss: 0.5113 - val_accuracy: 0.7920\n",
      "Epoch 49/100\n",
      "7500/7500 [==============================] - 2s 259us/sample - loss: 0.5035 - accuracy: 0.7977 - val_loss: 0.5113 - val_accuracy: 0.7920\n",
      "Epoch 50/100\n",
      "7500/7500 [==============================] - 2s 255us/sample - loss: 0.5035 - accuracy: 0.7977 - val_loss: 0.5112 - val_accuracy: 0.7920\n",
      "Epoch 51/100\n",
      "7500/7500 [==============================] - 2s 260us/sample - loss: 0.5035 - accuracy: 0.7977 - val_loss: 0.5112 - val_accuracy: 0.7920\n",
      "Epoch 52/100\n",
      "7500/7500 [==============================] - 2s 251us/sample - loss: 0.5035 - accuracy: 0.7977 - val_loss: 0.5113 - val_accuracy: 0.7920\n",
      "Epoch 53/100\n",
      "7500/7500 [==============================] - 2s 239us/sample - loss: 0.5035 - accuracy: 0.7977 - val_loss: 0.5113 - val_accuracy: 0.7920\n",
      "Epoch 54/100\n",
      "7500/7500 [==============================] - 2s 260us/sample - loss: 0.5035 - accuracy: 0.7977 - val_loss: 0.5113 - val_accuracy: 0.7920\n",
      "Epoch 55/100\n"
     ]
    },
    {
     "name": "stdout",
     "output_type": "stream",
     "text": [
      "7500/7500 [==============================] - 2s 234us/sample - loss: 0.5035 - accuracy: 0.7977 - val_loss: 0.5112 - val_accuracy: 0.7920\n",
      "Epoch 56/100\n",
      "7500/7500 [==============================] - 2s 243us/sample - loss: 0.5035 - accuracy: 0.7977 - val_loss: 0.5112 - val_accuracy: 0.7920\n",
      "Epoch 57/100\n",
      "7500/7500 [==============================] - 2s 226us/sample - loss: 0.5035 - accuracy: 0.7977 - val_loss: 0.5112 - val_accuracy: 0.7920\n",
      "Epoch 58/100\n",
      "7500/7500 [==============================] - 2s 226us/sample - loss: 0.5035 - accuracy: 0.7977 - val_loss: 0.5112 - val_accuracy: 0.7920\n",
      "Epoch 59/100\n",
      "7500/7500 [==============================] - 2s 246us/sample - loss: 0.5035 - accuracy: 0.7977 - val_loss: 0.5112 - val_accuracy: 0.7920\n",
      "Epoch 60/100\n",
      "7500/7500 [==============================] - 2s 230us/sample - loss: 0.5035 - accuracy: 0.7977 - val_loss: 0.5113 - val_accuracy: 0.7920\n",
      "Epoch 61/100\n",
      "7500/7500 [==============================] - 2s 220us/sample - loss: 0.5035 - accuracy: 0.7977 - val_loss: 0.5112 - val_accuracy: 0.7920\n",
      "Epoch 62/100\n",
      "7500/7500 [==============================] - 2s 226us/sample - loss: 0.5035 - accuracy: 0.7977 - val_loss: 0.5113 - val_accuracy: 0.7920\n",
      "Epoch 63/100\n",
      "7500/7500 [==============================] - 2s 218us/sample - loss: 0.5035 - accuracy: 0.7977 - val_loss: 0.5114 - val_accuracy: 0.7920\n",
      "Epoch 64/100\n",
      "7500/7500 [==============================] - 2s 221us/sample - loss: 0.5035 - accuracy: 0.7977 - val_loss: 0.5112 - val_accuracy: 0.7920\n",
      "Epoch 65/100\n",
      "7500/7500 [==============================] - 2s 274us/sample - loss: 0.5035 - accuracy: 0.7977 - val_loss: 0.5113 - val_accuracy: 0.7920\n",
      "Epoch 66/100\n",
      "7500/7500 [==============================] - 2s 274us/sample - loss: 0.5035 - accuracy: 0.7977 - val_loss: 0.5113 - val_accuracy: 0.7920\n",
      "Epoch 67/100\n",
      "7500/7500 [==============================] - 2s 241us/sample - loss: 0.5035 - accuracy: 0.7977 - val_loss: 0.5112 - val_accuracy: 0.7920\n",
      "Epoch 68/100\n",
      "7500/7500 [==============================] - 2s 231us/sample - loss: 0.5035 - accuracy: 0.7977 - val_loss: 0.5112 - val_accuracy: 0.7920\n",
      "Epoch 69/100\n",
      "7500/7500 [==============================] - 2s 228us/sample - loss: 0.5035 - accuracy: 0.7977 - val_loss: 0.5113 - val_accuracy: 0.7920\n",
      "Epoch 70/100\n",
      "7500/7500 [==============================] - 2s 238us/sample - loss: 0.5035 - accuracy: 0.7977 - val_loss: 0.5113 - val_accuracy: 0.7920\n",
      "Epoch 71/100\n",
      "7500/7500 [==============================] - 2s 251us/sample - loss: 0.5035 - accuracy: 0.7977 - val_loss: 0.5112 - val_accuracy: 0.7920\n",
      "Epoch 72/100\n",
      "7500/7500 [==============================] - 2s 253us/sample - loss: 0.5035 - accuracy: 0.7977 - val_loss: 0.5112 - val_accuracy: 0.7920\n",
      "Epoch 73/100\n",
      "7500/7500 [==============================] - 2s 274us/sample - loss: 0.5035 - accuracy: 0.7977 - val_loss: 0.5112 - val_accuracy: 0.7920\n",
      "Epoch 74/100\n",
      "7500/7500 [==============================] - 2s 242us/sample - loss: 0.5035 - accuracy: 0.7977 - val_loss: 0.5112 - val_accuracy: 0.7920\n",
      "Epoch 75/100\n",
      "7500/7500 [==============================] - 2s 244us/sample - loss: 0.5035 - accuracy: 0.7977 - val_loss: 0.5112 - val_accuracy: 0.7920\n",
      "Epoch 76/100\n",
      "7500/7500 [==============================] - 2s 244us/sample - loss: 0.5035 - accuracy: 0.7977 - val_loss: 0.5112 - val_accuracy: 0.7920\n",
      "Epoch 77/100\n",
      "7500/7500 [==============================] - 2s 270us/sample - loss: 0.5035 - accuracy: 0.7977 - val_loss: 0.5112 - val_accuracy: 0.7920\n",
      "Epoch 78/100\n",
      "7500/7500 [==============================] - 2s 239us/sample - loss: 0.5035 - accuracy: 0.7977 - val_loss: 0.5112 - val_accuracy: 0.7920\n",
      "Epoch 79/100\n",
      "7500/7500 [==============================] - 2s 248us/sample - loss: 0.5035 - accuracy: 0.7977 - val_loss: 0.5112 - val_accuracy: 0.7920\n",
      "Epoch 80/100\n",
      "7500/7500 [==============================] - 2s 239us/sample - loss: 0.5035 - accuracy: 0.7977 - val_loss: 0.5112 - val_accuracy: 0.7920\n",
      "Epoch 81/100\n",
      "7500/7500 [==============================] - 2s 238us/sample - loss: 0.5035 - accuracy: 0.7977 - val_loss: 0.5112 - val_accuracy: 0.7920\n",
      "Epoch 82/100\n",
      "7500/7500 [==============================] - 2s 241us/sample - loss: 0.5035 - accuracy: 0.7977 - val_loss: 0.5112 - val_accuracy: 0.7920\n",
      "Epoch 83/100\n",
      "7500/7500 [==============================] - 2s 254us/sample - loss: 0.5035 - accuracy: 0.7977 - val_loss: 0.5113 - val_accuracy: 0.7920\n",
      "Epoch 84/100\n",
      "7500/7500 [==============================] - 2s 263us/sample - loss: 0.5035 - accuracy: 0.7977 - val_loss: 0.5113 - val_accuracy: 0.7920\n",
      "Epoch 85/100\n",
      "7500/7500 [==============================] - 2s 246us/sample - loss: 0.5035 - accuracy: 0.7977 - val_loss: 0.5112 - val_accuracy: 0.7920\n",
      "Epoch 86/100\n",
      "7500/7500 [==============================] - 2s 234us/sample - loss: 0.5035 - accuracy: 0.7977 - val_loss: 0.5113 - val_accuracy: 0.7920\n",
      "Epoch 87/100\n",
      "7500/7500 [==============================] - 2s 234us/sample - loss: 0.5035 - accuracy: 0.7977 - val_loss: 0.5113 - val_accuracy: 0.7920\n",
      "Epoch 88/100\n",
      "7500/7500 [==============================] - 2s 242us/sample - loss: 0.5035 - accuracy: 0.7977 - val_loss: 0.5113 - val_accuracy: 0.7920\n",
      "Epoch 89/100\n",
      "7500/7500 [==============================] - 2s 264us/sample - loss: 0.5035 - accuracy: 0.7977 - val_loss: 0.5112 - val_accuracy: 0.7920\n",
      "Epoch 90/100\n",
      "7500/7500 [==============================] - 2s 243us/sample - loss: 0.5035 - accuracy: 0.7977 - val_loss: 0.5112 - val_accuracy: 0.7920\n",
      "Epoch 91/100\n",
      "7500/7500 [==============================] - 2s 238us/sample - loss: 0.5035 - accuracy: 0.7977 - val_loss: 0.5112 - val_accuracy: 0.7920\n",
      "Epoch 92/100\n",
      "7500/7500 [==============================] - 2s 245us/sample - loss: 0.5035 - accuracy: 0.7977 - val_loss: 0.5113 - val_accuracy: 0.7920\n",
      "Epoch 93/100\n",
      "7500/7500 [==============================] - 2s 247us/sample - loss: 0.5035 - accuracy: 0.7977 - val_loss: 0.5113 - val_accuracy: 0.7920\n",
      "Epoch 94/100\n",
      "7500/7500 [==============================] - 2s 249us/sample - loss: 0.5035 - accuracy: 0.7977 - val_loss: 0.5114 - val_accuracy: 0.7920\n",
      "Epoch 95/100\n",
      "7500/7500 [==============================] - 2s 241us/sample - loss: 0.5035 - accuracy: 0.7977 - val_loss: 0.5112 - val_accuracy: 0.7920\n",
      "Epoch 96/100\n",
      "7500/7500 [==============================] - 2s 238us/sample - loss: 0.5035 - accuracy: 0.7977 - val_loss: 0.5112 - val_accuracy: 0.7920\n",
      "Epoch 97/100\n",
      "7500/7500 [==============================] - 2s 251us/sample - loss: 0.5035 - accuracy: 0.7977 - val_loss: 0.5113 - val_accuracy: 0.7920\n",
      "Epoch 98/100\n",
      "7500/7500 [==============================] - 2s 241us/sample - loss: 0.5035 - accuracy: 0.7977 - val_loss: 0.5112 - val_accuracy: 0.7920\n",
      "Epoch 99/100\n",
      "7500/7500 [==============================] - 2s 240us/sample - loss: 0.5035 - accuracy: 0.7977 - val_loss: 0.5112 - val_accuracy: 0.7920\n",
      "Epoch 100/100\n",
      "7500/7500 [==============================] - 2s 253us/sample - loss: 0.5035 - accuracy: 0.7977 - val_loss: 0.5112 - val_accuracy: 0.7920\n"
     ]
    },
    {
     "data": {
      "text/plain": [
       "<tensorflow.python.keras.callbacks.History at 0x1a750818908>"
      ]
     },
     "execution_count": 181,
     "metadata": {},
     "output_type": "execute_result"
    }
   ],
   "source": [
    "model.fit(X_train_z,trainY,          \n",
    "          validation_data=(X_test_z,testY),\n",
    "          epochs=100,\n",
    "          batch_size=10)"
   ]
  },
  {
   "cell_type": "code",
   "execution_count": null,
   "metadata": {},
   "outputs": [],
   "source": []
  },
  {
   "cell_type": "markdown",
   "metadata": {},
   "source": [
    "7. Optimize the model (5 points)\n"
   ]
  },
  {
   "cell_type": "code",
   "execution_count": 186,
   "metadata": {},
   "outputs": [],
   "source": [
    "tf.random.set_seed(1)\n",
    "#Initialize Sequential model\n",
    "model2 = tf.keras.models.Sequential()\n",
    "\n",
    "#Add 1st Hidden layer\n",
    "model2.add(tf.keras.layers.Dense(6,input_shape=(10,),activation='relu'))\n",
    "\n",
    "#Add 2nd Hidden layer\n",
    "model2.add(tf.keras.layers.Dense(6, activation='relu'))\n",
    "\n",
    "\n",
    "#Add OUTPUT layer\n",
    "model2.add(tf.keras.layers.Dense(1,  activation='sigmoid'))\n",
    "\n",
    "#Compile the model\n",
    "model2.compile(optimizer='adam', loss='binary_crossentropy',metrics=['accuracy'])"
   ]
  },
  {
   "cell_type": "code",
   "execution_count": 187,
   "metadata": {},
   "outputs": [
    {
     "name": "stdout",
     "output_type": "stream",
     "text": [
      "Train on 7500 samples, validate on 2500 samples\n",
      "Epoch 1/100\n",
      "7500/7500 [==============================] - 3s 421us/sample - loss: 0.5262 - accuracy: 0.7977 - val_loss: 0.5116 - val_accuracy: 0.7920\n",
      "Epoch 2/100\n",
      "7500/7500 [==============================] - 2s 293us/sample - loss: 0.5039 - accuracy: 0.7977 - val_loss: 0.5113 - val_accuracy: 0.7920\n",
      "Epoch 3/100\n",
      "7500/7500 [==============================] - 2s 287us/sample - loss: 0.5037 - accuracy: 0.7977 - val_loss: 0.5110 - val_accuracy: 0.7920\n",
      "Epoch 4/100\n",
      "7500/7500 [==============================] - 2s 298us/sample - loss: 0.5036 - accuracy: 0.7977 - val_loss: 0.5107 - val_accuracy: 0.7920\n",
      "Epoch 5/100\n",
      "7500/7500 [==============================] - 2s 305us/sample - loss: 0.5035 - accuracy: 0.7977 - val_loss: 0.5104 - val_accuracy: 0.7920\n",
      "Epoch 6/100\n",
      "7500/7500 [==============================] - 2s 319us/sample - loss: 0.5037 - accuracy: 0.7977 - val_loss: 0.5101 - val_accuracy: 0.7920\n",
      "Epoch 7/100\n",
      "7500/7500 [==============================] - 2s 308us/sample - loss: 0.5031 - accuracy: 0.7977 - val_loss: 0.5100 - val_accuracy: 0.7920\n",
      "Epoch 8/100\n",
      "7500/7500 [==============================] - 2s 325us/sample - loss: 0.5030 - accuracy: 0.7977 - val_loss: 0.5097 - val_accuracy: 0.7920\n",
      "Epoch 9/100\n",
      "7500/7500 [==============================] - 3s 354us/sample - loss: 0.5026 - accuracy: 0.7977 - val_loss: 0.5094 - val_accuracy: 0.7920\n",
      "Epoch 10/100\n",
      "7500/7500 [==============================] - 2s 309us/sample - loss: 0.5026 - accuracy: 0.7977 - val_loss: 0.5090 - val_accuracy: 0.7920\n",
      "Epoch 11/100\n",
      "7500/7500 [==============================] - 2s 322us/sample - loss: 0.5025 - accuracy: 0.7977 - val_loss: 0.5088 - val_accuracy: 0.7920\n",
      "Epoch 12/100\n",
      "7500/7500 [==============================] - 2s 314us/sample - loss: 0.5023 - accuracy: 0.7977 - val_loss: 0.5087 - val_accuracy: 0.7920\n",
      "Epoch 13/100\n",
      "7500/7500 [==============================] - 3s 354us/sample - loss: 0.5021 - accuracy: 0.7977 - val_loss: 0.5082 - val_accuracy: 0.7920\n",
      "Epoch 14/100\n",
      "7500/7500 [==============================] - 3s 349us/sample - loss: 0.5017 - accuracy: 0.7977 - val_loss: 0.5079 - val_accuracy: 0.7920\n",
      "Epoch 15/100\n",
      "7500/7500 [==============================] - 3s 369us/sample - loss: 0.5016 - accuracy: 0.7977 - val_loss: 0.5075 - val_accuracy: 0.7920\n",
      "Epoch 16/100\n",
      "7500/7500 [==============================] - 2s 330us/sample - loss: 0.5013 - accuracy: 0.7977 - val_loss: 0.5072 - val_accuracy: 0.7920\n",
      "Epoch 17/100\n",
      "7500/7500 [==============================] - 3s 339us/sample - loss: 0.5012 - accuracy: 0.7977 - val_loss: 0.5076 - val_accuracy: 0.7920\n",
      "Epoch 18/100\n",
      "7500/7500 [==============================] - 2s 329us/sample - loss: 0.5010 - accuracy: 0.7977 - val_loss: 0.5068 - val_accuracy: 0.7920\n",
      "Epoch 19/100\n",
      "7500/7500 [==============================] - 2s 330us/sample - loss: 0.5006 - accuracy: 0.7977 - val_loss: 0.5077 - val_accuracy: 0.7920\n",
      "Epoch 20/100\n",
      "7500/7500 [==============================] - 3s 342us/sample - loss: 0.5005 - accuracy: 0.7977 - val_loss: 0.5063 - val_accuracy: 0.7920\n",
      "Epoch 21/100\n",
      "7500/7500 [==============================] - 3s 342us/sample - loss: 0.5003 - accuracy: 0.7977 - val_loss: 0.5060 - val_accuracy: 0.7920\n",
      "Epoch 22/100\n",
      "7500/7500 [==============================] - 3s 343us/sample - loss: 0.5000 - accuracy: 0.7977 - val_loss: 0.5060 - val_accuracy: 0.7920\n",
      "Epoch 23/100\n",
      "7500/7500 [==============================] - 3s 338us/sample - loss: 0.4997 - accuracy: 0.7977 - val_loss: 0.5055 - val_accuracy: 0.7920\n",
      "Epoch 24/100\n",
      "7500/7500 [==============================] - 3s 336us/sample - loss: 0.4991 - accuracy: 0.7977 - val_loss: 0.5048 - val_accuracy: 0.7920\n",
      "Epoch 25/100\n",
      "7500/7500 [==============================] - 3s 342us/sample - loss: 0.4993 - accuracy: 0.7977 - val_loss: 0.5047 - val_accuracy: 0.7920\n",
      "Epoch 26/100\n",
      "7500/7500 [==============================] - 3s 347us/sample - loss: 0.4987 - accuracy: 0.7977 - val_loss: 0.5095 - val_accuracy: 0.7920\n",
      "Epoch 27/100\n",
      "7500/7500 [==============================] - 3s 369us/sample - loss: 0.4991 - accuracy: 0.7977 - val_loss: 0.5055 - val_accuracy: 0.7920\n",
      "Epoch 28/100\n",
      "7500/7500 [==============================] - 3s 352us/sample - loss: 0.4987 - accuracy: 0.7977 - val_loss: 0.5057 - val_accuracy: 0.7920\n",
      "Epoch 29/100\n",
      "7500/7500 [==============================] - 3s 342us/sample - loss: 0.4981 - accuracy: 0.7977 - val_loss: 0.5061 - val_accuracy: 0.7920\n",
      "Epoch 30/100\n",
      "7500/7500 [==============================] - 3s 335us/sample - loss: 0.4986 - accuracy: 0.7977 - val_loss: 0.5041 - val_accuracy: 0.7920\n",
      "Epoch 31/100\n",
      "7500/7500 [==============================] - 3s 349us/sample - loss: 0.4978 - accuracy: 0.7977 - val_loss: 0.5079 - val_accuracy: 0.7920\n",
      "Epoch 32/100\n",
      "7500/7500 [==============================] - 3s 352us/sample - loss: 0.4981 - accuracy: 0.7977 - val_loss: 0.5043 - val_accuracy: 0.7920\n",
      "Epoch 33/100\n",
      "7500/7500 [==============================] - 3s 341us/sample - loss: 0.4976 - accuracy: 0.7977 - val_loss: 0.5080 - val_accuracy: 0.7920\n",
      "Epoch 34/100\n",
      "7500/7500 [==============================] - 3s 345us/sample - loss: 0.4980 - accuracy: 0.7977 - val_loss: 0.5069 - val_accuracy: 0.7920\n",
      "Epoch 35/100\n",
      "7500/7500 [==============================] - 3s 335us/sample - loss: 0.4973 - accuracy: 0.7977 - val_loss: 0.5048 - val_accuracy: 0.7920\n",
      "Epoch 36/100\n",
      "7500/7500 [==============================] - 3s 346us/sample - loss: 0.4973 - accuracy: 0.7977 - val_loss: 0.5122 - val_accuracy: 0.7920\n",
      "Epoch 37/100\n",
      "7500/7500 [==============================] - 3s 344us/sample - loss: 0.4977 - accuracy: 0.7977 - val_loss: 0.5084 - val_accuracy: 0.7920\n",
      "Epoch 38/100\n",
      "7500/7500 [==============================] - 2s 307us/sample - loss: 0.4975 - accuracy: 0.7977 - val_loss: 0.5093 - val_accuracy: 0.7920\n",
      "Epoch 39/100\n",
      "7500/7500 [==============================] - 2s 291us/sample - loss: 0.4970 - accuracy: 0.7977 - val_loss: 0.5058 - val_accuracy: 0.7920\n",
      "Epoch 40/100\n",
      "7500/7500 [==============================] - 2s 279us/sample - loss: 0.4973 - accuracy: 0.7977 - val_loss: 0.5055 - val_accuracy: 0.7920\n",
      "Epoch 41/100\n",
      "7500/7500 [==============================] - 2s 289us/sample - loss: 0.4972 - accuracy: 0.7977 - val_loss: 0.5070 - val_accuracy: 0.7920\n",
      "Epoch 42/100\n",
      "7500/7500 [==============================] - 2s 289us/sample - loss: 0.4972 - accuracy: 0.7977 - val_loss: 0.5096 - val_accuracy: 0.7920\n",
      "Epoch 43/100\n",
      "7500/7500 [==============================] - 2s 290us/sample - loss: 0.4972 - accuracy: 0.7977 - val_loss: 0.5063 - val_accuracy: 0.7920\n",
      "Epoch 44/100\n",
      "7500/7500 [==============================] - 2s 300us/sample - loss: 0.4969 - accuracy: 0.7977 - val_loss: 0.5066 - val_accuracy: 0.7920\n",
      "Epoch 45/100\n",
      "7500/7500 [==============================] - 3s 345us/sample - loss: 0.4971 - accuracy: 0.7977 - val_loss: 0.5085 - val_accuracy: 0.7920\n",
      "Epoch 46/100\n",
      "7500/7500 [==============================] - 2s 301us/sample - loss: 0.4972 - accuracy: 0.7977 - val_loss: 0.5090 - val_accuracy: 0.7920\n",
      "Epoch 47/100\n",
      "7500/7500 [==============================] - 3s 365us/sample - loss: 0.4970 - accuracy: 0.7977 - val_loss: 0.5189 - val_accuracy: 0.7920\n",
      "Epoch 48/100\n",
      "7500/7500 [==============================] - 3s 338us/sample - loss: 0.4971 - accuracy: 0.7977 - val_loss: 0.5098 - val_accuracy: 0.7920\n",
      "Epoch 49/100\n",
      "7500/7500 [==============================] - 2s 304us/sample - loss: 0.4970 - accuracy: 0.7977 - val_loss: 0.5084 - val_accuracy: 0.7920\n",
      "Epoch 50/100\n",
      "7500/7500 [==============================] - 2s 292us/sample - loss: 0.4970 - accuracy: 0.7977 - val_loss: 0.5074 - val_accuracy: 0.7920\n",
      "Epoch 51/100\n",
      "7500/7500 [==============================] - 2s 307us/sample - loss: 0.4970 - accuracy: 0.7977 - val_loss: 0.5124 - val_accuracy: 0.7920\n",
      "Epoch 52/100\n",
      "7500/7500 [==============================] - 2s 287us/sample - loss: 0.4967 - accuracy: 0.7977 - val_loss: 0.5101 - val_accuracy: 0.7920\n",
      "Epoch 53/100\n",
      "7500/7500 [==============================] - 2s 290us/sample - loss: 0.4971 - accuracy: 0.7977 - val_loss: 0.5144 - val_accuracy: 0.7920\n",
      "Epoch 54/100\n",
      "7500/7500 [==============================] - 2s 300us/sample - loss: 0.4971 - accuracy: 0.7977 - val_loss: 0.5100 - val_accuracy: 0.7920\n",
      "Epoch 55/100\n"
     ]
    },
    {
     "name": "stdout",
     "output_type": "stream",
     "text": [
      "7500/7500 [==============================] - 2s 273us/sample - loss: 0.4968 - accuracy: 0.7977 - val_loss: 0.5124 - val_accuracy: 0.7920\n",
      "Epoch 56/100\n",
      "7500/7500 [==============================] - 2s 296us/sample - loss: 0.4970 - accuracy: 0.7977 - val_loss: 0.5153 - val_accuracy: 0.7920\n",
      "Epoch 57/100\n",
      "7500/7500 [==============================] - 2s 262us/sample - loss: 0.4965 - accuracy: 0.7977 - val_loss: 0.5125 - val_accuracy: 0.7920\n",
      "Epoch 58/100\n",
      "7500/7500 [==============================] - 2s 270us/sample - loss: 0.4971 - accuracy: 0.7977 - val_loss: 0.5094 - val_accuracy: 0.7920\n",
      "Epoch 59/100\n",
      "7500/7500 [==============================] - 2s 263us/sample - loss: 0.4969 - accuracy: 0.7977 - val_loss: 0.5100 - val_accuracy: 0.7920\n",
      "Epoch 60/100\n",
      "7500/7500 [==============================] - 2s 259us/sample - loss: 0.4970 - accuracy: 0.7977 - val_loss: 0.5132 - val_accuracy: 0.7920\n",
      "Epoch 61/100\n",
      "7500/7500 [==============================] - 2s 265us/sample - loss: 0.4971 - accuracy: 0.7977 - val_loss: 0.5134 - val_accuracy: 0.7920\n",
      "Epoch 62/100\n",
      "7500/7500 [==============================] - 2s 258us/sample - loss: 0.4971 - accuracy: 0.7977 - val_loss: 0.5100 - val_accuracy: 0.7920\n",
      "Epoch 63/100\n",
      "7500/7500 [==============================] - 2s 264us/sample - loss: 0.4963 - accuracy: 0.7977 - val_loss: 0.5135 - val_accuracy: 0.7920\n",
      "Epoch 64/100\n",
      "7500/7500 [==============================] - 2s 270us/sample - loss: 0.4971 - accuracy: 0.7977 - val_loss: 0.5160 - val_accuracy: 0.7920\n",
      "Epoch 65/100\n",
      "7500/7500 [==============================] - 2s 257us/sample - loss: 0.4970 - accuracy: 0.7977 - val_loss: 0.5110 - val_accuracy: 0.7920\n",
      "Epoch 66/100\n",
      "7500/7500 [==============================] - 2s 286us/sample - loss: 0.4971 - accuracy: 0.7977 - val_loss: 0.5123 - val_accuracy: 0.7920\n",
      "Epoch 67/100\n",
      "7500/7500 [==============================] - 2s 316us/sample - loss: 0.4972 - accuracy: 0.7977 - val_loss: 0.5104 - val_accuracy: 0.7920\n",
      "Epoch 68/100\n",
      "7500/7500 [==============================] - 2s 294us/sample - loss: 0.4970 - accuracy: 0.7977 - val_loss: 0.5148 - val_accuracy: 0.7920\n",
      "Epoch 69/100\n",
      "7500/7500 [==============================] - 2s 287us/sample - loss: 0.4970 - accuracy: 0.7977 - val_loss: 0.5090 - val_accuracy: 0.7920\n",
      "Epoch 70/100\n",
      "7500/7500 [==============================] - 2s 287us/sample - loss: 0.4968 - accuracy: 0.7977 - val_loss: 0.5112 - val_accuracy: 0.7920\n",
      "Epoch 71/100\n",
      "7500/7500 [==============================] - 2s 293us/sample - loss: 0.4972 - accuracy: 0.7977 - val_loss: 0.5138 - val_accuracy: 0.7920\n",
      "Epoch 72/100\n",
      "7500/7500 [==============================] - 2s 292us/sample - loss: 0.4967 - accuracy: 0.7977 - val_loss: 0.5165 - val_accuracy: 0.7920\n",
      "Epoch 73/100\n",
      "7500/7500 [==============================] - 3s 372us/sample - loss: 0.4967 - accuracy: 0.7977 - val_loss: 0.5140 - val_accuracy: 0.7920\n",
      "Epoch 74/100\n",
      "7500/7500 [==============================] - 4s 594us/sample - loss: 0.4967 - accuracy: 0.7977 - val_loss: 0.5119 - val_accuracy: 0.7920\n",
      "Epoch 75/100\n",
      "7500/7500 [==============================] - 8s 1ms/sample - loss: 0.4969 - accuracy: 0.7977 - val_loss: 0.5090 - val_accuracy: 0.7920\n",
      "Epoch 76/100\n",
      "7500/7500 [==============================] - 3s 348us/sample - loss: 0.4968 - accuracy: 0.7977 - val_loss: 0.5141 - val_accuracy: 0.7920\n",
      "Epoch 77/100\n",
      "7500/7500 [==============================] - 3s 362us/sample - loss: 0.4970 - accuracy: 0.7977 - val_loss: 0.5150 - val_accuracy: 0.7920\n",
      "Epoch 78/100\n",
      "7500/7500 [==============================] - 2s 325us/sample - loss: 0.4961 - accuracy: 0.7977 - val_loss: 0.5246 - val_accuracy: 0.7920\n",
      "Epoch 79/100\n",
      "7500/7500 [==============================] - 2s 299us/sample - loss: 0.4973 - accuracy: 0.7977 - val_loss: 0.5134 - val_accuracy: 0.7920\n",
      "Epoch 80/100\n",
      "7500/7500 [==============================] - 2s 320us/sample - loss: 0.4969 - accuracy: 0.7977 - val_loss: 0.5181 - val_accuracy: 0.7920\n",
      "Epoch 81/100\n",
      "7500/7500 [==============================] - 2s 306us/sample - loss: 0.4971 - accuracy: 0.7977 - val_loss: 0.5179 - val_accuracy: 0.7920\n",
      "Epoch 82/100\n",
      "7500/7500 [==============================] - 2s 311us/sample - loss: 0.4968 - accuracy: 0.7977 - val_loss: 0.5131 - val_accuracy: 0.7920\n",
      "Epoch 83/100\n",
      "7500/7500 [==============================] - 2s 302us/sample - loss: 0.4967 - accuracy: 0.7977 - val_loss: 0.5129 - val_accuracy: 0.7920\n",
      "Epoch 84/100\n",
      "7500/7500 [==============================] - 2s 292us/sample - loss: 0.4966 - accuracy: 0.7977 - val_loss: 0.5127 - val_accuracy: 0.7920\n",
      "Epoch 85/100\n",
      "7500/7500 [==============================] - 2s 278us/sample - loss: 0.4970 - accuracy: 0.7977 - val_loss: 0.5137 - val_accuracy: 0.7920\n",
      "Epoch 86/100\n",
      "7500/7500 [==============================] - 2s 278us/sample - loss: 0.4969 - accuracy: 0.7977 - val_loss: 0.5112 - val_accuracy: 0.7920\n",
      "Epoch 87/100\n",
      "7500/7500 [==============================] - 2s 282us/sample - loss: 0.4971 - accuracy: 0.7977 - val_loss: 0.5102 - val_accuracy: 0.7920\n",
      "Epoch 88/100\n",
      "7500/7500 [==============================] - 2s 280us/sample - loss: 0.4971 - accuracy: 0.7977 - val_loss: 0.5122 - val_accuracy: 0.7920\n",
      "Epoch 89/100\n",
      "7500/7500 [==============================] - 2s 278us/sample - loss: 0.4973 - accuracy: 0.7977 - val_loss: 0.5189 - val_accuracy: 0.7920\n",
      "Epoch 90/100\n",
      "7500/7500 [==============================] - 2s 284us/sample - loss: 0.4970 - accuracy: 0.7977 - val_loss: 0.5107 - val_accuracy: 0.7920\n",
      "Epoch 91/100\n",
      "7500/7500 [==============================] - 2s 292us/sample - loss: 0.4971 - accuracy: 0.7977 - val_loss: 0.5153 - val_accuracy: 0.7920\n",
      "Epoch 92/100\n",
      "7500/7500 [==============================] - 2s 282us/sample - loss: 0.4969 - accuracy: 0.7977 - val_loss: 0.5115 - val_accuracy: 0.7920\n",
      "Epoch 93/100\n",
      "7500/7500 [==============================] - 2s 276us/sample - loss: 0.4970 - accuracy: 0.7977 - val_loss: 0.5098 - val_accuracy: 0.7920\n",
      "Epoch 94/100\n",
      "7500/7500 [==============================] - 3s 406us/sample - loss: 0.4971 - accuracy: 0.7977 - val_loss: 0.5088 - val_accuracy: 0.7920\n",
      "Epoch 95/100\n",
      "7500/7500 [==============================] - 3s 346us/sample - loss: 0.4968 - accuracy: 0.7977 - val_loss: 0.5137 - val_accuracy: 0.7920\n",
      "Epoch 96/100\n",
      "7500/7500 [==============================] - 2s 305us/sample - loss: 0.4970 - accuracy: 0.7977 - val_loss: 0.5088 - val_accuracy: 0.7920\n",
      "Epoch 97/100\n",
      "7500/7500 [==============================] - 3s 340us/sample - loss: 0.4973 - accuracy: 0.7977 - val_loss: 0.5105 - val_accuracy: 0.7920\n",
      "Epoch 98/100\n",
      "7500/7500 [==============================] - 2s 331us/sample - loss: 0.4964 - accuracy: 0.7977 - val_loss: 0.5137 - val_accuracy: 0.7920\n",
      "Epoch 99/100\n",
      "7500/7500 [==============================] - 2s 279us/sample - loss: 0.4968 - accuracy: 0.7977 - val_loss: 0.5118 - val_accuracy: 0.7920\n",
      "Epoch 100/100\n",
      "7500/7500 [==============================] - 2s 289us/sample - loss: 0.4968 - accuracy: 0.7977 - val_loss: 0.5107 - val_accuracy: 0.7920\n"
     ]
    },
    {
     "data": {
      "text/plain": [
       "<tensorflow.python.keras.callbacks.History at 0x1a74ef44400>"
      ]
     },
     "execution_count": 187,
     "metadata": {},
     "output_type": "execute_result"
    }
   ],
   "source": [
    "model2.fit(X_train_z,trainY,          \n",
    "          validation_data=(X_test_z,testY),\n",
    "          epochs=100,\n",
    "          batch_size=10)"
   ]
  },
  {
   "cell_type": "code",
   "execution_count": 195,
   "metadata": {},
   "outputs": [],
   "source": [
    "''' Trial for GridCV or RandomizedCV on model evaluation\n",
    "def build_model3():\n",
    "    #Initialize Sequential model\n",
    "    model3 = tf.keras.models.Sequential()\n",
    "    #Add 1st Hidden layer\n",
    "    model3.add(tf.keras.layers.Dense(6,input_shape=(10,),activation='relu'))\n",
    "    #Add 2nd Hidden layer\n",
    "    model3.add(tf.keras.layers.Dense(6, activation='relu'))\n",
    "    #Add OUTPUT layer\n",
    "    model3.add(tf.keras.layers.Dense(1,  activation='sigmoid'))\n",
    "    #Compile the model\n",
    "    model3.compile(optimizer='rmsprop', loss='binary_crossentropy',metrics=['accuracy'])\n",
    "    return model3\n",
    "'''"
   ]
  },
  {
   "cell_type": "code",
   "execution_count": null,
   "metadata": {},
   "outputs": [],
   "source": []
  },
  {
   "cell_type": "markdown",
   "metadata": {},
   "source": [
    "8. Predict the results using 0.5 as a threshold (5 points) \n"
   ]
  },
  {
   "cell_type": "code",
   "execution_count": 190,
   "metadata": {},
   "outputs": [],
   "source": [
    "y_pred = model2.predict(X_test_z)\n",
    "y_pred = (y_pred > 0.5)"
   ]
  },
  {
   "cell_type": "code",
   "execution_count": null,
   "metadata": {},
   "outputs": [],
   "source": []
  },
  {
   "cell_type": "code",
   "execution_count": 191,
   "metadata": {},
   "outputs": [
    {
     "name": "stdout",
     "output_type": "stream",
     "text": [
      "[[False]\n",
      " [False]\n",
      " [False]\n",
      " ...\n",
      " [False]\n",
      " [False]\n",
      " [False]]\n"
     ]
    }
   ],
   "source": [
    "print(y_pred)"
   ]
  },
  {
   "cell_type": "code",
   "execution_count": null,
   "metadata": {},
   "outputs": [],
   "source": []
  },
  {
   "cell_type": "code",
   "execution_count": null,
   "metadata": {},
   "outputs": [],
   "source": []
  },
  {
   "cell_type": "markdown",
   "metadata": {},
   "source": [
    "9. Print the Accuracy score and confusion matrix (5 points)"
   ]
  },
  {
   "cell_type": "code",
   "execution_count": 193,
   "metadata": {},
   "outputs": [
    {
     "name": "stdout",
     "output_type": "stream",
     "text": [
      "[[1980    0]\n",
      " [ 520    0]]\n"
     ]
    }
   ],
   "source": [
    "# Confusion matrix for Model 2 \n",
    "from sklearn.metrics import confusion_matrix\n",
    "cm = confusion_matrix(testY, y_pred)\n",
    "print(cm)"
   ]
  },
  {
   "cell_type": "code",
   "execution_count": 194,
   "metadata": {},
   "outputs": [
    {
     "data": {
      "text/plain": [
       "0.792"
      ]
     },
     "execution_count": 194,
     "metadata": {},
     "output_type": "execute_result"
    }
   ],
   "source": [
    "accuracy = (cm[0][0]+cm[1][1])/(cm[0][0]+cm[0][1]+cm[1][0]+cm[1][1])\n",
    "accuracy"
   ]
  },
  {
   "cell_type": "code",
   "execution_count": 208,
   "metadata": {},
   "outputs": [
    {
     "name": "stdout",
     "output_type": "stream",
     "text": [
      "\r",
      "2500/1 [========================================================================================================================================================================================================================================================================================================================================================================================================================================================================================================================================================================================================================================================================================================================================================================================================================================================================================================================================================================================================================================================================================================================================================================================================================================================================================================================================================================================================================================================================================================================================================================================================================================================================================================================================================================================================================================================================================================================================================================================================================================================================================================================================================================================================================================================================================================================================================================================================================================================================================================================================================================================================================================================================================================================================================================================================================================================================================================================================================================================================================================================================================================================================================================================================================================================================================================================================================================================================================================================================================================================================================================================================================================================================================================================================================================================================================================================================================================================================================================================================================================================================================================================================================================================================================================================================================================================================================================================================================================================================================================================================================================================================================================================================================================================================================================================================================================================================================================================================================================================================================================================================================================================================================================================================================================================================================================================================================================================================================================================================================================================================================================================================================================================================================================================================================================================================================================================================================================================================================================================================================================================================================================================================================================================================================================================================================================================================================================================================================================================================================================================================================================================================================================================================================================================================================================================================================================================================================================================================================================================================================================================================================================================================================================================================================================================================================================================================================================================================================================================================================================================================================================================================================================================================================================================================================================================================================================================================================================================================================================================================================================================================================================================================================================================================================================================================================================================================================================================================================================================================================================================================================================================================================================================================================================================================================================================================================================================================================================================================================================================================================================================================================================================================================================================================================================================================================================================================================================================================================================================================================================================================================================================================================================================================================================================================================================================================================================================================================================================================================================================================================================================================================================================================================================================================================================================================================================================================================================================================================================================================================================================================================================================================================================================================================================================================================================================================================================================================================================================================================================================================================================================================================================================================================================================================================================================================================================================================================================================================================================================================================================================================================================================================================================================================================================================================================================================================================================================================================================================================================================================================================================================================================================================================================================================================================================================================================================================================================================================================================================================================================================================================================================================================================================================================================================================================================================================================================================================================================================================================================================================================================================================================================================================================================================================================================================================================================================================================================================================================================================================================================================================================================================================================================================================================================================================================================================================================================================================================================================================================================================================================================================================================================================================================================================================================================================================================================================================================================================================================================================================================================================================================================================================================================================================================================================================================================================================================================================================================================================================================================================================================================================================================================================================================================================================================================================================================================================================================================================================================================================================================================================================================================================================================================================================================================================================================================================================================================================================================================================================================================================================================================================================================================================================================================================================================================================================================================================================================================================================================================================================================================================================================================================================================================================================================================================================================================================================================================================================================================================================================================================================================================================================================================================================================================================================================================================================================================================================================================================================================================================================================================================================================================================================================================================================================================================================================================================================================================================================================================================================================================================================================================================================================================================================================================================================================================================================================================================================================================================================================================================================================================================================================================================================================================================================================================================================================================================================================================================================================================================================================================================================================================================================================================================================================================================================================================================================================================================================================================================================================================================================================================================================================================================================================================================================================================================================================================================================================================================================================================================================================================================================================================================================================================================================================================================================================================================================================================================================================================================================================================================================================================================================================================================================================================================================================================================================================================================================================================================================================================================================================================================================================================================================================================================================================================================================================================================================================================================================================================================================================================================================================================================================================================================================================================================================================================================================================================================================================================================================================================================================================================================================================================================================================================================================================================================================================================================================================================================================================================================================================================================================================================================================================================================================================================================================================================================================================================================================================================================================================================================================================================================================================================================================================================================================================================================================================================================================================================================================================================================================================================================================================================================================================================================================================================================================================================================================================================================================================================================================================================================================================================================================================================================================================================================================================================================================================================================================================================================================================================================================================================================================================================================================================================================================================================================================================================================================================================================================================================================================================================================================================================================================================================================================================================================================================================================================================================================================================================================================================================================================================================================================================================================================================================================================================================================================================================================================================================================================================================================================================================================================================================================================================================================================================================================================================================================================================================================================================================================================================================================================================================================================================================================================================================================================================================================================================================================================================================================================================================================================================================================================================================================================================================================================================================================================================================================================================================================================================================================================================================================================================================================================================================================================================================================================================================================================================================================================================================================================================================================================================================================================================================================================================================================================================================================================================================================================================================================================================================================================================================================================================================================================================================================================================================================================================================================================================================================================================================================================================================================================================================================================================================================================================================================================================================================================================================================================================================================================================================================================================================================================================================================================================================================================================================================================================================================================================================================================================================================================================================================================================================================================================================================================================================================================================================================================================================================================================================================================================================================================================================================================================================================================================================================================================================================================================================================================================================================================================================================================================================================================================================================================================================================================================================================================================================================================================================================================================================================================================================================================================================================================================================================================================================================================================================================================================================================================================================================================================================================================================================================================================================================================================================================================================================================================================================================================================================================================================================================================================================================================================================================================================================================================================================================================================================================================================================================================================================================================================================================================================================================================================================================================================================================================================================================================================================================================================================================================================================================================================================================================================================================================================================================================================================================================================================================================================================================================================================================================================================================================================================================================================================================================================================================================================================================================================================================================================================================================================================================================================================================================================================================================================================================================================================================================================================================================================================================================================================================================================================================================================================================================================================================================================================================================================================================================================================================================================================================================================================================================================================================================================================================================================================================================================================================================================================================================================================================================================================================================================================================================================================================================================================================================================================================================================================================================================================================================================================================================================================================================================================================================================================================================================================================================================================================================================================================================================================================================================================================================================================================================================================================================================================================================================================================================================================================================================================================================================================================================================================================================================================================================================================================================================================================================================================================================================================================================================================================================================================================================================================================================================================================================================================================================================================================================================================================================================================================================================================================================================================================================================================================================================================================================================================================================================================================================================================================================================================================================================================================================================================================================================================================================================================================================================================================================================================================================================================================================================================================================================================================================================================================================================================================================================================================================================================================================================================================================================================================================================================================================================================================================================================================================================================================================================================================================================================================================================================================================================================================================================================================================================================================================================================================================================================================================================================================================================================================================================================================================================================================================================================================================================================================================================================================================================================================================================================================================================================================================================================================================================================================================================================================================================================================================================================================================================================================================================================================================================================================================================================================================================================================================================================================================================================================================================================================================================================================================================================================================================================================================================================================================================================================================================================================================================================================================================================================================================================================================================================================================================================================================================================================================================================================================================================================================================================================================================================================================================================================================================================================================================================================================================================================================================================================================================================================================================================================================================================================================================================================================================================================================================================================================================================================================================================================================================================================================================================================================================================================================================================================================================================================================================================================================================================================================================================================================================================================================================================================================================================================================================================================================================================================================================================================================================================================================================================================================================================================================================================================================================================================================================================================================================================================================================================================================================================================================================================================================================================================================================================================================================================================================================================================================================================================================================================================================================================================================================================================================================================================================================================================================================================================================================================================================================================================================================================================================================================================================================================================================================================================================================================================================================================================================================================================================================================================================================================================================================================================================================================================================================================================================================================================================================================================================================================================================================================================================================================================================================================================================================================================================================================================================================================================================================================================================================================================================================================================================================================================================================================================================================================================================================================================================================================================================================================================================================================================================================================================================================================================================================================================================================================================================================================================================================================================================================================================================================================================================================================================================================================================================================================================================================================================================================================================================================================================================================================================================================================================================================================================================================================================================================================================================================================================================================================================================================================================================================================================================================================================================================================================================================================================================================================================================================================================================================================================================================================================================================================================================================================================================================================================================================================================================================================================================================================================================================================================================================================================================================================================================================================================================================================================================================================================================================================================================================================================================================================================================================================================================================================================================================================================================================================================================================================================================================================================================================================================================================================================================================================================================================================================================================================================================================================================================================================================================================================================================================================================================================================================================================================================================================================================================================================================================================================================================================================================================================================================================================================================================================================================================================================================================================================================================================================================================================================================================================================================================================================================================================================================================================================================================================================================================================================================================================================================================================================================================================================================================================================================================================================================================================================================================================================================================================================================================================================================================================================================================================================================================================================================================================================================================================================================================================================================================================================================================================================================================================================================================================================================================================================================================================================================================================================================================================================================================================================================================================================================================================================================================================================================================================================================================================================================================================================================================================================================================================================================================================================================================================================================================================================================================================================================================================================================================================================================================================================================================================================================================================================================================================================================================================================================================================================================================================================================================================================================================================================================================================================================================================================================================================================================================================================================================================================================================================================================================================================================================================================================================================================================================================================================================================================================================================================================================================================================================================================================================================================================================================================================================================================================================================================================================================================================================================================================================================================================================================================================================================================================================================================================================================================================================================================================================================================================================================================================================================================================================================================================================================================================================================================================================================================================================================================================================================================================================================================================================================================================================================================================================================================================================================================================================================================================================================================================================================================================================================================================================================================================================================================================================================================================================================================================================================================================================================================================================================================================================================================================================================================================================================================================================================================================================================================================================================================================================================================================================================================================================================================================================================================================================================================================================================================================================================================================================================================================================================================================================================================================================================================================================================================================================================================================================================================================================================================================================================================================================================================================================================================================================================================================================================================================================================================================================================================================================================================================================================================================================================================================================================================================================================================================================================================================================================================================================================================================================================================================================================================================================================================================================================================================================================================================================================================================================================================================================================================================================================================================================================================================================================================================================================================================================================================================================================================================================================================================================================================================================================================================================================================================================================================================================================================================================================================================================================================================================================================================================================================================================================================================================================================================================================================================================================================================================================================================================================================================================================================================================================================================================================================================================================================================================================================================================================================================================================================================================================================================================================================================================================================================================================================================================================================================================================================================================================================================================================================================================================================================================================================================================================================================================================================================================================================================================================================================================================================================================================================================================================================================================================================================================================================================================================================================================================================================================================================================================================================================================================================================================================================================================================================================================================================================================================================================================================================================================================================================================================================================================================================================================================================================================================================================================================================================================================================================================================================================================================================================================================================================================================================================================================================================================================================================================================================================================================================================================================================================================================================================================================================================================================================================================================================================================================================================================================================================================================================================================================================================================================================================================================================================================================================================================================================================================================================================================================================================================================================================================================================================================================================================================================================================================================================================================================================================================================================================================================================================================================================================================================================================================================================================================================================================================================================================================================================================================================================================================================================================================================================================================================================================================================================================================================================================================================================================================================================================================================================================================================================================================================================================================================================================================================================================================================================================================================================================================================================================================================================================================================================================================================================================================================================================================================================================================================================================================================================================================================================================================================================================================================================================================================================================================================================================================================================================================================================================================================================================================================================================================================================================================================================================================================================================================================================================================================================================================================================================================================================================================================================================================================================================================================================================================================================================================================================================================================================================================================================================================================================================================================================================================================================================================================================================================================================================================================================================================================================================================================================================================================================================================================================================================================================================================================================================================================================================================================================================================================================================================================================================================================================================================================================================================================================================================================================================================================================================================================================================================================================================================================================================================================================================================================================================================================================================================================================================================================================================================================================================================================================================================================================================================================================================================================================================================================================================================================================================================================================================================================================================================================================================================================================================================================================================================================================================================================================================================================================================================================================================================================================================================================================================================================================================================================================================================================================================================================================================================================================================================================================================================================================================================================================================================================================================================================================================================================================================================================================================================================================================================================================================================================================================================================================================================================================================================================================================================================================================================================================================================================================================================================================================================================================================================================================================================================================================================================================================================================================================================================================================================================================================================] - 0s 140us/sample - loss: 0.5741 - accuracy: 0.7920\n"
     ]
    },
    {
     "name": "stdout",
     "output_type": "stream",
     "text": [
      "Model1 test loss, test acc: [0.5111983622908592, 0.792]\n",
      "2500/1 [========================================================================================================================================================================================================================================================================================================================================================================================================================================================================================================================================================================================================================================================================================================================================================================================================================================================================================================================================================================================================================================================================================================================================================================================================================================================================================================================================================================================================================================================================================================================================================================================================================================================================================================================================================================================================================================================================================================================================================================================================================================================================================================================================================================================================================================================================================================================================================================================================================================================================================================================================================================================================================================================================================================================================================================================================================================================================================================================================================================================================================================================================================================================================================================================================================================================================================================================================================================================================================================================================================================================================================================================================================================================================================================================================================================================================================================================================================================================================================================================================================================================================================================================================================================================================================================================================================================================================================================================================================================================================================================================================================================================================================================================================================================================================================================================================================================================================================================================================================================================================================================================================================================================================================================================================================================================================================================================================================================================================================================================================================================================================================================================================================================================================================================================================================================================================================================================================================================================================================================================================================================================================================================================================================================================================================================================================================================================================================================================================================================================================================================================================================================================================================================================================================================================================================================================================================================================================================================================================================================================================================================================================================================================================================================================================================================================================================================================================================================================================================================================================================================================================================================================================================================================================================================================================================================================================================================================================================================================================================================================================================================================================================================================================================================================================================================================================================================================================================================================================================================================================================================================================================================================================================================================================================================================================================================================================================================================================================================================================================================================================================================================================================================================================================================================================================================================================================================================================================================================================================================================================================================================================================================================================================================================================================================================================================================================================================================================================================================================================================================================================================================================================================================================================================================================================================================================================================================================================================================================================================================================================================================================================================================================================================================================================================================================================================================================================================================================================================================================================================================================================================================================================================================================================================================================================================================================================================================================================================================================================================================================================================================================================================================================================================================================================================================================================================================================================================================================================================================================================================================================================================================================================================================================================================================================================================================================================================================================================================================================================================================================================================================================================================================================================================================================================================================================================================================================================================================================================================================================================================================================================================================================================================================================================================================================================================================================================================================================================================================================================================================================================================================================================================================================================================================================================================================================================================================================================================================================================================================================================================================================================================================================================================================================================================================================================================================================================================================================================================================================================================================================================================================================================================================================================================================================================================================================================================================================================================================================================================================================================================================================================================================================================================================================================================================================================================================================================================================================================================================================================================================================================================================================================================================================================================================================================================================================================================================================================================================================================================================================================================================================================================================================================================================================================================================================================================================================================================================================================================================================================================================================================================================================================================================================================================================================================================================================================================================================================================================================================================================================================================================================================================================================================================================================================================================================================================================================================================================================================================================================================================================================================================================================================================================================================================================================================================================================================================================================================================================================================================================================================================================================================================================================================================================================================================================================================================================================================================================================================================================================================================================================================================================================================================================================================================================================================================================================================================================================================================================================================================================================================================================================================================================================================================================================================================================================================================================================================================================================================================================================================================================================================================================================================================================================================================================================================================================================================================================================================================================================================================================================================================================================================================================================================================================================================================================================================================================================================================================================================================================================================================================================================================================================================================================================================================================================================================================================================================================================================================================================================================================================================================================================================================================================================================================================================================================================================================================================================================================================================================================================================================================================================================================================================================================================================================================================================================================================================================================================================================================================================================================================================================================================================================================================================================================================================================================================================================================================================================================================================================================================================================================================================================================================================================================================================================================================================================================================================================================================================================================================================================================================================================================================================================================================================================================================================================================================================================================================================================================================================================================================================================================================================================================================================================================================================================================================================================================================================================================================================================================================================================================================================================================================================================================================================================================================================================================================================================================================================================================================================================================================================================================================================================================================================================================================================================================================================================================================================================================================================================================================================================================================================================================================================================================================================================================================================================================================================================================================================================================================================================================================================================================================================================================================================================================================================================================================================================================================================================================================================================================================================================================================================================================================================================================================================================================================================================================================================================================================================================================================================================================================================================================================================================================================================================================================================================================================================================================================================================================================================================================================================================================================================================================================================================================================================================================================================================================================================================================================================================================================================================================================================================================================================================================================================================================================================================================================================================================================================================================================================================================================================================================================================================================================================================================================================================================================================================================================================================================================================================================================================================================================================================================================================================================================================================================================================================================================================================================================================================================================================================================================================================================================================================================================================================================================================================================================================================================================================================================================================================================================================================================================================================================================================================================================================================================================================================================================================================================================================================================================================================================================================================================================================================================================================================================================================================================================================================================================================================================================================================================================================================================================================================================================================================================================================================================================================================================================================================================================================================================================================================================================================================================================================================================================================================================================================================================================================================================================================================================================================================================================================================================================================================================================================================================================================================================================================================================================================================================================================================================================================================================================================================================================================================================================================================================================================================================================================================================================================================================================================================================================================================================================================================================================================================================================================================================================================================================================================================================================================================================================================================================================================================================================================================================================================================================================================================================================================================================================================================================================================================================================================================================================================================================================================================================================================================================================================================================================================================================================================================================================================================================================================================================================================================================================================================================================================================================================================================================================================================================================================================================================================================================================================================================================================================================================================================================================================================================================================================================================================================================================================================================================================================================================================================================================================================================================================================================================================================================================================================================================================================================================================================================================================================================================================================================================================================================================================================================================================================================================================================================================================================================================================================================================================================================================================================================================================================================================================================================================================================================================================================================================================================================================================================================================================================================================================================================================================================================================================================================================================================================================================================================================================================================================================================================================================================================================================================================================================================================================================================================================================================================================================================================================================================================================================================================================================================================================================================================================================================================================================================================================================================================================================================================================================================================================================================================================================================================================================================================================================================================================================================================================================================================================================================================================================================================================================================================================================================================================================================================================================================================================================================================================================================================================================================================================================================================================================================================================================================================================================================================================================================================================================================================================================================================================================================================================================================================================================================================================================================================================================================================================================================================================================================================================================================================================================================================================================================================================================================================================================================================================================================================================================================================================================================================================================================================================================================================================================================================================================================================================================================================================================================================================================================================================================================================================================================================================================================================================================================================================================================================================================================================================================================================================================================================================================================================================================================================================================================================================================================================================================================================================================================================================================================================================================================================================================================================================================================================================================================================================================================================================================================================================================================================================================================================================================================================================================================================================================================================================================================================================================================================================================================================================================================================================================================================================================================================================================================================================================================================================================================================================================================================================================================================================================================================================================================================================================================================================================================================================================================================================================================================================================================================================================================================================================================================================================================================================================================================================================================================================================================================================================================================================================================================================================================================================================================================================================================================================================================================================================================================================================================================================================================================================================================================================================================================================================================================================================================================================================================================================================================================================================================================================================================================================================================================================================================================================================================================================================================================================================================================================================================================================================================================================================================================================================================================================================================================================================================================================================================================================================================================================================================================================================================================================================================================================================================================================================================================================================================================================================================================================================================================================================================================================================================================================================================================================================================================================================================================================================================================================================================================================================================================================================================================================================================================================================================================================================================================================================================================================================================================================================================================================================================================================================================================================================================================================================================================================================================================================================================================================================================================================================================================================================================================================================================================================================================================================================================================================================================================================================================================================================================================================================================================================================================================================================================================================================================================================================================================================================================================================================================================================================================================================================================================================================================================================================================================================================================================================================================================================================================================================================================================================================================================================================================================================================================================================================================================================================================================================================================================================================================================================================================================================================================================================================================================================================================================================================================================================================================================================================================================================================================================================================================================================================================================================================================================================================================================================================================================================================================================================================================================================================================================================================================================================================================================================================================================================================================================================================================================================================================================================================================================================================================================================================================================================================================================================================================================================================================================================================================================================================================================================================================================================================================================================================================================================================================================================================================================================================================================================================================================================================================================================================================================================================================================================================================================================================================================================================================================================================================================================================================================================================================================================================================================================================================================================================================================================================================================================================================================================================================================================================================================================================================================================================================================================================================================================================================================================================================================================================================================================================================================================================================================================================================================================================================================================================================================================================================================================================================================================================================================================================================================================================================================================================================================================================================================================================================================================================================================================================================================================================================================================================================================================================================================================================================================================================================================================================================================================================================================================================================================================================================================================================================================================================================================================================================================================================================================================================================================================================================================================================================================================================================================================================================================================================================================================================================================================================================================================================================================================================================================================================================================================================================================================================================================================================================================================================================================================================================================================================================================================================================================================================================================================================================================================================================================================================================================================================================================================================================================================================================================================================================================================================================================================================================================================================================================================================================================================================================================================================================================================================================================================================================================================================================================================================================================================================================================================================================================================================================================================================================================================================================================================================================================================================================================================================================================================================================================================================================================================================================================================================================================================================================================================================================================================================================================================================================================================================================================================================================================================================================================================================================================================================================================================================================================================================================================================================================================================================================================================================================================================================================================================================================================================================================================================================================================================================================================================================================================================================================================================================================================================================================================================================================================================================================================================================================================================================================================================================================================================================================================================================================================================================================================================================================================================================================================================================================================================================================================================================================================================================================================================================================================================================================================================================================================================================================================================================================================================================================================================================================================================================================================================================================================================================================================================================================================================================================================================================================================================================================================================================================================================================================================================================================================================================================================================================================================================================================================================================================================================================================================================================================================================================================================================================================================================================================================================================================================================================================================================================================================================================================================================================================================================================================================================================================================================================================================================================================================================================================================================================================================================================================================================================================================================================================================================================================================================================================================================================================================================================================================================================================================================================================================================================================================================================================================================================================================================================================================================================================================================================================================================================================================================================================================================================================================================================================================================================================================================================================================================================================================================================================================================================================================================================================================================================================================================================================================================================================================================================================================================================================================================================================================================================================================================================================================================================================================================================================================================================================================================================================================================================================================================================================================================================================================================================================================================================================================================================================================================================================================================================================================================================================================================================================================================================================================================================================================================================================================================================================================================================================================================================================================================================================================================================================================================================================================================================================================================================================================================================================================================================================================================================================================================================================================================================================================================================================================================================================================================================================================================================================================================================================================================================================================================================================================================================================================================================================================================================================================================================================================================================================================================================================================================================================================================================================================================================================================================================================================================================================================================================================================================================================================================================================================================================================================================================================================================================================================================================================================================================================================================================================================================================================================================================================================================================================================================================================================================================================================================================================================================================================================================================================================================================================================================================================================================================================================================================================================================================================================================================================================================================================================================================================================================================================================================================================================================================================================================================================================================================================================================================================================================================================================================================================================================================================================================================================================================================================================================================================================================================================================================================================================================================================================================================================================================================================================================================================================================================================================================================================================================================================================================================================================================================================================================================================================================================================================================================================================================================================================================================================================================================================================================================================================================================================================================================================================================================================================================================================================================================================================================================================================================================================================================================================================================================================================================================================================================================================================================================================================================================================================================================================================================================================================================================================================================================================================================================================================================================================================================================================================================================================================================================================================================================================================================================================================================================================================================================================================================================================================================================================================================================================================================================================================================================================================================================================================================================================================================================================================================================================================================================================================================================================================================================================================================================================================================================================================================================================================================================================================================================================================================================================================================================================================================================================================================================================================================================================================================================================================================================================================================================================================================================================================================================================================================================================================================================================================================================================================================================================================================================================================================================================================================================================================================================================================================================================================================================================================================================================================================================================================================================================================================================================================================================================================================================================================================================================================================================================================================================================================================================================================================] - 0s 104us/sample - loss: 0.6046 - accuracy: 0.7920\n"
     ]
    },
    {
     "name": "stdout",
     "output_type": "stream",
     "text": [
      "Model2 test loss, test acc: [0.5107066378593444, 0.792]\n"
     ]
    }
   ],
   "source": [
    "# Accuracy for Model 1\n",
    "results1 = model.evaluate(x=X_test_z, y= testY, batch_size=10)\n",
    "print('Model1 test loss, test acc:', results1)\n",
    "\n",
    "# Accuracy for Model 2\n",
    "results2 = model2.evaluate(x=X_test_z, y= testY, batch_size=10)\n",
    "print('Model2 test loss, test acc:', results2)"
   ]
  },
  {
   "cell_type": "code",
   "execution_count": null,
   "metadata": {},
   "outputs": [],
   "source": []
  }
 ],
 "metadata": {
  "kernelspec": {
   "display_name": "Python 3",
   "language": "python",
   "name": "python3"
  },
  "language_info": {
   "codemirror_mode": {
    "name": "ipython",
    "version": 3
   },
   "file_extension": ".py",
   "mimetype": "text/x-python",
   "name": "python",
   "nbconvert_exporter": "python",
   "pygments_lexer": "ipython3",
   "version": "3.7.3"
  }
 },
 "nbformat": 4,
 "nbformat_minor": 2
}
