{
  "nbformat": 4,
  "nbformat_minor": 0,
  "metadata": {
    "accelerator": "GPU",
    "colab": {
      "name": "R8_CNN_Project1_Plant_Seed_using_TransferLearning_VGG16v2.ipynb",
      "provenance": [],
      "collapsed_sections": []
    },
    "kernelspec": {
      "display_name": "Python 3",
      "language": "python",
      "name": "python3"
    },
    "language_info": {
      "codemirror_mode": {
        "name": "ipython",
        "version": 3
      },
      "file_extension": ".py",
      "mimetype": "text/x-python",
      "name": "python",
      "nbconvert_exporter": "python",
      "pygments_lexer": "ipython3",
      "version": "3.7.3"
    }
  },
  "cells": [
    {
      "cell_type": "code",
      "metadata": {
        "colab_type": "code",
        "id": "YaBr-erZncce",
        "colab": {}
      },
      "source": [
        "from google.colab import drive"
      ],
      "execution_count": 0,
      "outputs": []
    },
    {
      "cell_type": "code",
      "metadata": {
        "colab_type": "code",
        "id": "gF5meo6Pnd-y",
        "outputId": "3b3b0dc2-d675-4667-81ae-4e18cc3ca5b7",
        "colab": {
          "base_uri": "https://localhost:8080/",
          "height": 122
        }
      },
      "source": [
        "drive.mount('/content/drive/')"
      ],
      "execution_count": 2,
      "outputs": [
        {
          "output_type": "stream",
          "text": [
            "Go to this URL in a browser: https://accounts.google.com/o/oauth2/auth?client_id=947318989803-6bn6qk8qdgf4n4g3pfee6491hc0brc4i.apps.googleusercontent.com&redirect_uri=urn%3aietf%3awg%3aoauth%3a2.0%3aoob&response_type=code&scope=email%20https%3a%2f%2fwww.googleapis.com%2fauth%2fdocs.test%20https%3a%2f%2fwww.googleapis.com%2fauth%2fdrive%20https%3a%2f%2fwww.googleapis.com%2fauth%2fdrive.photos.readonly%20https%3a%2f%2fwww.googleapis.com%2fauth%2fpeopleapi.readonly\n",
            "\n",
            "Enter your authorization code:\n",
            "··········\n",
            "Mounted at /content/drive/\n"
          ],
          "name": "stdout"
        }
      ]
    },
    {
      "cell_type": "code",
      "metadata": {
        "colab_type": "code",
        "id": "ivJgjcGSnf-C",
        "colab": {}
      },
      "source": [
        "import os\n",
        "os.chdir('/content/drive/My Drive/PGP AIML/Project Assignment/R8 COmputer Vision with CNN Project 1/')"
      ],
      "execution_count": 0,
      "outputs": []
    },
    {
      "cell_type": "code",
      "metadata": {
        "colab_type": "code",
        "id": "ns_Srgn5vLp9",
        "colab": {}
      },
      "source": [
        "from zipfile import ZipFile"
      ],
      "execution_count": 0,
      "outputs": []
    },
    {
      "cell_type": "code",
      "metadata": {
        "colab_type": "code",
        "id": "7bGtLS82vMA2",
        "colab": {}
      },
      "source": [
        "with ZipFile('/content/drive/My Drive/PGP AIML/Project Assignment/R8 COmputer Vision with CNN Project 1/test.zip', 'r') as z:\n",
        "  z.extractall()"
      ],
      "execution_count": 0,
      "outputs": []
    },
    {
      "cell_type": "code",
      "metadata": {
        "colab_type": "code",
        "id": "1wSBIOxavMDM",
        "colab": {}
      },
      "source": [
        "with ZipFile('/content/drive/My Drive/PGP AIML/Project Assignment/R8 COmputer Vision with CNN Project 1/train.zip', 'r') as z:\n",
        "  z.extractall()"
      ],
      "execution_count": 0,
      "outputs": []
    },
    {
      "cell_type": "code",
      "metadata": {
        "colab_type": "code",
        "id": "QsPoSsZ3nn2B",
        "colab": {}
      },
      "source": [
        "x_test=[]\n",
        "os.chdir('/content/drive/My Drive/PGP AIML/Project Assignment/R8 COmputer Vision with CNN Project 1/test')\n",
        "import cv2\n",
        "for i in os.listdir():\n",
        "    dummy = cv2.imread(i)\n",
        "    dummy = cv2.resize(dummy,(128,128))\n",
        "    x_test.append(dummy)"
      ],
      "execution_count": 0,
      "outputs": []
    },
    {
      "cell_type": "code",
      "metadata": {
        "colab_type": "code",
        "id": "bNHegsjZnxWQ",
        "colab": {}
      },
      "source": [
        "x_train = []\n",
        "y_train = []"
      ],
      "execution_count": 0,
      "outputs": []
    },
    {
      "cell_type": "code",
      "metadata": {
        "colab_type": "code",
        "id": "zrEWFArOqFXs",
        "colab": {}
      },
      "source": [
        "os.chdir('/content/drive/My Drive/PGP AIML/Project Assignment/R8 COmputer Vision with CNN Project 1/train')"
      ],
      "execution_count": 0,
      "outputs": []
    },
    {
      "cell_type": "code",
      "metadata": {
        "colab_type": "code",
        "id": "PfhxmZSxqNeg",
        "outputId": "1819dc7e-3b10-4604-98bf-45bb9990757c",
        "colab": {
          "base_uri": "https://localhost:8080/",
          "height": 238
        }
      },
      "source": [
        "os.listdir()"
      ],
      "execution_count": 10,
      "outputs": [
        {
          "output_type": "execute_result",
          "data": {
            "text/plain": [
              "['Fat Hen',\n",
              " 'Small-flowered Cranesbill',\n",
              " 'Cleavers',\n",
              " 'Black-grass',\n",
              " 'Sugar beet',\n",
              " 'Shepherds Purse',\n",
              " 'Charlock',\n",
              " 'Loose Silky-bent',\n",
              " 'Scentless Mayweed',\n",
              " 'Maize',\n",
              " 'Common Chickweed',\n",
              " 'Common wheat',\n",
              " 'vgg16_best.h5']"
            ]
          },
          "metadata": {
            "tags": []
          },
          "execution_count": 10
        }
      ]
    },
    {
      "cell_type": "code",
      "metadata": {
        "colab_type": "code",
        "id": "8BYcVPZUqOMi",
        "outputId": "5faa7247-2766-46e9-cd49-70e9d2627986",
        "colab": {
          "base_uri": "https://localhost:8080/",
          "height": 238
        }
      },
      "source": [
        "x_train = []\n",
        "y_train = []\n",
        "import cv2\n",
        "for i in os.listdir():\n",
        "    print(i)\n",
        "    if (os.path.isdir(i)):\n",
        "            for j in os.listdir(i):\n",
        "                try:\n",
        "                    dummy = cv2.imread('/content/drive/My Drive/PGP AIML/Project Assignment/R8 COmputer Vision with CNN Project 1/train/' + i + \"/\" + j)\n",
        "                    dummy = cv2.resize(dummy,(128,128))\n",
        "                    x_train.append(dummy)\n",
        "                    y_train.append(i)\n",
        "                except Exception as e:\n",
        "                    print(e)\n"
      ],
      "execution_count": 11,
      "outputs": [
        {
          "output_type": "stream",
          "text": [
            "Fat Hen\n",
            "Small-flowered Cranesbill\n",
            "Cleavers\n",
            "Black-grass\n",
            "Sugar beet\n",
            "Shepherds Purse\n",
            "Charlock\n",
            "Loose Silky-bent\n",
            "Scentless Mayweed\n",
            "Maize\n",
            "Common Chickweed\n",
            "Common wheat\n",
            "vgg16_best.h5\n"
          ],
          "name": "stdout"
        }
      ]
    },
    {
      "cell_type": "code",
      "metadata": {
        "colab_type": "code",
        "id": "KVTWzHBLvLkR",
        "outputId": "fd477af2-bdc3-4607-ba65-fc8e6b3099c9",
        "colab": {
          "base_uri": "https://localhost:8080/",
          "height": 34
        }
      },
      "source": [
        "x_train[0].shape"
      ],
      "execution_count": 12,
      "outputs": [
        {
          "output_type": "execute_result",
          "data": {
            "text/plain": [
              "(128, 128, 3)"
            ]
          },
          "metadata": {
            "tags": []
          },
          "execution_count": 12
        }
      ]
    },
    {
      "cell_type": "code",
      "metadata": {
        "colab_type": "code",
        "id": "jX9jD090uIxX",
        "colab": {}
      },
      "source": [
        "import pandas as pd\n",
        "dum = pd.get_dummies(y_train)"
      ],
      "execution_count": 0,
      "outputs": []
    },
    {
      "cell_type": "code",
      "metadata": {
        "colab_type": "code",
        "id": "2LniWcretNjt",
        "colab": {}
      },
      "source": [
        "encoded_labels = dum\n",
        "y_train = dum"
      ],
      "execution_count": 0,
      "outputs": []
    },
    {
      "cell_type": "code",
      "metadata": {
        "colab_type": "code",
        "id": "yW1MRzNzscJD",
        "colab": {}
      },
      "source": [
        "import numpy as np\n",
        "y_train = np.array(y_train)"
      ],
      "execution_count": 0,
      "outputs": []
    },
    {
      "cell_type": "code",
      "metadata": {
        "colab_type": "code",
        "id": "i_4kF4C9qV73",
        "colab": {}
      },
      "source": [
        "x_train = np.array(x_train)\n",
        "x_test2 = np.array(x_test)"
      ],
      "execution_count": 0,
      "outputs": []
    },
    {
      "cell_type": "code",
      "metadata": {
        "colab_type": "code",
        "id": "69ZkfU51usBT",
        "outputId": "b215392a-37b7-49fb-8ca7-e5d95e98361c",
        "colab": {
          "base_uri": "https://localhost:8080/",
          "height": 34
        }
      },
      "source": [
        "x_train[0].shape"
      ],
      "execution_count": 18,
      "outputs": [
        {
          "output_type": "execute_result",
          "data": {
            "text/plain": [
              "(128, 128, 3)"
            ]
          },
          "metadata": {
            "tags": []
          },
          "execution_count": 18
        }
      ]
    },
    {
      "cell_type": "code",
      "metadata": {
        "id": "nDIxX6Dwpstz",
        "colab_type": "code",
        "colab": {
          "base_uri": "https://localhost:8080/",
          "height": 34
        },
        "outputId": "aaec6373-ccce-4a84-8229-c5dfb11f4517"
      },
      "source": [
        "x_test2.shape"
      ],
      "execution_count": 19,
      "outputs": [
        {
          "output_type": "execute_result",
          "data": {
            "text/plain": [
              "(794, 128, 128, 3)"
            ]
          },
          "metadata": {
            "tags": []
          },
          "execution_count": 19
        }
      ]
    },
    {
      "cell_type": "code",
      "metadata": {
        "colab_type": "code",
        "id": "VzBQIPBAuQwN",
        "outputId": "8f5d9983-f5bd-4f7e-9c21-2b50fc37283a",
        "colab": {
          "base_uri": "https://localhost:8080/",
          "height": 51
        }
      },
      "source": [
        "from sklearn.model_selection import train_test_split\n",
        "x_train2, x_val, y_train2, y_val = train_test_split(x_train, y_train, test_size=0.2, random_state=2)\n",
        "print (len(x_train2))\n",
        "print (len(x_val))"
      ],
      "execution_count": 21,
      "outputs": [
        {
          "output_type": "stream",
          "text": [
            "3800\n",
            "950\n"
          ],
          "name": "stdout"
        }
      ]
    },
    {
      "cell_type": "code",
      "metadata": {
        "colab_type": "code",
        "id": "zOXrhr_huSPR",
        "outputId": "4133f764-1b1c-43ca-e9a3-2e7415707558",
        "colab": {
          "base_uri": "https://localhost:8080/",
          "height": 34
        }
      },
      "source": [
        "x_train2[0].shape"
      ],
      "execution_count": 22,
      "outputs": [
        {
          "output_type": "execute_result",
          "data": {
            "text/plain": [
              "(128, 128, 3)"
            ]
          },
          "metadata": {
            "tags": []
          },
          "execution_count": 22
        }
      ]
    },
    {
      "cell_type": "code",
      "metadata": {
        "colab_type": "code",
        "id": "dMocdt9JuVOJ",
        "colab": {}
      },
      "source": [
        "x_train2 = x_train2.reshape(x_train2.shape[0],128,128,3)"
      ],
      "execution_count": 0,
      "outputs": []
    },
    {
      "cell_type": "code",
      "metadata": {
        "colab_type": "code",
        "id": "k1KiJod-uWkR",
        "colab": {}
      },
      "source": [
        "x_val = x_val.reshape(x_val.shape[0],128,128,3)"
      ],
      "execution_count": 0,
      "outputs": []
    },
    {
      "cell_type": "code",
      "metadata": {
        "colab_type": "code",
        "id": "RGjH72OuCfeY",
        "colab": {}
      },
      "source": [
        "x_train2 = x_train2/255.\n",
        "\n",
        "x_val = x_val/255."
      ],
      "execution_count": 0,
      "outputs": []
    },
    {
      "cell_type": "code",
      "metadata": {
        "colab_type": "code",
        "id": "TyWC85VZvS5_",
        "outputId": "d4c24d9e-0d6d-4ea6-ff37-ec0cdb366000",
        "colab": {
          "base_uri": "https://localhost:8080/",
          "height": 51
        }
      },
      "source": [
        "print (x_train2.shape)\n",
        "print (x_val.shape)"
      ],
      "execution_count": 26,
      "outputs": [
        {
          "output_type": "stream",
          "text": [
            "(3800, 128, 128, 3)\n",
            "(950, 128, 128, 3)\n"
          ],
          "name": "stdout"
        }
      ]
    },
    {
      "cell_type": "code",
      "metadata": {
        "colab_type": "code",
        "id": "DKgWlwHSvUc2",
        "outputId": "694e9673-fd97-4edc-c3ce-8420d865153e",
        "colab": {
          "base_uri": "https://localhost:8080/",
          "height": 51
        }
      },
      "source": [
        "print(y_train2.shape)\n",
        "print(y_val.shape)"
      ],
      "execution_count": 27,
      "outputs": [
        {
          "output_type": "stream",
          "text": [
            "(3800, 12)\n",
            "(950, 12)\n"
          ],
          "name": "stdout"
        }
      ]
    },
    {
      "cell_type": "code",
      "metadata": {
        "colab_type": "code",
        "id": "6CrrjsBoFwxZ",
        "outputId": "86afdafa-5c41-4105-ed1c-cbad085b98b4",
        "colab": {
          "base_uri": "https://localhost:8080/",
          "height": 80
        }
      },
      "source": [
        "from keras import applications\n",
        "from keras.models import Sequential, Model \n",
        "from keras.layers import Dropout, Flatten, Dense\n",
        "from keras import backend as k \n",
        "from keras.callbacks import ModelCheckpoint, EarlyStopping"
      ],
      "execution_count": 28,
      "outputs": [
        {
          "output_type": "stream",
          "text": [
            "Using TensorFlow backend.\n"
          ],
          "name": "stderr"
        },
        {
          "output_type": "display_data",
          "data": {
            "text/html": [
              "<p style=\"color: red;\">\n",
              "The default version of TensorFlow in Colab will soon switch to TensorFlow 2.x.<br>\n",
              "We recommend you <a href=\"https://www.tensorflow.org/guide/migrate\" target=\"_blank\">upgrade</a> now \n",
              "or ensure your notebook will continue to use TensorFlow 1.x via the <code>%tensorflow_version 1.x</code> magic:\n",
              "<a href=\"https://colab.research.google.com/notebooks/tensorflow_version.ipynb\" target=\"_blank\">more info</a>.</p>\n"
            ],
            "text/plain": [
              "<IPython.core.display.HTML object>"
            ]
          },
          "metadata": {
            "tags": []
          }
        }
      ]
    },
    {
      "cell_type": "code",
      "metadata": {
        "colab_type": "code",
        "id": "BIB_XcqbFw0F",
        "outputId": "a12511c5-7367-4d1e-f52e-01371dd82968",
        "colab": {
          "base_uri": "https://localhost:8080/",
          "height": 391
        }
      },
      "source": [
        "model = applications.VGG19(weights = \"imagenet\", include_top=False, input_shape = (128, 128, 3))"
      ],
      "execution_count": 29,
      "outputs": [
        {
          "output_type": "stream",
          "text": [
            "WARNING:tensorflow:From /usr/local/lib/python3.6/dist-packages/keras/backend/tensorflow_backend.py:66: The name tf.get_default_graph is deprecated. Please use tf.compat.v1.get_default_graph instead.\n",
            "\n",
            "WARNING:tensorflow:From /usr/local/lib/python3.6/dist-packages/keras/backend/tensorflow_backend.py:541: The name tf.placeholder is deprecated. Please use tf.compat.v1.placeholder instead.\n",
            "\n",
            "WARNING:tensorflow:From /usr/local/lib/python3.6/dist-packages/keras/backend/tensorflow_backend.py:4432: The name tf.random_uniform is deprecated. Please use tf.random.uniform instead.\n",
            "\n",
            "WARNING:tensorflow:From /usr/local/lib/python3.6/dist-packages/keras/backend/tensorflow_backend.py:4267: The name tf.nn.max_pool is deprecated. Please use tf.nn.max_pool2d instead.\n",
            "\n",
            "Downloading data from https://github.com/fchollet/deep-learning-models/releases/download/v0.1/vgg19_weights_tf_dim_ordering_tf_kernels_notop.h5\n",
            "80142336/80134624 [==============================] - 3s 0us/step\n",
            "WARNING:tensorflow:From /usr/local/lib/python3.6/dist-packages/keras/backend/tensorflow_backend.py:190: The name tf.get_default_session is deprecated. Please use tf.compat.v1.get_default_session instead.\n",
            "\n",
            "WARNING:tensorflow:From /usr/local/lib/python3.6/dist-packages/keras/backend/tensorflow_backend.py:197: The name tf.ConfigProto is deprecated. Please use tf.compat.v1.ConfigProto instead.\n",
            "\n",
            "WARNING:tensorflow:From /usr/local/lib/python3.6/dist-packages/keras/backend/tensorflow_backend.py:203: The name tf.Session is deprecated. Please use tf.compat.v1.Session instead.\n",
            "\n",
            "WARNING:tensorflow:From /usr/local/lib/python3.6/dist-packages/keras/backend/tensorflow_backend.py:207: The name tf.global_variables is deprecated. Please use tf.compat.v1.global_variables instead.\n",
            "\n",
            "WARNING:tensorflow:From /usr/local/lib/python3.6/dist-packages/keras/backend/tensorflow_backend.py:216: The name tf.is_variable_initialized is deprecated. Please use tf.compat.v1.is_variable_initialized instead.\n",
            "\n",
            "WARNING:tensorflow:From /usr/local/lib/python3.6/dist-packages/keras/backend/tensorflow_backend.py:223: The name tf.variables_initializer is deprecated. Please use tf.compat.v1.variables_initializer instead.\n",
            "\n"
          ],
          "name": "stdout"
        }
      ]
    },
    {
      "cell_type": "code",
      "metadata": {
        "colab_type": "code",
        "id": "JSYa2I84Fw2v",
        "outputId": "6dd55027-de66-4c1d-9ece-1c0316ab5152",
        "colab": {
          "base_uri": "https://localhost:8080/",
          "height": 204
        }
      },
      "source": [
        "# Freeze the layers which you don't want to train. In this we are freezing the first 5 layers.\n",
        "for layer in model.layers[:5]:\n",
        "    layer.trainable = False\n",
        "\n",
        "#Adding custom Layers \n",
        "x = model.output\n",
        "x = Flatten()(x)\n",
        "x = Dense(1024, activation=\"relu\")(x)\n",
        "x = Dropout(0.5)(x)\n",
        "x = Dense(64, activation=\"relu\")(x)\n",
        "x = Dense(32, activation=\"relu\")(x)\n",
        "predictions = Dense(12, activation=\"softmax\")(x)\n",
        "\n",
        "# creating the final model \n",
        "model_final = Model(input = model.input, output = predictions)\n",
        "\n",
        "# compile the model \n",
        "model_final.compile(loss = \"categorical_crossentropy\", optimizer ='SGD' , metrics=[\"accuracy\"]) #optimizers.SGD(lr=0.001)\n"
      ],
      "execution_count": 30,
      "outputs": [
        {
          "output_type": "stream",
          "text": [
            "WARNING:tensorflow:From /usr/local/lib/python3.6/dist-packages/keras/backend/tensorflow_backend.py:148: The name tf.placeholder_with_default is deprecated. Please use tf.compat.v1.placeholder_with_default instead.\n",
            "\n",
            "WARNING:tensorflow:From /usr/local/lib/python3.6/dist-packages/keras/backend/tensorflow_backend.py:3733: calling dropout (from tensorflow.python.ops.nn_ops) with keep_prob is deprecated and will be removed in a future version.\n",
            "Instructions for updating:\n",
            "Please use `rate` instead of `keep_prob`. Rate should be set to `rate = 1 - keep_prob`.\n",
            "WARNING:tensorflow:From /usr/local/lib/python3.6/dist-packages/keras/optimizers.py:793: The name tf.train.Optimizer is deprecated. Please use tf.compat.v1.train.Optimizer instead.\n",
            "\n",
            "WARNING:tensorflow:From /usr/local/lib/python3.6/dist-packages/keras/backend/tensorflow_backend.py:3576: The name tf.log is deprecated. Please use tf.math.log instead.\n",
            "\n"
          ],
          "name": "stdout"
        },
        {
          "output_type": "stream",
          "text": [
            "/usr/local/lib/python3.6/dist-packages/ipykernel_launcher.py:14: UserWarning: Update your `Model` call to the Keras 2 API: `Model(inputs=Tensor(\"in..., outputs=Tensor(\"de...)`\n",
            "  \n"
          ],
          "name": "stderr"
        }
      ]
    },
    {
      "cell_type": "code",
      "metadata": {
        "colab_type": "code",
        "id": "k50K_p9xFw8l",
        "outputId": "6669335e-a403-44d6-d907-af3a383b9741",
        "colab": {
          "base_uri": "https://localhost:8080/",
          "height": 1000
        }
      },
      "source": [
        "# Save the model \n",
        "checkpoint = ModelCheckpoint(\"/content/drive/My Drive/PGP AIML/Project Assignment/R8 COmputer Vision with CNN Project 1/vgg16_best.h5\", monitor='val_acc', verbose=1, save_best_only=True, mode='auto')\n",
        "early = EarlyStopping(monitor='val_acc', min_delta=0, patience=5, verbose=1, mode='auto')\n",
        "\n",
        "epochs=30\n",
        "# Train the model \n",
        "history = model_final.fit(x_train2, y_train2, epochs = epochs, validation_data=(x_val, y_val), callbacks = [checkpoint, early])\n",
        "history"
      ],
      "execution_count": 32,
      "outputs": [
        {
          "output_type": "stream",
          "text": [
            "Train on 3800 samples, validate on 950 samples\n",
            "Epoch 1/30\n",
            "3800/3800 [==============================] - 11s 3ms/step - loss: 2.3925 - acc: 0.1771 - val_loss: 2.1954 - val_acc: 0.2389\n",
            "\n",
            "Epoch 00001: val_acc improved from -inf to 0.23895, saving model to /content/drive/My Drive/PGP AIML/Project Assignment/R8 COmputer Vision with CNN Project 1/vgg16_best.h5\n",
            "Epoch 2/30\n",
            "3800/3800 [==============================] - 11s 3ms/step - loss: 1.9256 - acc: 0.3400 - val_loss: 2.6459 - val_acc: 0.1516\n",
            "\n",
            "Epoch 00002: val_acc did not improve from 0.23895\n",
            "Epoch 3/30\n",
            "3800/3800 [==============================] - 10s 3ms/step - loss: 1.4651 - acc: 0.5026 - val_loss: 1.0202 - val_acc: 0.6274\n",
            "\n",
            "Epoch 00003: val_acc improved from 0.23895 to 0.62737, saving model to /content/drive/My Drive/PGP AIML/Project Assignment/R8 COmputer Vision with CNN Project 1/vgg16_best.h5\n",
            "Epoch 4/30\n",
            "3800/3800 [==============================] - 10s 3ms/step - loss: 1.6853 - acc: 0.4237 - val_loss: 1.5108 - val_acc: 0.4589\n",
            "\n",
            "Epoch 00004: val_acc did not improve from 0.62737\n",
            "Epoch 5/30\n",
            "3800/3800 [==============================] - 10s 3ms/step - loss: 0.8644 - acc: 0.7071 - val_loss: 0.6257 - val_acc: 0.7884\n",
            "\n",
            "Epoch 00005: val_acc improved from 0.62737 to 0.78842, saving model to /content/drive/My Drive/PGP AIML/Project Assignment/R8 COmputer Vision with CNN Project 1/vgg16_best.h5\n",
            "Epoch 6/30\n",
            "3800/3800 [==============================] - 10s 3ms/step - loss: 0.5873 - acc: 0.8042 - val_loss: 0.8169 - val_acc: 0.7368\n",
            "\n",
            "Epoch 00006: val_acc did not improve from 0.78842\n",
            "Epoch 7/30\n",
            "3800/3800 [==============================] - 10s 3ms/step - loss: 0.4411 - acc: 0.8566 - val_loss: 0.4555 - val_acc: 0.8463\n",
            "\n",
            "Epoch 00007: val_acc improved from 0.78842 to 0.84632, saving model to /content/drive/My Drive/PGP AIML/Project Assignment/R8 COmputer Vision with CNN Project 1/vgg16_best.h5\n",
            "Epoch 8/30\n",
            "3800/3800 [==============================] - 10s 3ms/step - loss: 0.3494 - acc: 0.8839 - val_loss: 0.4579 - val_acc: 0.8421\n",
            "\n",
            "Epoch 00008: val_acc did not improve from 0.84632\n",
            "Epoch 9/30\n",
            "3800/3800 [==============================] - 11s 3ms/step - loss: 0.3798 - acc: 0.8797 - val_loss: 0.8679 - val_acc: 0.7221\n",
            "\n",
            "Epoch 00009: val_acc did not improve from 0.84632\n",
            "Epoch 10/30\n",
            "3800/3800 [==============================] - 10s 3ms/step - loss: 0.3020 - acc: 0.8958 - val_loss: 0.4731 - val_acc: 0.8337\n",
            "\n",
            "Epoch 00010: val_acc did not improve from 0.84632\n",
            "Epoch 11/30\n",
            "3800/3800 [==============================] - 10s 3ms/step - loss: 0.2839 - acc: 0.9129 - val_loss: 0.3283 - val_acc: 0.8874\n",
            "\n",
            "Epoch 00011: val_acc improved from 0.84632 to 0.88737, saving model to /content/drive/My Drive/PGP AIML/Project Assignment/R8 COmputer Vision with CNN Project 1/vgg16_best.h5\n",
            "Epoch 12/30\n",
            "3800/3800 [==============================] - 10s 3ms/step - loss: 0.2247 - acc: 0.9250 - val_loss: 0.4367 - val_acc: 0.8632\n",
            "\n",
            "Epoch 00012: val_acc did not improve from 0.88737\n",
            "Epoch 13/30\n",
            "3800/3800 [==============================] - 10s 3ms/step - loss: 0.1535 - acc: 0.9474 - val_loss: 0.3490 - val_acc: 0.8811\n",
            "\n",
            "Epoch 00013: val_acc did not improve from 0.88737\n",
            "Epoch 14/30\n",
            "3800/3800 [==============================] - 10s 3ms/step - loss: 0.1306 - acc: 0.9561 - val_loss: 0.3935 - val_acc: 0.8937\n",
            "\n",
            "Epoch 00014: val_acc improved from 0.88737 to 0.89368, saving model to /content/drive/My Drive/PGP AIML/Project Assignment/R8 COmputer Vision with CNN Project 1/vgg16_best.h5\n",
            "Epoch 15/30\n",
            "3800/3800 [==============================] - 10s 3ms/step - loss: 0.1292 - acc: 0.9558 - val_loss: 0.5146 - val_acc: 0.8263\n",
            "\n",
            "Epoch 00015: val_acc did not improve from 0.89368\n",
            "Epoch 16/30\n",
            "3800/3800 [==============================] - 10s 3ms/step - loss: 0.0990 - acc: 0.9679 - val_loss: 0.3575 - val_acc: 0.8989\n",
            "\n",
            "Epoch 00016: val_acc improved from 0.89368 to 0.89895, saving model to /content/drive/My Drive/PGP AIML/Project Assignment/R8 COmputer Vision with CNN Project 1/vgg16_best.h5\n",
            "Epoch 17/30\n",
            "3800/3800 [==============================] - 10s 3ms/step - loss: 0.0854 - acc: 0.9700 - val_loss: 0.3586 - val_acc: 0.8884\n",
            "\n",
            "Epoch 00017: val_acc did not improve from 0.89895\n",
            "Epoch 18/30\n",
            "3800/3800 [==============================] - 10s 3ms/step - loss: 0.0897 - acc: 0.9700 - val_loss: 0.4697 - val_acc: 0.8579\n",
            "\n",
            "Epoch 00018: val_acc did not improve from 0.89895\n",
            "Epoch 19/30\n",
            "3800/3800 [==============================] - 10s 3ms/step - loss: 0.0620 - acc: 0.9803 - val_loss: 0.4207 - val_acc: 0.8884\n",
            "\n",
            "Epoch 00019: val_acc did not improve from 0.89895\n",
            "Epoch 20/30\n",
            "3800/3800 [==============================] - 10s 3ms/step - loss: 0.0490 - acc: 0.9839 - val_loss: 0.3674 - val_acc: 0.9032\n",
            "\n",
            "Epoch 00020: val_acc improved from 0.89895 to 0.90316, saving model to /content/drive/My Drive/PGP AIML/Project Assignment/R8 COmputer Vision with CNN Project 1/vgg16_best.h5\n",
            "Epoch 21/30\n",
            "3800/3800 [==============================] - 10s 3ms/step - loss: 0.0614 - acc: 0.9816 - val_loss: 0.4160 - val_acc: 0.8895\n",
            "\n",
            "Epoch 00021: val_acc did not improve from 0.90316\n",
            "Epoch 22/30\n",
            "3800/3800 [==============================] - 10s 3ms/step - loss: 0.0650 - acc: 0.9792 - val_loss: 0.6951 - val_acc: 0.8495\n",
            "\n",
            "Epoch 00022: val_acc did not improve from 0.90316\n",
            "Epoch 23/30\n",
            "3800/3800 [==============================] - 10s 3ms/step - loss: 0.0413 - acc: 0.9853 - val_loss: 0.4210 - val_acc: 0.9000\n",
            "\n",
            "Epoch 00023: val_acc did not improve from 0.90316\n",
            "Epoch 24/30\n",
            "3800/3800 [==============================] - 10s 3ms/step - loss: 0.0272 - acc: 0.9911 - val_loss: 0.4447 - val_acc: 0.8916\n",
            "\n",
            "Epoch 00024: val_acc did not improve from 0.90316\n",
            "Epoch 25/30\n",
            "3800/3800 [==============================] - 10s 3ms/step - loss: 0.1115 - acc: 0.9697 - val_loss: 0.3767 - val_acc: 0.9000\n",
            "\n",
            "Epoch 00025: val_acc did not improve from 0.90316\n",
            "Epoch 00025: early stopping\n"
          ],
          "name": "stdout"
        },
        {
          "output_type": "execute_result",
          "data": {
            "text/plain": [
              "<keras.callbacks.History at 0x7f5ba4fabba8>"
            ]
          },
          "metadata": {
            "tags": []
          },
          "execution_count": 32
        }
      ]
    },
    {
      "cell_type": "code",
      "metadata": {
        "id": "vEY_0cz-mzu8",
        "colab_type": "code",
        "outputId": "498cacf2-02fc-44f4-e1a9-b00273c94f9a",
        "colab": {
          "base_uri": "https://localhost:8080/",
          "height": 545
        }
      },
      "source": [
        "import matplotlib\n",
        "from matplotlib import pyplot as plt\n",
        "import matplotlib.image as mpimg\n",
        "acc = history.history['acc']\n",
        "val_acc = history.history['val_acc']\n",
        "loss = history.history['loss']\n",
        "val_loss = history.history['val_loss']\n",
        "epochs = range(1, len(acc) + 1)\n",
        "plt.plot(epochs, acc, 'bo', label='Training acc')\n",
        "plt.plot(epochs, val_acc, 'b', label='Validation acc')\n",
        "plt.title('Training and validation accuracy')\n",
        "plt.legend()\n",
        "plt.figure()\n",
        "plt.plot(epochs, loss, 'bo', label='Training loss')\n",
        "plt.plot(epochs, val_loss, 'b', label='Validation loss')\n",
        "plt.title('Training and validation loss')\n",
        "plt.legend()\n",
        "plt.show()"
      ],
      "execution_count": 33,
      "outputs": [
        {
          "output_type": "display_data",
          "data": {
            "image/png": "[encoded data removed]",
            "text/plain": [
              "<Figure size 432x288 with 1 Axes>"
            ]
          },
          "metadata": {
            "tags": []
          }
        },
        {
          "output_type": "display_data",
          "data": {
            "image/png": "[encoded data removed]",
            "text/plain": [
              "<Figure size 432x288 with 1 Axes>"
            ]
          },
          "metadata": {
            "tags": []
          }
        }
      ]
    },
    {
      "cell_type": "code",
      "metadata": {
        "colab_type": "code",
        "id": "JJOvuIiYINkg",
        "outputId": "8d651f80-00dd-45c9-b4f7-fda1b9cbd439",
        "colab": {
          "base_uri": "https://localhost:8080/",
          "height": 1000
        }
      },
      "source": [
        "model_final.summary()"
      ],
      "execution_count": 34,
      "outputs": [
        {
          "output_type": "stream",
          "text": [
            "Model: \"model_1\"\n",
            "_________________________________________________________________\n",
            "Layer (type)                 Output Shape              Param #   \n",
            "=================================================================\n",
            "input_1 (InputLayer)         (None, 128, 128, 3)       0         \n",
            "_________________________________________________________________\n",
            "block1_conv1 (Conv2D)        (None, 128, 128, 64)      1792      \n",
            "_________________________________________________________________\n",
            "block1_conv2 (Conv2D)        (None, 128, 128, 64)      36928     \n",
            "_________________________________________________________________\n",
            "block1_pool (MaxPooling2D)   (None, 64, 64, 64)        0         \n",
            "_________________________________________________________________\n",
            "block2_conv1 (Conv2D)        (None, 64, 64, 128)       73856     \n",
            "_________________________________________________________________\n",
            "block2_conv2 (Conv2D)        (None, 64, 64, 128)       147584    \n",
            "_________________________________________________________________\n",
            "block2_pool (MaxPooling2D)   (None, 32, 32, 128)       0         \n",
            "_________________________________________________________________\n",
            "block3_conv1 (Conv2D)        (None, 32, 32, 256)       295168    \n",
            "_________________________________________________________________\n",
            "block3_conv2 (Conv2D)        (None, 32, 32, 256)       590080    \n",
            "_________________________________________________________________\n",
            "block3_conv3 (Conv2D)        (None, 32, 32, 256)       590080    \n",
            "_________________________________________________________________\n",
            "block3_conv4 (Conv2D)        (None, 32, 32, 256)       590080    \n",
            "_________________________________________________________________\n",
            "block3_pool (MaxPooling2D)   (None, 16, 16, 256)       0         \n",
            "_________________________________________________________________\n",
            "block4_conv1 (Conv2D)        (None, 16, 16, 512)       1180160   \n",
            "_________________________________________________________________\n",
            "block4_conv2 (Conv2D)        (None, 16, 16, 512)       2359808   \n",
            "_________________________________________________________________\n",
            "block4_conv3 (Conv2D)        (None, 16, 16, 512)       2359808   \n",
            "_________________________________________________________________\n",
            "block4_conv4 (Conv2D)        (None, 16, 16, 512)       2359808   \n",
            "_________________________________________________________________\n",
            "block4_pool (MaxPooling2D)   (None, 8, 8, 512)         0         \n",
            "_________________________________________________________________\n",
            "block5_conv1 (Conv2D)        (None, 8, 8, 512)         2359808   \n",
            "_________________________________________________________________\n",
            "block5_conv2 (Conv2D)        (None, 8, 8, 512)         2359808   \n",
            "_________________________________________________________________\n",
            "block5_conv3 (Conv2D)        (None, 8, 8, 512)         2359808   \n",
            "_________________________________________________________________\n",
            "block5_conv4 (Conv2D)        (None, 8, 8, 512)         2359808   \n",
            "_________________________________________________________________\n",
            "block5_pool (MaxPooling2D)   (None, 4, 4, 512)         0         \n",
            "_________________________________________________________________\n",
            "flatten_1 (Flatten)          (None, 8192)              0         \n",
            "_________________________________________________________________\n",
            "dense_1 (Dense)              (None, 1024)              8389632   \n",
            "_________________________________________________________________\n",
            "dropout_1 (Dropout)          (None, 1024)              0         \n",
            "_________________________________________________________________\n",
            "dense_2 (Dense)              (None, 64)                65600     \n",
            "_________________________________________________________________\n",
            "dense_3 (Dense)              (None, 32)                2080      \n",
            "_________________________________________________________________\n",
            "dense_4 (Dense)              (None, 12)                396       \n",
            "=================================================================\n",
            "Total params: 28,482,092\n",
            "Trainable params: 28,369,516\n",
            "Non-trainable params: 112,576\n",
            "_________________________________________________________________\n"
          ],
          "name": "stdout"
        }
      ]
    },
    {
      "cell_type": "code",
      "metadata": {
        "id": "u35jpKqsftmr",
        "colab_type": "code",
        "colab": {
          "base_uri": "https://localhost:8080/",
          "height": 34
        },
        "outputId": "10dc57e5-6502-4935-b6f7-802bfd949ca7"
      },
      "source": [
        "x_test3 = x_test2/255\n",
        "x_test3.shape"
      ],
      "execution_count": 38,
      "outputs": [
        {
          "output_type": "execute_result",
          "data": {
            "text/plain": [
              "(794, 128, 128, 3)"
            ]
          },
          "metadata": {
            "tags": []
          },
          "execution_count": 38
        }
      ]
    },
    {
      "cell_type": "code",
      "metadata": {
        "id": "E7uyKuNLt-X-",
        "colab_type": "code",
        "colab": {}
      },
      "source": [
        ""
      ],
      "execution_count": 0,
      "outputs": []
    },
    {
      "cell_type": "code",
      "metadata": {
        "id": "2xnr5v4ZsMTi",
        "colab_type": "code",
        "colab": {
          "base_uri": "https://localhost:8080/",
          "height": 238
        },
        "outputId": "164c6c7a-485a-49a2-d1c2-574273eeab6c"
      },
      "source": [
        "y_pred = model_final.predict(x_test3)\n",
        "pred2 = [np.around(value) for value in y_pred]\n",
        "print (y_pred)\n"
      ],
      "execution_count": 56,
      "outputs": [
        {
          "output_type": "stream",
          "text": [
            "[[5.26810462e-09 1.53126479e-07 3.84809084e-07 ... 3.22500309e-05\n",
            "  1.55167115e-10 4.67361861e-06]\n",
            " [6.48643322e-07 3.34841673e-07 3.92000743e-09 ... 1.94744302e-07\n",
            "  8.36729741e-10 9.97757375e-01]\n",
            " [5.48431526e-05 3.45225203e-06 1.60253398e-06 ... 9.74526770e-08\n",
            "  9.84484458e-08 9.97747123e-01]\n",
            " ...\n",
            " [1.17817173e-10 2.33006192e-09 2.16320899e-08 ... 1.00517084e-07\n",
            "  9.99999881e-01 6.75326114e-13]\n",
            " [9.69540834e-01 1.70702660e-05 1.96508932e-04 ... 5.72200292e-07\n",
            "  3.08602557e-06 1.45632623e-06]\n",
            " [3.36120982e-04 8.47866090e-07 2.68594221e-07 ... 1.10709086e-08\n",
            "  1.60012223e-06 1.51407988e-08]]\n"
          ],
          "name": "stdout"
        }
      ]
    }
  ]
}