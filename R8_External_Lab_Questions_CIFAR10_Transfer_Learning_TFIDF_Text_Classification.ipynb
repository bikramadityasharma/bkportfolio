{
 "cells": [
  {
   "cell_type": "markdown",
   "metadata": {
    "colab_type": "text",
    "id": "QGIsF1ADyJ58"
   },
   "source": [
    "# Transfer Learning CIFAR10"
   ]
  },
  {
   "cell_type": "markdown",
   "metadata": {
    "colab_type": "text",
    "id": "E-n6tVFayGBe"
   },
   "source": [
    "* Train a simple convnet on the CIFAR dataset the first 5 output classes [0..4].\n",
    "* Freeze convolutional layers and fine-tune dense layers for the last 5 ouput classes [5..9].\n"
   ]
  },
  {
   "cell_type": "markdown",
   "metadata": {
    "colab_type": "text",
    "id": "Cq8ejXHJyGYq"
   },
   "source": [
    "### 1. Import CIFAR10 data and create 2 datasets with one dataset having classes from 0 to 4 and other having classes from 5 to 9 "
   ]
  },
  {
   "cell_type": "code",
   "execution_count": 1,
   "metadata": {
    "colab": {},
    "colab_type": "code",
    "id": "uWYbxnBayFUP"
   },
   "outputs": [
    {
     "name": "stderr",
     "output_type": "stream",
     "text": [
      "Using TensorFlow backend.\n"
     ]
    }
   ],
   "source": [
    "# imports\n",
    "import tensorflow as tf\n",
    "import pandas as pd\n",
    "import numpy as np\n",
    "from tensorflow.keras.datasets import cifar10\n",
    "import matplotlib.pyplot as plt\n",
    "%matplotlib inline\n",
    "from keras.utils import np_utils\n",
    "from tensorflow.keras.models import Sequential\n",
    "from tensorflow.keras.layers import Dense, Activation, Dropout, Flatten, Reshape\n",
    "from tensorflow.keras.layers import Convolution2D, MaxPooling2D\n"
   ]
  },
  {
   "cell_type": "code",
   "execution_count": 2,
   "metadata": {},
   "outputs": [],
   "source": [
    "# load data\n",
    "(X_train, y_train), (X_test, y_test) = cifar10.load_data()"
   ]
  },
  {
   "cell_type": "code",
   "execution_count": 3,
   "metadata": {},
   "outputs": [
    {
     "name": "stdout",
     "output_type": "stream",
     "text": [
      "train data sample : [[[251 249 250]\n",
      "  [247 245 247]\n",
      "  [247 245 247]\n",
      "  ...\n",
      "  [229 190 146]\n",
      "  [244 231 224]\n",
      "  [251 241 241]]\n",
      "\n",
      " [[249 248 248]\n",
      "  [246 244 244]\n",
      "  [246 245 244]\n",
      "  ...\n",
      "  [233 188 141]\n",
      "  [249 237 233]\n",
      "  [252 242 241]]\n",
      "\n",
      " [[167 165 148]\n",
      "  [167 164 148]\n",
      "  [167 164 149]\n",
      "  ...\n",
      "  [217 182 139]\n",
      "  [217 211 203]\n",
      "  [220 213 208]]\n",
      "\n",
      " ...\n",
      "\n",
      " [[133 130  39]\n",
      "  [123 127  36]\n",
      "  [124 130  35]\n",
      "  ...\n",
      "  [118 125  30]\n",
      "  [114 122  26]\n",
      "  [115 125  27]]\n",
      "\n",
      " [[123 125  36]\n",
      "  [124 127  36]\n",
      "  [126 129  32]\n",
      "  ...\n",
      "  [112 122  26]\n",
      "  [108 119  27]\n",
      "  [104 119  22]]\n",
      "\n",
      " [[125 128  42]\n",
      "  [129 132  43]\n",
      "  [126 130  36]\n",
      "  ...\n",
      "  [118 128  35]\n",
      "  [112 122  33]\n",
      "  [105 121  26]]]\n",
      "test data sample : [[[ 66  73  84]\n",
      "  [ 66  71  81]\n",
      "  [ 64  67  75]\n",
      "  ...\n",
      "  [104  97  81]\n",
      "  [104  97  81]\n",
      "  [104  97  81]]\n",
      "\n",
      " [[ 51  57  67]\n",
      "  [ 55  59  68]\n",
      "  [ 49  51  58]\n",
      "  ...\n",
      "  [ 94  87  71]\n",
      "  [ 95  88  72]\n",
      "  [ 96  89  73]]\n",
      "\n",
      " [[ 49  53  63]\n",
      "  [ 55  58  67]\n",
      "  [ 48  49  55]\n",
      "  ...\n",
      "  [ 78  69  55]\n",
      "  [ 77  68  54]\n",
      "  [ 78  69  56]]\n",
      "\n",
      " ...\n",
      "\n",
      " [[153 156 133]\n",
      "  [128 129 107]\n",
      "  [ 80  79  63]\n",
      "  ...\n",
      "  [184 184 140]\n",
      "  [183 183 139]\n",
      "  [182 182 138]]\n",
      "\n",
      " [[160 164 136]\n",
      "  [142 145 117]\n",
      "  [100  99  79]\n",
      "  ...\n",
      "  [184 189 143]\n",
      "  [184 188 143]\n",
      "  [183 187 142]]\n",
      "\n",
      " [[165 171 139]\n",
      "  [153 156 123]\n",
      "  [120 120  97]\n",
      "  ...\n",
      "  [184 193 146]\n",
      "  [184 192 145]\n",
      "  [183 191 144]]]\n",
      "train label sample : [0]\n",
      "test label sample : [2]\n"
     ]
    }
   ],
   "source": [
    "# printing  train & test data samples\n",
    "print(\"train data sample :\", X_train[35])\n",
    "print(\"test data sample :\", X_test[35])\n",
    "print(\"train label sample :\", y_train[35])\n",
    "print(\"test label sample :\", y_test[35])"
   ]
  },
  {
   "cell_type": "code",
   "execution_count": 4,
   "metadata": {},
   "outputs": [
    {
     "name": "stdout",
     "output_type": "stream",
     "text": [
      "Label: [4]\n"
     ]
    },
    {
     "data": {
      "text/plain": [
       "<matplotlib.image.AxesImage at 0x1d7e7ff9588>"
      ]
     },
     "execution_count": 4,
     "metadata": {},
     "output_type": "execute_result"
    },
    {
     "data": {
      "image/png": "[encoded data removed]",
      "text/plain": [
       "<Figure size 432x288 with 1 Axes>"
      ]
     },
     "metadata": {
      "needs_background": "light"
     },
     "output_type": "display_data"
    }
   ],
   "source": [
    "#visualising data\n",
    "print(\"Label: {}\".format(y_train[20]))\n",
    "plt.imshow(X_train[20])"
   ]
  },
  {
   "cell_type": "code",
   "execution_count": 5,
   "metadata": {},
   "outputs": [
    {
     "name": "stdout",
     "output_type": "stream",
     "text": [
      "[5]\n",
      "[0]\n",
      "[7]\n",
      "[1]\n"
     ]
    }
   ],
   "source": [
    "# Splitting data set into 2 categories one with 0-4 labels & other with 5-9 labels.\n",
    "\n",
    "x_train_zero_four = []\n",
    "y_train_zero_four = []\n",
    "x_train_five_nine = []\n",
    "y_train_five_nine = []\n",
    "\n",
    "x_test_zero_four = []\n",
    "y_test_zero_four = []\n",
    "x_test_five_nine = []\n",
    "y_test_five_nine = []\n",
    "\n",
    "for idx,x in enumerate(y_train):\n",
    "    if (x>4):\n",
    "        x_train_five_nine.append(X_train[idx])\n",
    "        y_train_five_nine.append(y_train[idx])\n",
    "    else:\n",
    "        x_train_zero_four.append(X_train[idx])\n",
    "        y_train_zero_four.append(y_train[idx])\n",
    "\n",
    "        \n",
    "for idx,y in enumerate(y_test):\n",
    "    if (y>4):\n",
    "        x_test_five_nine.append(X_test[idx])\n",
    "        y_test_five_nine.append(y_test[idx])\n",
    "    else:\n",
    "        x_test_zero_four.append(X_test[idx])\n",
    "        y_test_zero_four.append(y_test[idx])\n",
    "        \n",
    "print(y_train_five_nine[14])\n",
    "print(y_train_zero_four[14]) \n",
    "\n",
    "print(y_test_five_nine[14])\n",
    "print(y_test_zero_four[14]) "
   ]
  },
  {
   "cell_type": "code",
   "execution_count": 6,
   "metadata": {},
   "outputs": [
    {
     "name": "stdout",
     "output_type": "stream",
     "text": [
      "(25000, 32, 32, 3)\n",
      "(25000, 1)\n",
      "(25000, 32, 32, 3)\n",
      "(25000, 1)\n",
      "(5000, 32, 32, 3)\n",
      "(5000, 1)\n",
      "(5000, 32, 32, 3)\n",
      "(5000, 1)\n"
     ]
    }
   ],
   "source": [
    "# printing shape of each data set post splitting\n",
    "\n",
    "x_train_zero_four = np.asarray(x_train_zero_four,dtype='float')\n",
    "y_train_zero_four = np.asarray(y_train_zero_four,dtype='float')\n",
    "x_train_five_nine = np.asarray(x_train_five_nine,dtype='float')\n",
    "y_train_five_nine = np.asarray(y_train_five_nine,dtype='float')\n",
    "x_test_zero_four = np.asarray(x_test_zero_four,dtype='float')\n",
    "y_test_zero_four = np.asarray(y_test_zero_four,dtype='float')\n",
    "x_test_five_nine = np.asarray(x_test_five_nine,dtype='float')\n",
    "y_test_five_nine = np.asarray(y_test_five_nine,dtype='float')\n",
    "print(x_train_zero_four.shape)\n",
    "print(y_train_zero_four.shape)\n",
    "print(x_train_five_nine.shape)\n",
    "print(y_train_five_nine.shape)\n",
    "print(x_test_zero_four.shape)\n",
    "print(y_test_zero_four.shape)\n",
    "print(x_test_five_nine.shape)\n",
    "print(y_test_five_nine.shape)"
   ]
  },
  {
   "cell_type": "code",
   "execution_count": 7,
   "metadata": {},
   "outputs": [],
   "source": [
    "#Reshaping data\n",
    "\n",
    "x_train_zero_four = x_train_zero_four.reshape(x_train_zero_four.shape[0], 32, 32, 3).astype('float32')\n",
    "x_test_zero_four = x_test_zero_four.reshape(x_test_zero_four.shape[0], 32, 32, 3).astype('float32')"
   ]
  },
  {
   "cell_type": "code",
   "execution_count": 8,
   "metadata": {},
   "outputs": [],
   "source": [
    "#Normalise data\n",
    "\n",
    "x_train_zero_four /= 255\n",
    "x_test_zero_four /= 255"
   ]
  },
  {
   "cell_type": "code",
   "execution_count": 9,
   "metadata": {},
   "outputs": [
    {
     "name": "stdout",
     "output_type": "stream",
     "text": [
      "(25000, 32, 32, 3)\n",
      "(5000, 1)\n"
     ]
    }
   ],
   "source": [
    "print(x_train_zero_four.shape)\n",
    "print(y_test_zero_four.shape)"
   ]
  },
  {
   "cell_type": "markdown",
   "metadata": {
    "colab_type": "text",
    "id": "xtCKmQh4yXhT"
   },
   "source": [
    "### 2. Use One-hot encoding to divide y_train and y_test into required no of output classes"
   ]
  },
  {
   "cell_type": "code",
   "execution_count": 10,
   "metadata": {
    "colab": {},
    "colab_type": "code",
    "id": "uN5O2kJ3yYa6"
   },
   "outputs": [],
   "source": [
    "y_train_zero_four = np_utils.to_categorical(y_train_zero_four, 5)\n",
    "y_test_zero_four = np_utils.to_categorical(y_test_zero_four, 5)"
   ]
  },
  {
   "cell_type": "markdown",
   "metadata": {
    "colab_type": "text",
    "id": "cuOiKWfeybAl"
   },
   "source": [
    "### 3. Build a sequential neural network model which can classify the classes 0 to 4 of CIFAR10 dataset with at least 80% accuracy on test data"
   ]
  },
  {
   "cell_type": "code",
   "execution_count": 11,
   "metadata": {
    "colab": {},
    "colab_type": "code",
    "id": "5HzxNbiiyoBD"
   },
   "outputs": [
    {
     "name": "stdout",
     "output_type": "stream",
     "text": [
      "Train on 25000 samples, validate on 5000 samples\n",
      "Epoch 1/20\n",
      "25000/25000 [==============================] - 15s 607us/sample - loss: 1.1467 - accuracy: 0.5277 - val_loss: 0.9362 - val_accuracy: 0.6268\n",
      "Epoch 2/20\n",
      "25000/25000 [==============================] - 12s 479us/sample - loss: 0.9464 - accuracy: 0.6282 - val_loss: 0.8385 - val_accuracy: 0.6622\n",
      "Epoch 3/20\n",
      "25000/25000 [==============================] - 12s 473us/sample - loss: 0.8810 - accuracy: 0.6566 - val_loss: 0.8046 - val_accuracy: 0.6928\n",
      "Epoch 4/20\n",
      "25000/25000 [==============================] - 12s 488us/sample - loss: 0.8331 - accuracy: 0.6793 - val_loss: 0.7743 - val_accuracy: 0.6924\n",
      "Epoch 5/20\n",
      "25000/25000 [==============================] - 12s 499us/sample - loss: 0.7928 - accuracy: 0.6964 - val_loss: 0.7555 - val_accuracy: 0.7072\n",
      "Epoch 6/20\n",
      "25000/25000 [==============================] - 12s 488us/sample - loss: 0.7548 - accuracy: 0.7101 - val_loss: 0.7798 - val_accuracy: 0.7008\n",
      "Epoch 7/20\n",
      "25000/25000 [==============================] - 19s 761us/sample - loss: 0.7163 - accuracy: 0.7270 - val_loss: 0.7229 - val_accuracy: 0.7142\n",
      "Epoch 8/20\n",
      "25000/25000 [==============================] - 12s 496us/sample - loss: 0.6798 - accuracy: 0.7395 - val_loss: 0.7359 - val_accuracy: 0.7084\n",
      "Epoch 9/20\n",
      "25000/25000 [==============================] - 13s 501us/sample - loss: 0.6492 - accuracy: 0.7515 - val_loss: 0.7210 - val_accuracy: 0.7160\n",
      "Epoch 10/20\n",
      "25000/25000 [==============================] - 13s 519us/sample - loss: 0.6170 - accuracy: 0.7646 - val_loss: 0.7462 - val_accuracy: 0.7086\n",
      "Epoch 11/20\n",
      "25000/25000 [==============================] - 13s 517us/sample - loss: 0.6004 - accuracy: 0.7719 - val_loss: 0.6974 - val_accuracy: 0.7306\n",
      "Epoch 12/20\n",
      "25000/25000 [==============================] - 14s 544us/sample - loss: 0.5621 - accuracy: 0.7901 - val_loss: 0.6908 - val_accuracy: 0.7382\n",
      "Epoch 13/20\n",
      "25000/25000 [==============================] - 12s 499us/sample - loss: 0.5411 - accuracy: 0.7956 - val_loss: 0.6961 - val_accuracy: 0.7388\n",
      "Epoch 14/20\n",
      "25000/25000 [==============================] - 12s 484us/sample - loss: 0.5185 - accuracy: 0.8045 - val_loss: 0.7142 - val_accuracy: 0.7346\n",
      "Epoch 15/20\n",
      "25000/25000 [==============================] - 12s 491us/sample - loss: 0.4912 - accuracy: 0.8166 - val_loss: 0.7431 - val_accuracy: 0.7272\n",
      "Epoch 16/20\n",
      "25000/25000 [==============================] - 12s 498us/sample - loss: 0.4720 - accuracy: 0.8221 - val_loss: 0.7363 - val_accuracy: 0.7374\n",
      "Epoch 17/20\n",
      "25000/25000 [==============================] - 13s 509us/sample - loss: 0.4575 - accuracy: 0.8276 - val_loss: 0.7376 - val_accuracy: 0.7326\n",
      "Epoch 18/20\n",
      "25000/25000 [==============================] - 13s 518us/sample - loss: 0.4380 - accuracy: 0.8378 - val_loss: 0.7227 - val_accuracy: 0.7402\n",
      "Epoch 19/20\n",
      "25000/25000 [==============================] - 13s 520us/sample - loss: 0.4241 - accuracy: 0.8424 - val_loss: 0.7543 - val_accuracy: 0.7328\n",
      "Epoch 20/20\n",
      "25000/25000 [==============================] - 13s 540us/sample - loss: 0.4117 - accuracy: 0.8457 - val_loss: 0.7445 - val_accuracy: 0.7338\n"
     ]
    },
    {
     "data": {
      "text/plain": [
       "<tensorflow.python.keras.callbacks.History at 0x1d7f480de10>"
      ]
     },
     "execution_count": 11,
     "metadata": {},
     "output_type": "execute_result"
    }
   ],
   "source": [
    "model = tf.keras.models.Sequential()\n",
    " # 1st Conv Layer\n",
    "model.add(Convolution2D(32, 3, 3, input_shape=(32, 32, 3)))\n",
    "model.add(Activation('relu'))\n",
    "\n",
    "# Max Pooling\n",
    "model.add(MaxPooling2D(pool_size=(2,2)))\n",
    "\n",
    " # Dropout\n",
    "model.add(Dropout(0.2))\n",
    "\n",
    "# Fully Connected Layer\n",
    "model.add(Flatten())\n",
    "model.add(Dense(512))\n",
    "model.add(Activation('relu'))\n",
    "model.add(Dropout(0.25))\n",
    "\n",
    "#Dense\n",
    "model.add(Dense(128))\n",
    "model.add(Activation('relu'))\n",
    "\n",
    "# More Dropout\n",
    "model.add(Dropout(0.5))\n",
    "model.add(Dense(5))\n",
    "model.add(Activation('softmax'))\n",
    "\n",
    "# Loss and Optimizer\n",
    "model.compile(loss='categorical_crossentropy', optimizer='adam', metrics=['accuracy'])\n",
    "\n",
    "model.fit(x_train_zero_four, y_train_zero_four, batch_size=32, epochs=20,validation_data=(x_test_zero_four, y_test_zero_four))"
   ]
  },
  {
   "cell_type": "markdown",
   "metadata": {
    "colab_type": "text",
    "id": "woTfNst_ynRG"
   },
   "source": [
    "### 4. In the model which was built above (for classification of classes 0-4 in CIFAR10), make only the dense layers to be trainable and conv layers to be non-trainable"
   ]
  },
  {
   "cell_type": "code",
   "execution_count": 12,
   "metadata": {
    "colab": {},
    "colab_type": "code",
    "id": "o_VCDB3Byb1a"
   },
   "outputs": [
    {
     "name": "stdout",
     "output_type": "stream",
     "text": [
      "\u001b[34mconv2d\u001b[0m\n",
      "\u001b[31mFalse\u001b[0m\n",
      "\u001b[34mactivation\u001b[0m\n",
      "\u001b[31mFalse\u001b[0m\n",
      "\u001b[34mmax_pooling2d\u001b[0m\n",
      "\u001b[31mFalse\u001b[0m\n",
      "\u001b[34mdropout\u001b[0m\n",
      "\u001b[31mFalse\u001b[0m\n",
      "\u001b[34mflatten\u001b[0m\n",
      "\u001b[31mFalse\u001b[0m\n",
      "\u001b[34mdense\u001b[0m\n",
      "\u001b[31mTrue\u001b[0m\n",
      "\u001b[34mactivation_1\u001b[0m\n",
      "\u001b[31mFalse\u001b[0m\n",
      "\u001b[34mdropout_1\u001b[0m\n",
      "\u001b[31mFalse\u001b[0m\n",
      "\u001b[34mdense_1\u001b[0m\n",
      "\u001b[31mTrue\u001b[0m\n",
      "\u001b[34mactivation_2\u001b[0m\n",
      "\u001b[31mFalse\u001b[0m\n",
      "\u001b[34mdropout_2\u001b[0m\n",
      "\u001b[31mFalse\u001b[0m\n",
      "\u001b[34mdense_2\u001b[0m\n",
      "\u001b[31mTrue\u001b[0m\n",
      "\u001b[34mactivation_3\u001b[0m\n",
      "\u001b[31mFalse\u001b[0m\n"
     ]
    }
   ],
   "source": [
    "#Freezing layers in the model which don't have 'dense' in their name\n",
    "for layer in model.layers:\n",
    "  if('dense' not in layer.name): #prefix detection to freeze layers which does not have dense\n",
    "    #Freezing a layer\n",
    "    layer.trainable = False\n",
    "\n",
    "#Module to print colourful statements\n",
    "from termcolor import colored\n",
    "\n",
    "#Check which layers have been frozen \n",
    "for layer in model.layers:\n",
    "  print (colored(layer.name, 'blue'))\n",
    "  print (colored(layer.trainable, 'red'))"
   ]
  },
  {
   "cell_type": "markdown",
   "metadata": {
    "colab_type": "text",
    "id": "1-uUPqWpyeyX"
   },
   "source": [
    "### 5. Utilize the the model trained on CIFAR 10 (classes 0 to 4) to classify the classes 5 to 9 of CIFAR 10  (Use Transfer Learning) <br>\n",
    "Achieve an accuracy of more than 85% on test data"
   ]
  },
  {
   "cell_type": "code",
   "execution_count": 13,
   "metadata": {},
   "outputs": [],
   "source": [
    "#Reshape\n",
    "x_train_five_nine = x_train_five_nine.reshape(x_train_five_nine.shape[0], 32, 32, 3).astype('float32')\n",
    "x_test_five_nine = x_test_five_nine.reshape(x_test_five_nine.shape[0], 32, 32, 3).astype('float32')"
   ]
  },
  {
   "cell_type": "code",
   "execution_count": 14,
   "metadata": {},
   "outputs": [],
   "source": [
    "#Normalise\n",
    "x_train_five_nine /= 255\n",
    "x_test_five_nine /= 255"
   ]
  },
  {
   "cell_type": "code",
   "execution_count": 15,
   "metadata": {
    "colab": {},
    "colab_type": "code",
    "id": "szHjJgDvyfCt"
   },
   "outputs": [
    {
     "name": "stdout",
     "output_type": "stream",
     "text": [
      "[3.]\n"
     ]
    }
   ],
   "source": [
    "# encoding the labels for 5-9 of cifar 10 data set\n",
    "y_train_five_nine = y_train_five_nine -5\n",
    "y_test_five_nine = y_test_five_nine - 5\n",
    "\n",
    "print(y_test_five_nine[0])\n",
    "\n",
    "y_train_five_nine = np_utils.to_categorical(y_train_five_nine, 5)\n",
    "y_test_five_nine = np_utils.to_categorical(y_test_five_nine, 5)"
   ]
  },
  {
   "cell_type": "code",
   "execution_count": 16,
   "metadata": {},
   "outputs": [
    {
     "name": "stdout",
     "output_type": "stream",
     "text": [
      "Train on 25000 samples, validate on 5000 samples\n",
      "Epoch 1/20\n",
      "25000/25000 [==============================] - 12s 492us/sample - loss: 1.1143 - accuracy: 0.5708 - val_loss: 0.7653 - val_accuracy: 0.7228\n",
      "Epoch 2/20\n",
      "25000/25000 [==============================] - 12s 483us/sample - loss: 0.8237 - accuracy: 0.6911 - val_loss: 0.6673 - val_accuracy: 0.7540\n",
      "Epoch 3/20\n",
      "25000/25000 [==============================] - 12s 491us/sample - loss: 0.7484 - accuracy: 0.7242 - val_loss: 0.6195 - val_accuracy: 0.7698\n",
      "Epoch 4/20\n",
      "25000/25000 [==============================] - 13s 512us/sample - loss: 0.6867 - accuracy: 0.7507 - val_loss: 0.6017 - val_accuracy: 0.7784\n",
      "Epoch 5/20\n",
      "25000/25000 [==============================] - 13s 508us/sample - loss: 0.6444 - accuracy: 0.7638 - val_loss: 0.5550 - val_accuracy: 0.8000\n",
      "Epoch 6/20\n",
      "25000/25000 [==============================] - 13s 509us/sample - loss: 0.6086 - accuracy: 0.7792 - val_loss: 0.5609 - val_accuracy: 0.7882\n",
      "Epoch 7/20\n",
      "25000/25000 [==============================] - 13s 518us/sample - loss: 0.5716 - accuracy: 0.7892 - val_loss: 0.5221 - val_accuracy: 0.8066\n",
      "Epoch 8/20\n",
      "25000/25000 [==============================] - 13s 512us/sample - loss: 0.5400 - accuracy: 0.8056 - val_loss: 0.5035 - val_accuracy: 0.8110\n",
      "Epoch 9/20\n",
      "25000/25000 [==============================] - 12s 461us/sample - loss: 0.5165 - accuracy: 0.8103 - val_loss: 0.4928 - val_accuracy: 0.8180\n",
      "Epoch 10/20\n",
      "25000/25000 [==============================] - 12s 461us/sample - loss: 0.4876 - accuracy: 0.8245 - val_loss: 0.5021 - val_accuracy: 0.8158\n",
      "Epoch 11/20\n",
      "25000/25000 [==============================] - 12s 472us/sample - loss: 0.4612 - accuracy: 0.8312 - val_loss: 0.4795 - val_accuracy: 0.8216\n",
      "Epoch 12/20\n",
      "25000/25000 [==============================] - 12s 473us/sample - loss: 0.4384 - accuracy: 0.8388 - val_loss: 0.4758 - val_accuracy: 0.8292\n",
      "Epoch 13/20\n",
      "25000/25000 [==============================] - 12s 476us/sample - loss: 0.4135 - accuracy: 0.8494 - val_loss: 0.4757 - val_accuracy: 0.8280\n",
      "Epoch 14/20\n",
      "25000/25000 [==============================] - 15s 594us/sample - loss: 0.3995 - accuracy: 0.8553 - val_loss: 0.5097 - val_accuracy: 0.8168\n",
      "Epoch 15/20\n",
      "25000/25000 [==============================] - 14s 578us/sample - loss: 0.3757 - accuracy: 0.8611 - val_loss: 0.4907 - val_accuracy: 0.8268\n",
      "Epoch 16/20\n",
      "25000/25000 [==============================] - 15s 594us/sample - loss: 0.3655 - accuracy: 0.8677 - val_loss: 0.4877 - val_accuracy: 0.8290\n",
      "Epoch 17/20\n",
      "25000/25000 [==============================] - 15s 607us/sample - loss: 0.3398 - accuracy: 0.8754 - val_loss: 0.5030 - val_accuracy: 0.8228\n",
      "Epoch 18/20\n",
      "25000/25000 [==============================] - 15s 618us/sample - loss: 0.3223 - accuracy: 0.8827 - val_loss: 0.4817 - val_accuracy: 0.8332\n",
      "Epoch 19/20\n",
      "25000/25000 [==============================] - 16s 645us/sample - loss: 0.3116 - accuracy: 0.8888 - val_loss: 0.5369 - val_accuracy: 0.8220\n",
      "Epoch 20/20\n",
      "25000/25000 [==============================] - 16s 652us/sample - loss: 0.3044 - accuracy: 0.8905 - val_loss: 0.4887 - val_accuracy: 0.8308\n"
     ]
    },
    {
     "data": {
      "text/plain": [
       "<tensorflow.python.keras.callbacks.History at 0x1d7f653c748>"
      ]
     },
     "execution_count": 16,
     "metadata": {},
     "output_type": "execute_result"
    }
   ],
   "source": [
    "#Transfer learning . Fit the model built on 0-4 data onto data 5-9\n",
    "model.fit(x_train_five_nine, y_train_five_nine, batch_size=32, epochs=20,validation_data=(x_test_five_nine, y_test_five_nine))"
   ]
  },
  {
   "cell_type": "markdown",
   "metadata": {
    "colab_type": "text",
    "id": "0zDuRecXzEtr"
   },
   "source": [
    "# Text classification using TF-IDF"
   ]
  },
  {
   "cell_type": "markdown",
   "metadata": {
    "colab_type": "text",
    "id": "xMPlEJhHzb6P"
   },
   "source": [
    "### 6. Load the dataset from sklearn.datasets"
   ]
  },
  {
   "cell_type": "code",
   "execution_count": 17,
   "metadata": {
    "colab": {},
    "colab_type": "code",
    "id": "Fe-B59u3zHNb"
   },
   "outputs": [],
   "source": [
    "from sklearn.datasets import fetch_20newsgroups\n",
    "from sklearn.feature_extraction.text import TfidfVectorizer\n",
    "from sklearn.model_selection import train_test_split"
   ]
  },
  {
   "cell_type": "code",
   "execution_count": 18,
   "metadata": {
    "colab": {},
    "colab_type": "code",
    "id": "PRrMemVQzbHU"
   },
   "outputs": [],
   "source": [
    "categories = ['alt.atheism', 'soc.religion.christian', 'comp.graphics', 'sci.med']"
   ]
  },
  {
   "cell_type": "markdown",
   "metadata": {
    "colab_type": "text",
    "id": "-sZX0UbJzmg5"
   },
   "source": [
    "### 7. Training data"
   ]
  },
  {
   "cell_type": "code",
   "execution_count": 19,
   "metadata": {
    "colab": {},
    "colab_type": "code",
    "id": "CITr_5aXziJ2"
   },
   "outputs": [
    {
     "name": "stderr",
     "output_type": "stream",
     "text": [
      "Downloading 20news dataset. This may take a few minutes.\n",
      "Downloading dataset from https://ndownloader.figshare.com/files/5975967 (14 MB)\n"
     ]
    },
    {
     "data": {
      "text/plain": [
       "['From: sd345@city.ac.uk (Michael Collier)\\nSubject: Converting images to HP LaserJet III?\\nNntp-Posting-Host: hampton\\nOrganization: The City University\\nLines: 14\\n\\nDoes anyone know of a good way (standard PC application/PD utility) to\\nconvert tif/img/tga files into LaserJet III format.  We would also like to\\ndo the same, converting to HPGL (HP plotter) files.\\n\\nPlease email any response.\\n\\nIs this the correct group?\\n\\nThanks in advance.  Michael.\\n-- \\nMichael Collier (Programmer)                 The Computer Unit,\\nEmail: M.P.Collier@uk.ac.city                The City University,\\nTel: 071 477-8000 x3769                      London,\\nFax: 071 477-8565                            EC1V 0HB.\\n',\n",
       " \"From: ani@ms.uky.edu (Aniruddha B. Deglurkar)\\nSubject: help: Splitting a trimming region along a mesh \\nOrganization: University Of Kentucky, Dept. of Math Sciences\\nLines: 28\\n\\n\\n\\n\\tHi,\\n\\n\\tI have a problem, I hope some of the 'gurus' can help me solve.\\n\\n\\tBackground of the problem:\\n\\tI have a rectangular mesh in the uv domain, i.e  the mesh is a \\n\\tmapping of a 3d Bezier patch into 2d. The area in this domain\\n\\twhich is inside a trimming loop had to be rendered. The trimming\\n\\tloop is a set of 2d Bezier curve segments.\\n\\tFor the sake of notation: the mesh is made up of cells.\\n\\n\\tMy problem is this :\\n\\tThe trimming area has to be split up into individual smaller\\n\\tcells bounded by the trimming curve segments. If a cell\\n\\tis wholly inside the area...then it is output as a whole ,\\n\\telse it is trivially rejected. \\n\\n\\tDoes any body know how thiss can be done, or is there any algo. \\n\\tsomewhere for doing this.\\n\\n\\tAny help would be appreciated.\\n\\n\\tThanks, \\n\\tAni.\\n-- \\nTo get irritated is human, to stay cool, divine.\\n\",\n",
       " \"From: djohnson@cs.ucsd.edu (Darin Johnson)\\nSubject: Re: harrassed at work, could use some prayers\\nOrganization: =CSE Dept., U.C. San Diego\\nLines: 63\\n\\n(Well, I'll email also, but this may apply to other people, so\\nI'll post also.)\\n\\n>I've been working at this company for eight years in various\\n>engineering jobs.  I'm female.  Yesterday I counted and realized that\\n>on seven different occasions I've been sexually harrassed at this\\n>company.\\n\\n>I dreaded coming back to work today.  What if my boss comes in to ask\\n>me some kind of question...\\n\\nYour boss should be the person bring these problems to.  If he/she\\ndoes not seem to take any action, keep going up higher and higher.\\nSexual harrassment does not need to be tolerated, and it can be an\\nenormous emotional support to discuss this with someone and know that\\nthey are trying to do something about it.  If you feel you can not\\ndiscuss this with your boss, perhaps your company has a personnel\\ndepartment that can work for you while preserving your privacy.  Most\\ncompanies will want to deal with this problem because constant anxiety\\ndoes seriously affect how effectively employees do their jobs.\\n\\nIt is unclear from your letter if you have done this or not.  It is\\nnot inconceivable that management remains ignorant of employee\\nproblems/strife even after eight years (it's a miracle if they do\\nnotice).  Perhaps your manager did not bring to the attention of\\nhigher ups?  If the company indeed does seem to want to ignore the\\nentire problem, there may be a state agency willing to fight with\\nyou.  (check with a lawyer, a women's resource center, etc to find out)\\n\\nYou may also want to discuss this with your paster, priest, husband,\\netc.  That is, someone you know will not be judgemental and that is\\nsupportive, comforting, etc.  This will bring a lot of healing.\\n\\n>So I returned at 11:25, only to find that ever single\\n>person had already left for lunch.  They left at 11:15 or so.  No one\\n>could be bothered to call me at the other building, even though my\\n>number was posted.\\n\\nThis happens to a lot of people.  Honest.  I believe it may seem\\nto be due to gross insensitivity because of the feelings you are\\ngoing through.  People in offices tend to be more insensitive while\\nworking than they normally are (maybe it's the hustle or stress or...)\\nI've had this happen to me a lot, often because they didn't realize\\nmy car was broken, etc.  Then they will come back and wonder why I\\ndidn't want to go (this would tend to make me stop being angry at\\nbeing ignored and make me laugh).  Once, we went off without our\\nboss, who was paying for the lunch :-)\\n\\n>For this\\n>reason I hope good Mr. Moderator allows me this latest indulgence.\\n\\nWell, if you can't turn to the computer for support, what would\\nwe do?  (signs of the computer age :-)\\n\\nIn closing, please don't let the hateful actions of a single person\\nharm you.  They are doing it because they are still the playground\\nbully and enjoy seeing the hurt they cause.  And you should not\\naccept the opinions of an imbecile that you are worthless - much\\nwiser people hold you in great esteem.\\n-- \\nDarin Johnson\\ndjohnson@ucsd.edu\\n  - Luxury!  In MY day, we had to make do with 5 bytes of swap...\\n\"]"
      ]
     },
     "execution_count": 19,
     "metadata": {},
     "output_type": "execute_result"
    }
   ],
   "source": [
    "twenty_train = fetch_20newsgroups(subset='train', categories=categories, shuffle=True, random_state=42)\n",
    "twenty_train.data[:3]"
   ]
  },
  {
   "cell_type": "markdown",
   "metadata": {
    "colab_type": "text",
    "id": "xcESc5QXzr6p"
   },
   "source": [
    "### 8. Test data"
   ]
  },
  {
   "cell_type": "code",
   "execution_count": 20,
   "metadata": {
    "colab": {},
    "colab_type": "code",
    "id": "ysInblUMzpvl"
   },
   "outputs": [
    {
     "data": {
      "text/plain": [
       "[\"From: brian@ucsd.edu (Brian Kantor)\\nSubject: Re: HELP for Kidney Stones ..............\\nOrganization: The Avant-Garde of the Now, Ltd.\\nLines: 12\\nNNTP-Posting-Host: ucsd.edu\\n\\nAs I recall from my bout with kidney stones, there isn't any\\nmedication that can do anything about them except relieve the pain.\\n\\nEither they pass, or they have to be broken up with sound, or they have\\nto be extracted surgically.\\n\\nWhen I was in, the X-ray tech happened to mention that she'd had kidney\\nstones and children, and the childbirth hurt less.\\n\\nDemerol worked, although I nearly got arrested on my way home when I barfed\\nall over the police car parked just outside the ER.\\n\\t- Brian\\n\",\n",
       " 'From: rind@enterprise.bih.harvard.edu (David Rind)\\nSubject: Re: Candida(yeast) Bloom, Fact or Fiction\\nOrganization: Beth Israel Hospital, Harvard Medical School, Boston Mass., USA\\nLines: 37\\nNNTP-Posting-Host: enterprise.bih.harvard.edu\\n\\nIn article <1993Apr26.103242.1@vms.ocom.okstate.edu>\\n banschbach@vms.ocom.okstate.edu writes:\\n>are in a different class.  The big question seems to be is it reasonable to \\n>use them in patients with GI distress or sinus problems that *could* be due \\n>to candida blooms following the use of broad-spectrum antibiotics?\\n\\nI guess I\\'m still not clear on what the term \"candida bloom\" means,\\nbut certainly it is well known that thrush (superficial candidal\\ninfections on mucous membranes) can occur after antibiotic use.\\nThis has nothing to do with systemic yeast syndrome, the \"quack\"\\ndiagnosis that has been being discussed.\\n\\n\\n>found in the sinus mucus membranes than is candida.  Women have been known \\n>for a very long time to suffer from candida blooms in the vagina and a \\n>women is lucky to find a physician who is willing to treat the cause and \\n>not give give her advise to use the OTC anti-fungal creams.\\n\\nLucky how?  Since a recent article (randomized controlled trial) of\\noral yogurt on reducing vaginal candidiasis, I\\'ve mentioned to a \\nnumber of patients with frequent vaginal yeast infections that they\\ncould try eating 6 ounces of yogurt daily.  It turns out most would\\nrather just use anti-fungal creams when they get yeast infections.\\n\\n>yogurt dangerous).  If this were a standard part of medical practice, as \\n>Gordon R. says it is, then the incidence of GI distress and vaginal yeast \\n>infections should decline.\\n\\nAgain, this just isn\\'t what the systemic yeast syndrome is about, and\\nhas nothing to do with the quack therapies that were being discussed.\\nThere is some evidence that attempts to reinoculate the GI tract with\\nbacteria after antibiotic therapy don\\'t seem to be very helpful in\\nreducing diarrhea, but I don\\'t think anyone would view this as a\\nquack therapy.\\n-- \\nDavid Rind\\nrind@enterprise.bih.harvard.edu\\n',\n",
       " 'From: adwright@iastate.edu ()\\nSubject: Re: centi- and milli- pedes\\nOrganization: Iowa State University, Ames IA\\nLines: 37\\n\\nIn <1993Apr29.112642.1@vms.ocom.okstate.edu> chorley@vms.ocom.okstate.edu writes:\\n\\n>In article <35004@castle.ed.ac.uk>, gtclark@festival.ed.ac.uk (G T Clark) writes:\\n>> msnyder@nmt.edu (Rebecca Snyder) writes:\\n>> \\n>>>Does anyone know how posionous centipedes and millipedes are? If someone\\n>>>was bitten, how soon would medical treatment be needed, and what would\\n>>>be liable to happen to the person?\\n>> \\n>>>(Just for clarification - I have NOT been bitten by one of these,  but my\\n>>>house seems to be infested, and I want to know \\'just in case\\'.)\\n>> \\n>>>Rebecca\\n>> \\n>> \\n>> \\tMillipedes, I understand, are vegetarian, and therefore almost\\n>> certainly will not bite and are not poisonous. Centipedes are\\n>> carnivorous, and although I don\\'t have any absolute knowledge on this, I\\n>> would tend to think that you\\'re in no danger from anything but a\\n>> concerted assault by several million of them.\\n>> \\n>> \\t\\t\\tG.\\n>Not sure of this but I think some millipedes cause a toxic reaction (sting?\\n>So I would not assume that they are not dangerous merely on the basis of \\n>vegetarianism, after all wasps are vegetarian too.\\n>dnc.\\n\\nAs a child i can remember picking up a centipede and getting a rather painful \\nsting, but it quickly subsided. Much less painful compared to a bee sting. \\nCentipedes have a poison claw (one of the front feet) to stun their prey, but\\nin my single experience it did not have a lot of \"bite\" to it.\\n\\nA.\\n\\n\\n\\n\\n']"
      ]
     },
     "execution_count": 20,
     "metadata": {},
     "output_type": "execute_result"
    }
   ],
   "source": [
    "twenty_test = fetch_20newsgroups(subset='test', categories=categories, shuffle=True, random_state=42)\n",
    "twenty_test.data[:3]"
   ]
  },
  {
   "cell_type": "markdown",
   "metadata": {
    "colab_type": "text",
    "id": "DriL2yZ50DQq"
   },
   "source": [
    "###  a.  You can access the values for the target variable using .target attribute \n",
    "###  b. You can access the name of the class in the target variable with .target_names\n"
   ]
  },
  {
   "cell_type": "code",
   "execution_count": 21,
   "metadata": {
    "colab": {},
    "colab_type": "code",
    "id": "vlUuai99z1hX"
   },
   "outputs": [
    {
     "name": "stdout",
     "output_type": "stream",
     "text": [
      "shape of train set labels (2257,)\n",
      "shape of train set features 2257\n"
     ]
    }
   ],
   "source": [
    "print(\"shape of train set labels\",twenty_train.target.shape)\n",
    "print(\"shape of train set features\",len(twenty_train.data))"
   ]
  },
  {
   "cell_type": "code",
   "execution_count": 22,
   "metadata": {
    "colab": {},
    "colab_type": "code",
    "id": "VEKzaDfSz5E-"
   },
   "outputs": [
    {
     "data": {
      "text/plain": [
       "['alt.atheism', 'comp.graphics', 'sci.med', 'soc.religion.christian']"
      ]
     },
     "execution_count": 22,
     "metadata": {},
     "output_type": "execute_result"
    }
   ],
   "source": [
    "twenty_train.target_names"
   ]
  },
  {
   "cell_type": "markdown",
   "metadata": {
    "colab_type": "text",
    "id": "hTz4EaN_1WGc"
   },
   "source": [
    "### 9.  Now with dependent and independent data available for both train and test datasets, using TfidfVectorizer fit and transform the training data and test data and get the tfidf features for both"
   ]
  },
  {
   "cell_type": "code",
   "execution_count": 23,
   "metadata": {
    "colab": {},
    "colab_type": "code",
    "id": "H5G477f81C0Z"
   },
   "outputs": [],
   "source": [
    "\n",
    "vectorizer = TfidfVectorizer(min_df = 4,ngram_range = (1,2),stop_words = \"english\")\n",
    "X_train = vectorizer.fit_transform(twenty_train.data)\n",
    "X_test = vectorizer.transform(twenty_test.data)"
   ]
  },
  {
   "cell_type": "markdown",
   "metadata": {
    "colab_type": "text",
    "id": "tp_fDINJ1t4L"
   },
   "source": [
    "### 10. Use logisticRegression with tfidf features as input and targets as output and train the model and report the train and test accuracy score"
   ]
  },
  {
   "cell_type": "code",
   "execution_count": 24,
   "metadata": {
    "colab": {},
    "colab_type": "code",
    "id": "THlN2b5d1yQp"
   },
   "outputs": [
    {
     "name": "stderr",
     "output_type": "stream",
     "text": [
      "C:\\ProgramData\\Anaconda3\\lib\\site-packages\\sklearn\\linear_model\\logistic.py:432: FutureWarning: Default solver will be changed to 'lbfgs' in 0.22. Specify a solver to silence this warning.\n",
      "  FutureWarning)\n",
      "C:\\ProgramData\\Anaconda3\\lib\\site-packages\\sklearn\\linear_model\\logistic.py:469: FutureWarning: Default multi_class will be changed to 'auto' in 0.22. Specify the multi_class option to silence this warning.\n",
      "  \"this warning.\", FutureWarning)\n"
     ]
    },
    {
     "name": "stdout",
     "output_type": "stream",
     "text": [
      "training score 0.9920248116969429\n",
      "test score 0.9027962716378163\n"
     ]
    }
   ],
   "source": [
    "from sklearn.linear_model import LogisticRegression\n",
    "\n",
    "LRmodel = LogisticRegression()\n",
    "LRmodel.fit(X_train,twenty_train.target)\n",
    "LR_score_train = LRmodel.score(X_train,twenty_train.target)\n",
    "print(\"training score\",LR_score_train)\n",
    "LR_score_test = LRmodel.score(X_test,twenty_test.target)\n",
    "print(\"test score\",LR_score_test)"
   ]
  },
  {
   "cell_type": "code",
   "execution_count": null,
   "metadata": {},
   "outputs": [],
   "source": []
  }
 ],
 "metadata": {
  "colab": {
   "collapsed_sections": [],
   "name": "R8_External_Lab_Questions_CIFAR10_Transfer_Learning_TFIDF_Text_Classification.ipynb",
   "provenance": [],
   "version": "0.3.2"
  },
  "kernelspec": {
   "display_name": "Python 3",
   "language": "python",
   "name": "python3"
  },
  "language_info": {
   "codemirror_mode": {
    "name": "ipython",
    "version": 3
   },
   "file_extension": ".py",
   "mimetype": "text/x-python",
   "name": "python",
   "nbconvert_exporter": "python",
   "pygments_lexer": "ipython3",
   "version": "3.7.3"
  }
 },
 "nbformat": 4,
 "nbformat_minor": 1
}
